{
 "cells": [
  {
   "cell_type": "markdown",
   "id": "540ea272",
   "metadata": {},
   "source": [
    "1. merk over rating\n",
    "2. merk over price\n",
    "3. merk distribution over location\n",
    "4. merk popularity over location\n",
    "5. merk popularity over price\n",
    "6. location satisfaction over popularity "
   ]
  },
  {
   "cell_type": "code",
   "execution_count": 1,
   "id": "32b9844d",
   "metadata": {},
   "outputs": [],
   "source": [
    "import plotly.express as px\n",
    "import pandas as pd\n",
    "import numpy as np"
   ]
  },
  {
   "cell_type": "code",
   "execution_count": 2,
   "id": "1514d3e9",
   "metadata": {},
   "outputs": [
    {
     "data": {
      "text/html": [
       "<div>\n",
       "<style scoped>\n",
       "    .dataframe tbody tr th:only-of-type {\n",
       "        vertical-align: middle;\n",
       "    }\n",
       "\n",
       "    .dataframe tbody tr th {\n",
       "        vertical-align: top;\n",
       "    }\n",
       "\n",
       "    .dataframe thead th {\n",
       "        text-align: right;\n",
       "    }\n",
       "</style>\n",
       "<table border=\"1\" class=\"dataframe\">\n",
       "  <thead>\n",
       "    <tr style=\"text-align: right;\">\n",
       "      <th></th>\n",
       "      <th>Brand</th>\n",
       "      <th>Price (Rp)</th>\n",
       "      <th>Location</th>\n",
       "      <th>Rating</th>\n",
       "      <th>Sold</th>\n",
       "    </tr>\n",
       "  </thead>\n",
       "  <tbody>\n",
       "    <tr>\n",
       "      <th>0</th>\n",
       "      <td>Lenovo</td>\n",
       "      <td>3500000</td>\n",
       "      <td>Jakarta Barat</td>\n",
       "      <td>4.8</td>\n",
       "      <td>50</td>\n",
       "    </tr>\n",
       "    <tr>\n",
       "      <th>1</th>\n",
       "      <td>Asus</td>\n",
       "      <td>5899000</td>\n",
       "      <td>Jakarta Pusat</td>\n",
       "      <td>5.0</td>\n",
       "      <td>30</td>\n",
       "    </tr>\n",
       "    <tr>\n",
       "      <th>2</th>\n",
       "      <td>Dell</td>\n",
       "      <td>2300000</td>\n",
       "      <td>Jakarta Barat</td>\n",
       "      <td>4.7</td>\n",
       "      <td>500</td>\n",
       "    </tr>\n",
       "    <tr>\n",
       "      <th>3</th>\n",
       "      <td>Lenovo</td>\n",
       "      <td>3490000</td>\n",
       "      <td>Jakarta Utara</td>\n",
       "      <td>5.0</td>\n",
       "      <td>1000</td>\n",
       "    </tr>\n",
       "    <tr>\n",
       "      <th>4</th>\n",
       "      <td>Asus</td>\n",
       "      <td>5959000</td>\n",
       "      <td>Surabaya</td>\n",
       "      <td>5.0</td>\n",
       "      <td>40</td>\n",
       "    </tr>\n",
       "    <tr>\n",
       "      <th>...</th>\n",
       "      <td>...</td>\n",
       "      <td>...</td>\n",
       "      <td>...</td>\n",
       "      <td>...</td>\n",
       "      <td>...</td>\n",
       "    </tr>\n",
       "    <tr>\n",
       "      <th>1043</th>\n",
       "      <td>Hp</td>\n",
       "      <td>5849000</td>\n",
       "      <td>Depok</td>\n",
       "      <td>0.0</td>\n",
       "      <td>0</td>\n",
       "    </tr>\n",
       "    <tr>\n",
       "      <th>1044</th>\n",
       "      <td>Asus</td>\n",
       "      <td>5709000</td>\n",
       "      <td>Denpasar</td>\n",
       "      <td>4.8</td>\n",
       "      <td>18</td>\n",
       "    </tr>\n",
       "    <tr>\n",
       "      <th>1045</th>\n",
       "      <td>Asus</td>\n",
       "      <td>7729000</td>\n",
       "      <td>Jakarta Pusat</td>\n",
       "      <td>5.0</td>\n",
       "      <td>9</td>\n",
       "    </tr>\n",
       "    <tr>\n",
       "      <th>1046</th>\n",
       "      <td>Asus</td>\n",
       "      <td>4745000</td>\n",
       "      <td>Denpasar</td>\n",
       "      <td>5.0</td>\n",
       "      <td>2</td>\n",
       "    </tr>\n",
       "    <tr>\n",
       "      <th>1047</th>\n",
       "      <td>Zyrex</td>\n",
       "      <td>2399000</td>\n",
       "      <td>Surabaya</td>\n",
       "      <td>0.0</td>\n",
       "      <td>1</td>\n",
       "    </tr>\n",
       "  </tbody>\n",
       "</table>\n",
       "<p>1048 rows × 5 columns</p>\n",
       "</div>"
      ],
      "text/plain": [
       "       Brand  Price (Rp)       Location  Rating  Sold\n",
       "0     Lenovo     3500000  Jakarta Barat     4.8    50\n",
       "1       Asus     5899000  Jakarta Pusat     5.0    30\n",
       "2       Dell     2300000  Jakarta Barat     4.7   500\n",
       "3     Lenovo     3490000  Jakarta Utara     5.0  1000\n",
       "4       Asus     5959000       Surabaya     5.0    40\n",
       "...      ...         ...            ...     ...   ...\n",
       "1043      Hp     5849000          Depok     0.0     0\n",
       "1044    Asus     5709000       Denpasar     4.8    18\n",
       "1045    Asus     7729000  Jakarta Pusat     5.0     9\n",
       "1046    Asus     4745000       Denpasar     5.0     2\n",
       "1047   Zyrex     2399000       Surabaya     0.0     1\n",
       "\n",
       "[1048 rows x 5 columns]"
      ]
     },
     "execution_count": 2,
     "metadata": {},
     "output_type": "execute_result"
    }
   ],
   "source": [
    "df = pd.read_csv('../02. Cleansing/formatted_data.csv')\n",
    "df"
   ]
  },
  {
   "cell_type": "code",
   "execution_count": 3,
   "id": "d4eefc7b",
   "metadata": {},
   "outputs": [
    {
     "data": {
      "text/html": [
       "<div>\n",
       "<style scoped>\n",
       "    .dataframe tbody tr th:only-of-type {\n",
       "        vertical-align: middle;\n",
       "    }\n",
       "\n",
       "    .dataframe tbody tr th {\n",
       "        vertical-align: top;\n",
       "    }\n",
       "\n",
       "    .dataframe thead th {\n",
       "        text-align: right;\n",
       "    }\n",
       "</style>\n",
       "<table border=\"1\" class=\"dataframe\">\n",
       "  <thead>\n",
       "    <tr style=\"text-align: right;\">\n",
       "      <th></th>\n",
       "      <th>Brand</th>\n",
       "      <th>Rating</th>\n",
       "    </tr>\n",
       "  </thead>\n",
       "  <tbody>\n",
       "    <tr>\n",
       "      <th>0</th>\n",
       "      <td>Maxone</td>\n",
       "      <td>0.0</td>\n",
       "    </tr>\n",
       "    <tr>\n",
       "      <th>1</th>\n",
       "      <td>Huawei</td>\n",
       "      <td>0.0</td>\n",
       "    </tr>\n",
       "    <tr>\n",
       "      <th>2</th>\n",
       "      <td>Xiaomi</td>\n",
       "      <td>0.0</td>\n",
       "    </tr>\n",
       "    <tr>\n",
       "      <th>3</th>\n",
       "      <td>Hasee</td>\n",
       "      <td>0.0</td>\n",
       "    </tr>\n",
       "    <tr>\n",
       "      <th>4</th>\n",
       "      <td>Vaio</td>\n",
       "      <td>2.5</td>\n",
       "    </tr>\n",
       "    <tr>\n",
       "      <th>5</th>\n",
       "      <td>Msi</td>\n",
       "      <td>3.2</td>\n",
       "    </tr>\n",
       "    <tr>\n",
       "      <th>6</th>\n",
       "      <td>Acer</td>\n",
       "      <td>3.4</td>\n",
       "    </tr>\n",
       "    <tr>\n",
       "      <th>7</th>\n",
       "      <td>Ast</td>\n",
       "      <td>3.8</td>\n",
       "    </tr>\n",
       "    <tr>\n",
       "      <th>8</th>\n",
       "      <td>Asus</td>\n",
       "      <td>3.9</td>\n",
       "    </tr>\n",
       "    <tr>\n",
       "      <th>9</th>\n",
       "      <td>Toshiba</td>\n",
       "      <td>4.1</td>\n",
       "    </tr>\n",
       "    <tr>\n",
       "      <th>10</th>\n",
       "      <td>Hp</td>\n",
       "      <td>4.2</td>\n",
       "    </tr>\n",
       "    <tr>\n",
       "      <th>11</th>\n",
       "      <td>Dell</td>\n",
       "      <td>4.2</td>\n",
       "    </tr>\n",
       "    <tr>\n",
       "      <th>12</th>\n",
       "      <td>Zyrex</td>\n",
       "      <td>4.2</td>\n",
       "    </tr>\n",
       "    <tr>\n",
       "      <th>13</th>\n",
       "      <td>Lenovo</td>\n",
       "      <td>4.3</td>\n",
       "    </tr>\n",
       "    <tr>\n",
       "      <th>14</th>\n",
       "      <td>Infinix</td>\n",
       "      <td>4.4</td>\n",
       "    </tr>\n",
       "    <tr>\n",
       "      <th>15</th>\n",
       "      <td>Axioo</td>\n",
       "      <td>4.4</td>\n",
       "    </tr>\n",
       "    <tr>\n",
       "      <th>16</th>\n",
       "      <td>Apple</td>\n",
       "      <td>4.7</td>\n",
       "    </tr>\n",
       "    <tr>\n",
       "      <th>17</th>\n",
       "      <td>Samsung</td>\n",
       "      <td>4.8</td>\n",
       "    </tr>\n",
       "    <tr>\n",
       "      <th>18</th>\n",
       "      <td>Advan</td>\n",
       "      <td>4.8</td>\n",
       "    </tr>\n",
       "    <tr>\n",
       "      <th>19</th>\n",
       "      <td>Fujitsu</td>\n",
       "      <td>4.9</td>\n",
       "    </tr>\n",
       "    <tr>\n",
       "      <th>20</th>\n",
       "      <td>Amoli</td>\n",
       "      <td>4.9</td>\n",
       "    </tr>\n",
       "    <tr>\n",
       "      <th>21</th>\n",
       "      <td>Chuwi</td>\n",
       "      <td>5.0</td>\n",
       "    </tr>\n",
       "    <tr>\n",
       "      <th>22</th>\n",
       "      <td>Microsoft</td>\n",
       "      <td>5.0</td>\n",
       "    </tr>\n",
       "    <tr>\n",
       "      <th>23</th>\n",
       "      <td>Spc</td>\n",
       "      <td>5.0</td>\n",
       "    </tr>\n",
       "    <tr>\n",
       "      <th>24</th>\n",
       "      <td>Tecno</td>\n",
       "      <td>5.0</td>\n",
       "    </tr>\n",
       "    <tr>\n",
       "      <th>25</th>\n",
       "      <td>Google</td>\n",
       "      <td>5.0</td>\n",
       "    </tr>\n",
       "  </tbody>\n",
       "</table>\n",
       "</div>"
      ],
      "text/plain": [
       "        Brand  Rating\n",
       "0      Maxone     0.0\n",
       "1      Huawei     0.0\n",
       "2      Xiaomi     0.0\n",
       "3       Hasee     0.0\n",
       "4        Vaio     2.5\n",
       "5         Msi     3.2\n",
       "6        Acer     3.4\n",
       "7         Ast     3.8\n",
       "8        Asus     3.9\n",
       "9     Toshiba     4.1\n",
       "10         Hp     4.2\n",
       "11       Dell     4.2\n",
       "12      Zyrex     4.2\n",
       "13     Lenovo     4.3\n",
       "14    Infinix     4.4\n",
       "15      Axioo     4.4\n",
       "16      Apple     4.7\n",
       "17    Samsung     4.8\n",
       "18      Advan     4.8\n",
       "19    Fujitsu     4.9\n",
       "20      Amoli     4.9\n",
       "21      Chuwi     5.0\n",
       "22  Microsoft     5.0\n",
       "23        Spc     5.0\n",
       "24      Tecno     5.0\n",
       "25     Google     5.0"
      ]
     },
     "execution_count": 3,
     "metadata": {},
     "output_type": "execute_result"
    }
   ],
   "source": [
    "brand_rating = df.groupby(['Brand'])['Rating'].mean().round(1).sort_values().reset_index()\n",
    "brand_rating"
   ]
  },
  {
   "cell_type": "code",
   "execution_count": 4,
   "id": "f9d2860f",
   "metadata": {},
   "outputs": [
    {
     "data": {
      "application/vnd.plotly.v1+json": {
       "config": {
        "plotlyServerURL": "https://plot.ly"
       },
       "data": [
        {
         "alignmentgroup": "True",
         "hovertemplate": "<b>%{x}</b><br>Rating: %{y}<extra></extra>",
         "legendgroup": "",
         "marker": {
          "color": [
           0,
           0,
           0,
           0,
           2.5,
           3.2,
           3.4,
           3.8,
           3.9,
           4.1,
           4.2,
           4.2,
           4.2,
           4.3,
           4.4,
           4.4,
           4.7,
           4.8,
           4.8,
           4.9,
           4.9,
           5,
           5,
           5,
           5,
           5
          ],
          "coloraxis": "coloraxis",
          "line": {
           "color": "#000000",
           "width": 1
          },
          "pattern": {
           "shape": ""
          }
         },
         "name": "",
         "offsetgroup": "",
         "orientation": "v",
         "showlegend": false,
         "textposition": "inside",
         "texttemplate": "%{y}",
         "type": "bar",
         "x": [
          "Maxone",
          "Huawei",
          "Xiaomi",
          "Hasee",
          "Vaio",
          "Msi",
          "Acer",
          "Ast",
          "Asus",
          "Toshiba",
          "Hp",
          "Dell",
          "Zyrex",
          "Lenovo",
          "Infinix",
          "Axioo",
          "Apple",
          "Samsung",
          "Advan",
          "Fujitsu",
          "Amoli",
          "Chuwi",
          "Microsoft",
          "Spc",
          "Tecno",
          "Google"
         ],
         "xaxis": "x",
         "y": [
          0,
          0,
          0,
          0,
          2.5,
          3.2,
          3.4,
          3.8,
          3.9,
          4.1,
          4.2,
          4.2,
          4.2,
          4.3,
          4.4,
          4.4,
          4.7,
          4.8,
          4.8,
          4.9,
          4.9,
          5,
          5,
          5,
          5,
          5
         ],
         "yaxis": "y"
        }
       ],
       "layout": {
        "barmode": "relative",
        "coloraxis": {
         "colorbar": {
          "thickness": 30,
          "tickfont": {
           "color": "black"
          },
          "ticks": "inside",
          "ticktext": [
           "1",
           "2",
           "3",
           "4"
          ],
          "tickvals": [
           1,
           2,
           3,
           4
          ],
          "title": {
           "font": {
            "size": 14
           },
           "text": "Rating<br>Scale"
          }
         },
         "colorscale": [
          [
           0,
           "#0d0887"
          ],
          [
           0.1111111111111111,
           "#46039f"
          ],
          [
           0.2222222222222222,
           "#7201a8"
          ],
          [
           0.3333333333333333,
           "#9c179e"
          ],
          [
           0.4444444444444444,
           "#bd3786"
          ],
          [
           0.5555555555555556,
           "#d8576b"
          ],
          [
           0.6666666666666666,
           "#ed7953"
          ],
          [
           0.7777777777777778,
           "#fb9f3a"
          ],
          [
           0.8888888888888888,
           "#fdca26"
          ],
          [
           1,
           "#f0f921"
          ]
         ]
        },
        "font": {
         "color": "black"
        },
        "height": 500,
        "legend": {
         "tracegroupgap": 0
        },
        "margin": {
         "b": 20,
         "l": 20,
         "r": 20,
         "t": 40
        },
        "paper_bgcolor": "lightgray",
        "plot_bgcolor": "white",
        "template": {
         "data": {
          "bar": [
           {
            "error_x": {
             "color": "#2a3f5f"
            },
            "error_y": {
             "color": "#2a3f5f"
            },
            "marker": {
             "line": {
              "color": "#E5ECF6",
              "width": 0.5
             },
             "pattern": {
              "fillmode": "overlay",
              "size": 10,
              "solidity": 0.2
             }
            },
            "type": "bar"
           }
          ],
          "barpolar": [
           {
            "marker": {
             "line": {
              "color": "#E5ECF6",
              "width": 0.5
             },
             "pattern": {
              "fillmode": "overlay",
              "size": 10,
              "solidity": 0.2
             }
            },
            "type": "barpolar"
           }
          ],
          "carpet": [
           {
            "aaxis": {
             "endlinecolor": "#2a3f5f",
             "gridcolor": "white",
             "linecolor": "white",
             "minorgridcolor": "white",
             "startlinecolor": "#2a3f5f"
            },
            "baxis": {
             "endlinecolor": "#2a3f5f",
             "gridcolor": "white",
             "linecolor": "white",
             "minorgridcolor": "white",
             "startlinecolor": "#2a3f5f"
            },
            "type": "carpet"
           }
          ],
          "choropleth": [
           {
            "colorbar": {
             "outlinewidth": 0,
             "ticks": ""
            },
            "type": "choropleth"
           }
          ],
          "contour": [
           {
            "colorbar": {
             "outlinewidth": 0,
             "ticks": ""
            },
            "colorscale": [
             [
              0,
              "#0d0887"
             ],
             [
              0.1111111111111111,
              "#46039f"
             ],
             [
              0.2222222222222222,
              "#7201a8"
             ],
             [
              0.3333333333333333,
              "#9c179e"
             ],
             [
              0.4444444444444444,
              "#bd3786"
             ],
             [
              0.5555555555555556,
              "#d8576b"
             ],
             [
              0.6666666666666666,
              "#ed7953"
             ],
             [
              0.7777777777777778,
              "#fb9f3a"
             ],
             [
              0.8888888888888888,
              "#fdca26"
             ],
             [
              1,
              "#f0f921"
             ]
            ],
            "type": "contour"
           }
          ],
          "contourcarpet": [
           {
            "colorbar": {
             "outlinewidth": 0,
             "ticks": ""
            },
            "type": "contourcarpet"
           }
          ],
          "heatmap": [
           {
            "colorbar": {
             "outlinewidth": 0,
             "ticks": ""
            },
            "colorscale": [
             [
              0,
              "#0d0887"
             ],
             [
              0.1111111111111111,
              "#46039f"
             ],
             [
              0.2222222222222222,
              "#7201a8"
             ],
             [
              0.3333333333333333,
              "#9c179e"
             ],
             [
              0.4444444444444444,
              "#bd3786"
             ],
             [
              0.5555555555555556,
              "#d8576b"
             ],
             [
              0.6666666666666666,
              "#ed7953"
             ],
             [
              0.7777777777777778,
              "#fb9f3a"
             ],
             [
              0.8888888888888888,
              "#fdca26"
             ],
             [
              1,
              "#f0f921"
             ]
            ],
            "type": "heatmap"
           }
          ],
          "heatmapgl": [
           {
            "colorbar": {
             "outlinewidth": 0,
             "ticks": ""
            },
            "colorscale": [
             [
              0,
              "#0d0887"
             ],
             [
              0.1111111111111111,
              "#46039f"
             ],
             [
              0.2222222222222222,
              "#7201a8"
             ],
             [
              0.3333333333333333,
              "#9c179e"
             ],
             [
              0.4444444444444444,
              "#bd3786"
             ],
             [
              0.5555555555555556,
              "#d8576b"
             ],
             [
              0.6666666666666666,
              "#ed7953"
             ],
             [
              0.7777777777777778,
              "#fb9f3a"
             ],
             [
              0.8888888888888888,
              "#fdca26"
             ],
             [
              1,
              "#f0f921"
             ]
            ],
            "type": "heatmapgl"
           }
          ],
          "histogram": [
           {
            "marker": {
             "pattern": {
              "fillmode": "overlay",
              "size": 10,
              "solidity": 0.2
             }
            },
            "type": "histogram"
           }
          ],
          "histogram2d": [
           {
            "colorbar": {
             "outlinewidth": 0,
             "ticks": ""
            },
            "colorscale": [
             [
              0,
              "#0d0887"
             ],
             [
              0.1111111111111111,
              "#46039f"
             ],
             [
              0.2222222222222222,
              "#7201a8"
             ],
             [
              0.3333333333333333,
              "#9c179e"
             ],
             [
              0.4444444444444444,
              "#bd3786"
             ],
             [
              0.5555555555555556,
              "#d8576b"
             ],
             [
              0.6666666666666666,
              "#ed7953"
             ],
             [
              0.7777777777777778,
              "#fb9f3a"
             ],
             [
              0.8888888888888888,
              "#fdca26"
             ],
             [
              1,
              "#f0f921"
             ]
            ],
            "type": "histogram2d"
           }
          ],
          "histogram2dcontour": [
           {
            "colorbar": {
             "outlinewidth": 0,
             "ticks": ""
            },
            "colorscale": [
             [
              0,
              "#0d0887"
             ],
             [
              0.1111111111111111,
              "#46039f"
             ],
             [
              0.2222222222222222,
              "#7201a8"
             ],
             [
              0.3333333333333333,
              "#9c179e"
             ],
             [
              0.4444444444444444,
              "#bd3786"
             ],
             [
              0.5555555555555556,
              "#d8576b"
             ],
             [
              0.6666666666666666,
              "#ed7953"
             ],
             [
              0.7777777777777778,
              "#fb9f3a"
             ],
             [
              0.8888888888888888,
              "#fdca26"
             ],
             [
              1,
              "#f0f921"
             ]
            ],
            "type": "histogram2dcontour"
           }
          ],
          "mesh3d": [
           {
            "colorbar": {
             "outlinewidth": 0,
             "ticks": ""
            },
            "type": "mesh3d"
           }
          ],
          "parcoords": [
           {
            "line": {
             "colorbar": {
              "outlinewidth": 0,
              "ticks": ""
             }
            },
            "type": "parcoords"
           }
          ],
          "pie": [
           {
            "automargin": true,
            "type": "pie"
           }
          ],
          "scatter": [
           {
            "fillpattern": {
             "fillmode": "overlay",
             "size": 10,
             "solidity": 0.2
            },
            "type": "scatter"
           }
          ],
          "scatter3d": [
           {
            "line": {
             "colorbar": {
              "outlinewidth": 0,
              "ticks": ""
             }
            },
            "marker": {
             "colorbar": {
              "outlinewidth": 0,
              "ticks": ""
             }
            },
            "type": "scatter3d"
           }
          ],
          "scattercarpet": [
           {
            "marker": {
             "colorbar": {
              "outlinewidth": 0,
              "ticks": ""
             }
            },
            "type": "scattercarpet"
           }
          ],
          "scattergeo": [
           {
            "marker": {
             "colorbar": {
              "outlinewidth": 0,
              "ticks": ""
             }
            },
            "type": "scattergeo"
           }
          ],
          "scattergl": [
           {
            "marker": {
             "colorbar": {
              "outlinewidth": 0,
              "ticks": ""
             }
            },
            "type": "scattergl"
           }
          ],
          "scattermapbox": [
           {
            "marker": {
             "colorbar": {
              "outlinewidth": 0,
              "ticks": ""
             }
            },
            "type": "scattermapbox"
           }
          ],
          "scatterpolar": [
           {
            "marker": {
             "colorbar": {
              "outlinewidth": 0,
              "ticks": ""
             }
            },
            "type": "scatterpolar"
           }
          ],
          "scatterpolargl": [
           {
            "marker": {
             "colorbar": {
              "outlinewidth": 0,
              "ticks": ""
             }
            },
            "type": "scatterpolargl"
           }
          ],
          "scatterternary": [
           {
            "marker": {
             "colorbar": {
              "outlinewidth": 0,
              "ticks": ""
             }
            },
            "type": "scatterternary"
           }
          ],
          "surface": [
           {
            "colorbar": {
             "outlinewidth": 0,
             "ticks": ""
            },
            "colorscale": [
             [
              0,
              "#0d0887"
             ],
             [
              0.1111111111111111,
              "#46039f"
             ],
             [
              0.2222222222222222,
              "#7201a8"
             ],
             [
              0.3333333333333333,
              "#9c179e"
             ],
             [
              0.4444444444444444,
              "#bd3786"
             ],
             [
              0.5555555555555556,
              "#d8576b"
             ],
             [
              0.6666666666666666,
              "#ed7953"
             ],
             [
              0.7777777777777778,
              "#fb9f3a"
             ],
             [
              0.8888888888888888,
              "#fdca26"
             ],
             [
              1,
              "#f0f921"
             ]
            ],
            "type": "surface"
           }
          ],
          "table": [
           {
            "cells": {
             "fill": {
              "color": "#EBF0F8"
             },
             "line": {
              "color": "white"
             }
            },
            "header": {
             "fill": {
              "color": "#C8D4E3"
             },
             "line": {
              "color": "white"
             }
            },
            "type": "table"
           }
          ]
         },
         "layout": {
          "annotationdefaults": {
           "arrowcolor": "#2a3f5f",
           "arrowhead": 0,
           "arrowwidth": 1
          },
          "autotypenumbers": "strict",
          "coloraxis": {
           "colorbar": {
            "outlinewidth": 0,
            "ticks": ""
           }
          },
          "colorscale": {
           "diverging": [
            [
             0,
             "#8e0152"
            ],
            [
             0.1,
             "#c51b7d"
            ],
            [
             0.2,
             "#de77ae"
            ],
            [
             0.3,
             "#f1b6da"
            ],
            [
             0.4,
             "#fde0ef"
            ],
            [
             0.5,
             "#f7f7f7"
            ],
            [
             0.6,
             "#e6f5d0"
            ],
            [
             0.7,
             "#b8e186"
            ],
            [
             0.8,
             "#7fbc41"
            ],
            [
             0.9,
             "#4d9221"
            ],
            [
             1,
             "#276419"
            ]
           ],
           "sequential": [
            [
             0,
             "#0d0887"
            ],
            [
             0.1111111111111111,
             "#46039f"
            ],
            [
             0.2222222222222222,
             "#7201a8"
            ],
            [
             0.3333333333333333,
             "#9c179e"
            ],
            [
             0.4444444444444444,
             "#bd3786"
            ],
            [
             0.5555555555555556,
             "#d8576b"
            ],
            [
             0.6666666666666666,
             "#ed7953"
            ],
            [
             0.7777777777777778,
             "#fb9f3a"
            ],
            [
             0.8888888888888888,
             "#fdca26"
            ],
            [
             1,
             "#f0f921"
            ]
           ],
           "sequentialminus": [
            [
             0,
             "#0d0887"
            ],
            [
             0.1111111111111111,
             "#46039f"
            ],
            [
             0.2222222222222222,
             "#7201a8"
            ],
            [
             0.3333333333333333,
             "#9c179e"
            ],
            [
             0.4444444444444444,
             "#bd3786"
            ],
            [
             0.5555555555555556,
             "#d8576b"
            ],
            [
             0.6666666666666666,
             "#ed7953"
            ],
            [
             0.7777777777777778,
             "#fb9f3a"
            ],
            [
             0.8888888888888888,
             "#fdca26"
            ],
            [
             1,
             "#f0f921"
            ]
           ]
          },
          "colorway": [
           "#636efa",
           "#EF553B",
           "#00cc96",
           "#ab63fa",
           "#FFA15A",
           "#19d3f3",
           "#FF6692",
           "#B6E880",
           "#FF97FF",
           "#FECB52"
          ],
          "font": {
           "color": "#2a3f5f"
          },
          "geo": {
           "bgcolor": "white",
           "lakecolor": "white",
           "landcolor": "#E5ECF6",
           "showlakes": true,
           "showland": true,
           "subunitcolor": "white"
          },
          "hoverlabel": {
           "align": "left"
          },
          "hovermode": "closest",
          "mapbox": {
           "style": "light"
          },
          "paper_bgcolor": "white",
          "plot_bgcolor": "#E5ECF6",
          "polar": {
           "angularaxis": {
            "gridcolor": "white",
            "linecolor": "white",
            "ticks": ""
           },
           "bgcolor": "#E5ECF6",
           "radialaxis": {
            "gridcolor": "white",
            "linecolor": "white",
            "ticks": ""
           }
          },
          "scene": {
           "xaxis": {
            "backgroundcolor": "#E5ECF6",
            "gridcolor": "white",
            "gridwidth": 2,
            "linecolor": "white",
            "showbackground": true,
            "ticks": "",
            "zerolinecolor": "white"
           },
           "yaxis": {
            "backgroundcolor": "#E5ECF6",
            "gridcolor": "white",
            "gridwidth": 2,
            "linecolor": "white",
            "showbackground": true,
            "ticks": "",
            "zerolinecolor": "white"
           },
           "zaxis": {
            "backgroundcolor": "#E5ECF6",
            "gridcolor": "white",
            "gridwidth": 2,
            "linecolor": "white",
            "showbackground": true,
            "ticks": "",
            "zerolinecolor": "white"
           }
          },
          "shapedefaults": {
           "line": {
            "color": "#2a3f5f"
           }
          },
          "ternary": {
           "aaxis": {
            "gridcolor": "white",
            "linecolor": "white",
            "ticks": ""
           },
           "baxis": {
            "gridcolor": "white",
            "linecolor": "white",
            "ticks": ""
           },
           "bgcolor": "#E5ECF6",
           "caxis": {
            "gridcolor": "white",
            "linecolor": "white",
            "ticks": ""
           }
          },
          "title": {
           "x": 0.05
          },
          "xaxis": {
           "automargin": true,
           "gridcolor": "white",
           "linecolor": "white",
           "ticks": "",
           "title": {
            "standoff": 15
           },
           "zerolinecolor": "white",
           "zerolinewidth": 2
          },
          "yaxis": {
           "automargin": true,
           "gridcolor": "white",
           "linecolor": "white",
           "ticks": "",
           "title": {
            "standoff": 15
           },
           "zerolinecolor": "white",
           "zerolinewidth": 2
          }
         }
        },
        "title": {
         "text": "<b>Average Rating by Brand<b>",
         "x": 0.5,
         "y": 0.96
        },
        "xaxis": {
         "anchor": "y",
         "domain": [
          0,
          1
         ],
         "title": {
          "text": "Brand"
         }
        },
        "yaxis": {
         "anchor": "x",
         "domain": [
          0,
          1
         ],
         "title": {
          "text": "Rating"
         }
        }
       }
      }
     },
     "metadata": {},
     "output_type": "display_data"
    }
   ],
   "source": [
    "fig = px.bar(\n",
    "    brand_rating,\n",
    "    x='Brand',\n",
    "    y='Rating',\n",
    "    hover_data=['Rating'],\n",
    "    orientation='v',\n",
    "    color='Rating',\n",
    "    color_continuous_scale='Plasma',\n",
    "    title='<b>Average Rating by Brand<b>',\n",
    ")\n",
    "\n",
    "fig.update_layout(\n",
    "    margin=dict(l=20, r=20, t=40, b=20),\n",
    "    height=500,\n",
    "    paper_bgcolor='lightgray',\n",
    "    plot_bgcolor='white',\n",
    "    title_x=0.5,\n",
    "    title_y=0.96,\n",
    "    font_color='black',\n",
    ")\n",
    "\n",
    "fig.update_traces(\n",
    "    hovertemplate=\"<b>%{x}</b><br>Rating: %{y}<extra></extra>\",\n",
    "    texttemplate='%{y}',\n",
    "    textposition='inside',\n",
    "    marker=dict(line=dict(color=\"#000000\", width=1))\n",
    ")\n",
    "\n",
    "fig.update_coloraxes(colorbar=dict(\n",
    "    title=dict(\n",
    "        text=\"Rating<br>Scale\", \n",
    "        font=dict(size=14),\n",
    "    ),         \n",
    "    tickvals=[1, 2, 3, 4],  \n",
    "    ticktext=['1', '2', '3', '4'],\n",
    "    ticks='inside',\n",
    "    thickness=30,\n",
    "    tickfont=dict(color='black')\n",
    "))\n",
    "\n",
    "fig.show()"
   ]
  },
  {
   "cell_type": "code",
   "execution_count": 5,
   "id": "3eadba42",
   "metadata": {},
   "outputs": [
    {
     "data": {
      "text/html": [
       "<div>\n",
       "<style scoped>\n",
       "    .dataframe tbody tr th:only-of-type {\n",
       "        vertical-align: middle;\n",
       "    }\n",
       "\n",
       "    .dataframe tbody tr th {\n",
       "        vertical-align: top;\n",
       "    }\n",
       "\n",
       "    .dataframe thead th {\n",
       "        text-align: right;\n",
       "    }\n",
       "</style>\n",
       "<table border=\"1\" class=\"dataframe\">\n",
       "  <thead>\n",
       "    <tr style=\"text-align: right;\">\n",
       "      <th></th>\n",
       "      <th>Brand</th>\n",
       "      <th>Price (Rp)</th>\n",
       "    </tr>\n",
       "  </thead>\n",
       "  <tbody>\n",
       "    <tr>\n",
       "      <th>0</th>\n",
       "      <td>Vaio</td>\n",
       "      <td>1525000.0</td>\n",
       "    </tr>\n",
       "    <tr>\n",
       "      <th>1</th>\n",
       "      <td>Toshiba</td>\n",
       "      <td>2562847.0</td>\n",
       "    </tr>\n",
       "    <tr>\n",
       "      <th>2</th>\n",
       "      <td>Xiaomi</td>\n",
       "      <td>2600000.0</td>\n",
       "    </tr>\n",
       "    <tr>\n",
       "      <th>3</th>\n",
       "      <td>Google</td>\n",
       "      <td>2800000.0</td>\n",
       "    </tr>\n",
       "    <tr>\n",
       "      <th>4</th>\n",
       "      <td>Amoli</td>\n",
       "      <td>3115000.0</td>\n",
       "    </tr>\n",
       "    <tr>\n",
       "      <th>5</th>\n",
       "      <td>Zyrex</td>\n",
       "      <td>3131143.0</td>\n",
       "    </tr>\n",
       "    <tr>\n",
       "      <th>6</th>\n",
       "      <td>Fujitsu</td>\n",
       "      <td>3513333.0</td>\n",
       "    </tr>\n",
       "    <tr>\n",
       "      <th>7</th>\n",
       "      <td>Spc</td>\n",
       "      <td>3749000.0</td>\n",
       "    </tr>\n",
       "    <tr>\n",
       "      <th>8</th>\n",
       "      <td>Axioo</td>\n",
       "      <td>4063667.0</td>\n",
       "    </tr>\n",
       "    <tr>\n",
       "      <th>9</th>\n",
       "      <td>Hasee</td>\n",
       "      <td>4250000.0</td>\n",
       "    </tr>\n",
       "    <tr>\n",
       "      <th>10</th>\n",
       "      <td>Maxone</td>\n",
       "      <td>4350000.0</td>\n",
       "    </tr>\n",
       "    <tr>\n",
       "      <th>11</th>\n",
       "      <td>Advan</td>\n",
       "      <td>5032133.0</td>\n",
       "    </tr>\n",
       "    <tr>\n",
       "      <th>12</th>\n",
       "      <td>Acer</td>\n",
       "      <td>5417843.0</td>\n",
       "    </tr>\n",
       "    <tr>\n",
       "      <th>13</th>\n",
       "      <td>Microsoft</td>\n",
       "      <td>5514500.0</td>\n",
       "    </tr>\n",
       "    <tr>\n",
       "      <th>14</th>\n",
       "      <td>Infinix</td>\n",
       "      <td>5598800.0</td>\n",
       "    </tr>\n",
       "    <tr>\n",
       "      <th>15</th>\n",
       "      <td>Lenovo</td>\n",
       "      <td>5728765.0</td>\n",
       "    </tr>\n",
       "    <tr>\n",
       "      <th>16</th>\n",
       "      <td>Chuwi</td>\n",
       "      <td>6499000.0</td>\n",
       "    </tr>\n",
       "    <tr>\n",
       "      <th>17</th>\n",
       "      <td>Tecno</td>\n",
       "      <td>6999000.0</td>\n",
       "    </tr>\n",
       "    <tr>\n",
       "      <th>18</th>\n",
       "      <td>Huawei</td>\n",
       "      <td>7397000.0</td>\n",
       "    </tr>\n",
       "    <tr>\n",
       "      <th>19</th>\n",
       "      <td>Apple</td>\n",
       "      <td>7887000.0</td>\n",
       "    </tr>\n",
       "    <tr>\n",
       "      <th>20</th>\n",
       "      <td>Asus</td>\n",
       "      <td>8017795.0</td>\n",
       "    </tr>\n",
       "    <tr>\n",
       "      <th>21</th>\n",
       "      <td>Samsung</td>\n",
       "      <td>9055750.0</td>\n",
       "    </tr>\n",
       "    <tr>\n",
       "      <th>22</th>\n",
       "      <td>Ast</td>\n",
       "      <td>9441400.0</td>\n",
       "    </tr>\n",
       "    <tr>\n",
       "      <th>23</th>\n",
       "      <td>Dell</td>\n",
       "      <td>10105645.0</td>\n",
       "    </tr>\n",
       "    <tr>\n",
       "      <th>24</th>\n",
       "      <td>Hp</td>\n",
       "      <td>15355081.0</td>\n",
       "    </tr>\n",
       "    <tr>\n",
       "      <th>25</th>\n",
       "      <td>Msi</td>\n",
       "      <td>17515053.0</td>\n",
       "    </tr>\n",
       "  </tbody>\n",
       "</table>\n",
       "</div>"
      ],
      "text/plain": [
       "        Brand  Price (Rp)\n",
       "0        Vaio   1525000.0\n",
       "1     Toshiba   2562847.0\n",
       "2      Xiaomi   2600000.0\n",
       "3      Google   2800000.0\n",
       "4       Amoli   3115000.0\n",
       "5       Zyrex   3131143.0\n",
       "6     Fujitsu   3513333.0\n",
       "7         Spc   3749000.0\n",
       "8       Axioo   4063667.0\n",
       "9       Hasee   4250000.0\n",
       "10     Maxone   4350000.0\n",
       "11      Advan   5032133.0\n",
       "12       Acer   5417843.0\n",
       "13  Microsoft   5514500.0\n",
       "14    Infinix   5598800.0\n",
       "15     Lenovo   5728765.0\n",
       "16      Chuwi   6499000.0\n",
       "17      Tecno   6999000.0\n",
       "18     Huawei   7397000.0\n",
       "19      Apple   7887000.0\n",
       "20       Asus   8017795.0\n",
       "21    Samsung   9055750.0\n",
       "22        Ast   9441400.0\n",
       "23       Dell  10105645.0\n",
       "24         Hp  15355081.0\n",
       "25        Msi  17515053.0"
      ]
     },
     "execution_count": 5,
     "metadata": {},
     "output_type": "execute_result"
    }
   ],
   "source": [
    "brand_price = df.groupby(['Brand'])['Price (Rp)'].mean().round().sort_values().reset_index()\n",
    "brand_price"
   ]
  },
  {
   "cell_type": "code",
   "execution_count": 38,
   "id": "91078ba3",
   "metadata": {},
   "outputs": [
    {
     "data": {
      "application/vnd.plotly.v1+json": {
       "config": {
        "plotlyServerURL": "https://plot.ly"
       },
       "data": [
        {
         "alignmentgroup": "True",
         "customdata": [
          1.525,
          2.562847,
          2.6,
          2.8,
          3.115,
          3.131143,
          3.513333,
          3.749,
          4.063667,
          4.25,
          4.35,
          5.032133,
          5.417843,
          5.5145,
          5.5988,
          5.728765,
          6.499,
          6.999,
          7.397,
          7.887,
          8.017795,
          9.05575,
          9.4414,
          10.105645,
          15.355081,
          17.515053
         ],
         "hovertemplate": "<b>%{x}</b><br>Price (Rp): %{customdata:.1f}M<extra></extra>",
         "legendgroup": "",
         "marker": {
          "color": [
           1525000,
           2562847,
           2600000,
           2800000,
           3115000,
           3131143,
           3513333,
           3749000,
           4063667,
           4250000,
           4350000,
           5032133,
           5417843,
           5514500,
           5598800,
           5728765,
           6499000,
           6999000,
           7397000,
           7887000,
           8017795,
           9055750,
           9441400,
           10105645,
           15355081,
           17515053
          ],
          "coloraxis": "coloraxis",
          "line": {
           "color": "#ffffff",
           "width": 0.5
          },
          "pattern": {
           "shape": ""
          }
         },
         "name": "",
         "offsetgroup": "",
         "orientation": "v",
         "showlegend": false,
         "textposition": "outside",
         "texttemplate": "%{customdata:.1f}M",
         "type": "bar",
         "x": [
          "Vaio",
          "Toshiba",
          "Xiaomi",
          "Google",
          "Amoli",
          "Zyrex",
          "Fujitsu",
          "Spc",
          "Axioo",
          "Hasee",
          "Maxone",
          "Advan",
          "Acer",
          "Microsoft",
          "Infinix",
          "Lenovo",
          "Chuwi",
          "Tecno",
          "Huawei",
          "Apple",
          "Asus",
          "Samsung",
          "Ast",
          "Dell",
          "Hp",
          "Msi"
         ],
         "xaxis": "x",
         "y": [
          1525000,
          2562847,
          2600000,
          2800000,
          3115000,
          3131143,
          3513333,
          3749000,
          4063667,
          4250000,
          4350000,
          5032133,
          5417843,
          5514500,
          5598800,
          5728765,
          6499000,
          6999000,
          7397000,
          7887000,
          8017795,
          9055750,
          9441400,
          10105645,
          15355081,
          17515053
         ],
         "yaxis": "y"
        }
       ],
       "layout": {
        "barmode": "relative",
        "coloraxis": {
         "colorbar": {
          "title": {
           "text": "Price (Rp)"
          }
         },
         "colorscale": [
          [
           0,
           "#0d0887"
          ],
          [
           0.1111111111111111,
           "#46039f"
          ],
          [
           0.2222222222222222,
           "#7201a8"
          ],
          [
           0.3333333333333333,
           "#9c179e"
          ],
          [
           0.4444444444444444,
           "#bd3786"
          ],
          [
           0.5555555555555556,
           "#d8576b"
          ],
          [
           0.6666666666666666,
           "#ed7953"
          ],
          [
           0.7777777777777778,
           "#fb9f3a"
          ],
          [
           0.8888888888888888,
           "#fdca26"
          ],
          [
           1,
           "#f0f921"
          ]
         ]
        },
        "font": {
         "color": "black"
        },
        "height": 500,
        "legend": {
         "tracegroupgap": 0
        },
        "margin": {
         "b": 20,
         "l": 20,
         "r": 20,
         "t": 40
        },
        "paper_bgcolor": "lightgray",
        "plot_bgcolor": "white",
        "template": {
         "data": {
          "bar": [
           {
            "error_x": {
             "color": "#2a3f5f"
            },
            "error_y": {
             "color": "#2a3f5f"
            },
            "marker": {
             "line": {
              "color": "#E5ECF6",
              "width": 0.5
             },
             "pattern": {
              "fillmode": "overlay",
              "size": 10,
              "solidity": 0.2
             }
            },
            "type": "bar"
           }
          ],
          "barpolar": [
           {
            "marker": {
             "line": {
              "color": "#E5ECF6",
              "width": 0.5
             },
             "pattern": {
              "fillmode": "overlay",
              "size": 10,
              "solidity": 0.2
             }
            },
            "type": "barpolar"
           }
          ],
          "carpet": [
           {
            "aaxis": {
             "endlinecolor": "#2a3f5f",
             "gridcolor": "white",
             "linecolor": "white",
             "minorgridcolor": "white",
             "startlinecolor": "#2a3f5f"
            },
            "baxis": {
             "endlinecolor": "#2a3f5f",
             "gridcolor": "white",
             "linecolor": "white",
             "minorgridcolor": "white",
             "startlinecolor": "#2a3f5f"
            },
            "type": "carpet"
           }
          ],
          "choropleth": [
           {
            "colorbar": {
             "outlinewidth": 0,
             "ticks": ""
            },
            "type": "choropleth"
           }
          ],
          "contour": [
           {
            "colorbar": {
             "outlinewidth": 0,
             "ticks": ""
            },
            "colorscale": [
             [
              0,
              "#0d0887"
             ],
             [
              0.1111111111111111,
              "#46039f"
             ],
             [
              0.2222222222222222,
              "#7201a8"
             ],
             [
              0.3333333333333333,
              "#9c179e"
             ],
             [
              0.4444444444444444,
              "#bd3786"
             ],
             [
              0.5555555555555556,
              "#d8576b"
             ],
             [
              0.6666666666666666,
              "#ed7953"
             ],
             [
              0.7777777777777778,
              "#fb9f3a"
             ],
             [
              0.8888888888888888,
              "#fdca26"
             ],
             [
              1,
              "#f0f921"
             ]
            ],
            "type": "contour"
           }
          ],
          "contourcarpet": [
           {
            "colorbar": {
             "outlinewidth": 0,
             "ticks": ""
            },
            "type": "contourcarpet"
           }
          ],
          "heatmap": [
           {
            "colorbar": {
             "outlinewidth": 0,
             "ticks": ""
            },
            "colorscale": [
             [
              0,
              "#0d0887"
             ],
             [
              0.1111111111111111,
              "#46039f"
             ],
             [
              0.2222222222222222,
              "#7201a8"
             ],
             [
              0.3333333333333333,
              "#9c179e"
             ],
             [
              0.4444444444444444,
              "#bd3786"
             ],
             [
              0.5555555555555556,
              "#d8576b"
             ],
             [
              0.6666666666666666,
              "#ed7953"
             ],
             [
              0.7777777777777778,
              "#fb9f3a"
             ],
             [
              0.8888888888888888,
              "#fdca26"
             ],
             [
              1,
              "#f0f921"
             ]
            ],
            "type": "heatmap"
           }
          ],
          "heatmapgl": [
           {
            "colorbar": {
             "outlinewidth": 0,
             "ticks": ""
            },
            "colorscale": [
             [
              0,
              "#0d0887"
             ],
             [
              0.1111111111111111,
              "#46039f"
             ],
             [
              0.2222222222222222,
              "#7201a8"
             ],
             [
              0.3333333333333333,
              "#9c179e"
             ],
             [
              0.4444444444444444,
              "#bd3786"
             ],
             [
              0.5555555555555556,
              "#d8576b"
             ],
             [
              0.6666666666666666,
              "#ed7953"
             ],
             [
              0.7777777777777778,
              "#fb9f3a"
             ],
             [
              0.8888888888888888,
              "#fdca26"
             ],
             [
              1,
              "#f0f921"
             ]
            ],
            "type": "heatmapgl"
           }
          ],
          "histogram": [
           {
            "marker": {
             "pattern": {
              "fillmode": "overlay",
              "size": 10,
              "solidity": 0.2
             }
            },
            "type": "histogram"
           }
          ],
          "histogram2d": [
           {
            "colorbar": {
             "outlinewidth": 0,
             "ticks": ""
            },
            "colorscale": [
             [
              0,
              "#0d0887"
             ],
             [
              0.1111111111111111,
              "#46039f"
             ],
             [
              0.2222222222222222,
              "#7201a8"
             ],
             [
              0.3333333333333333,
              "#9c179e"
             ],
             [
              0.4444444444444444,
              "#bd3786"
             ],
             [
              0.5555555555555556,
              "#d8576b"
             ],
             [
              0.6666666666666666,
              "#ed7953"
             ],
             [
              0.7777777777777778,
              "#fb9f3a"
             ],
             [
              0.8888888888888888,
              "#fdca26"
             ],
             [
              1,
              "#f0f921"
             ]
            ],
            "type": "histogram2d"
           }
          ],
          "histogram2dcontour": [
           {
            "colorbar": {
             "outlinewidth": 0,
             "ticks": ""
            },
            "colorscale": [
             [
              0,
              "#0d0887"
             ],
             [
              0.1111111111111111,
              "#46039f"
             ],
             [
              0.2222222222222222,
              "#7201a8"
             ],
             [
              0.3333333333333333,
              "#9c179e"
             ],
             [
              0.4444444444444444,
              "#bd3786"
             ],
             [
              0.5555555555555556,
              "#d8576b"
             ],
             [
              0.6666666666666666,
              "#ed7953"
             ],
             [
              0.7777777777777778,
              "#fb9f3a"
             ],
             [
              0.8888888888888888,
              "#fdca26"
             ],
             [
              1,
              "#f0f921"
             ]
            ],
            "type": "histogram2dcontour"
           }
          ],
          "mesh3d": [
           {
            "colorbar": {
             "outlinewidth": 0,
             "ticks": ""
            },
            "type": "mesh3d"
           }
          ],
          "parcoords": [
           {
            "line": {
             "colorbar": {
              "outlinewidth": 0,
              "ticks": ""
             }
            },
            "type": "parcoords"
           }
          ],
          "pie": [
           {
            "automargin": true,
            "type": "pie"
           }
          ],
          "scatter": [
           {
            "fillpattern": {
             "fillmode": "overlay",
             "size": 10,
             "solidity": 0.2
            },
            "type": "scatter"
           }
          ],
          "scatter3d": [
           {
            "line": {
             "colorbar": {
              "outlinewidth": 0,
              "ticks": ""
             }
            },
            "marker": {
             "colorbar": {
              "outlinewidth": 0,
              "ticks": ""
             }
            },
            "type": "scatter3d"
           }
          ],
          "scattercarpet": [
           {
            "marker": {
             "colorbar": {
              "outlinewidth": 0,
              "ticks": ""
             }
            },
            "type": "scattercarpet"
           }
          ],
          "scattergeo": [
           {
            "marker": {
             "colorbar": {
              "outlinewidth": 0,
              "ticks": ""
             }
            },
            "type": "scattergeo"
           }
          ],
          "scattergl": [
           {
            "marker": {
             "colorbar": {
              "outlinewidth": 0,
              "ticks": ""
             }
            },
            "type": "scattergl"
           }
          ],
          "scattermapbox": [
           {
            "marker": {
             "colorbar": {
              "outlinewidth": 0,
              "ticks": ""
             }
            },
            "type": "scattermapbox"
           }
          ],
          "scatterpolar": [
           {
            "marker": {
             "colorbar": {
              "outlinewidth": 0,
              "ticks": ""
             }
            },
            "type": "scatterpolar"
           }
          ],
          "scatterpolargl": [
           {
            "marker": {
             "colorbar": {
              "outlinewidth": 0,
              "ticks": ""
             }
            },
            "type": "scatterpolargl"
           }
          ],
          "scatterternary": [
           {
            "marker": {
             "colorbar": {
              "outlinewidth": 0,
              "ticks": ""
             }
            },
            "type": "scatterternary"
           }
          ],
          "surface": [
           {
            "colorbar": {
             "outlinewidth": 0,
             "ticks": ""
            },
            "colorscale": [
             [
              0,
              "#0d0887"
             ],
             [
              0.1111111111111111,
              "#46039f"
             ],
             [
              0.2222222222222222,
              "#7201a8"
             ],
             [
              0.3333333333333333,
              "#9c179e"
             ],
             [
              0.4444444444444444,
              "#bd3786"
             ],
             [
              0.5555555555555556,
              "#d8576b"
             ],
             [
              0.6666666666666666,
              "#ed7953"
             ],
             [
              0.7777777777777778,
              "#fb9f3a"
             ],
             [
              0.8888888888888888,
              "#fdca26"
             ],
             [
              1,
              "#f0f921"
             ]
            ],
            "type": "surface"
           }
          ],
          "table": [
           {
            "cells": {
             "fill": {
              "color": "#EBF0F8"
             },
             "line": {
              "color": "white"
             }
            },
            "header": {
             "fill": {
              "color": "#C8D4E3"
             },
             "line": {
              "color": "white"
             }
            },
            "type": "table"
           }
          ]
         },
         "layout": {
          "annotationdefaults": {
           "arrowcolor": "#2a3f5f",
           "arrowhead": 0,
           "arrowwidth": 1
          },
          "autotypenumbers": "strict",
          "coloraxis": {
           "colorbar": {
            "outlinewidth": 0,
            "ticks": ""
           }
          },
          "colorscale": {
           "diverging": [
            [
             0,
             "#8e0152"
            ],
            [
             0.1,
             "#c51b7d"
            ],
            [
             0.2,
             "#de77ae"
            ],
            [
             0.3,
             "#f1b6da"
            ],
            [
             0.4,
             "#fde0ef"
            ],
            [
             0.5,
             "#f7f7f7"
            ],
            [
             0.6,
             "#e6f5d0"
            ],
            [
             0.7,
             "#b8e186"
            ],
            [
             0.8,
             "#7fbc41"
            ],
            [
             0.9,
             "#4d9221"
            ],
            [
             1,
             "#276419"
            ]
           ],
           "sequential": [
            [
             0,
             "#0d0887"
            ],
            [
             0.1111111111111111,
             "#46039f"
            ],
            [
             0.2222222222222222,
             "#7201a8"
            ],
            [
             0.3333333333333333,
             "#9c179e"
            ],
            [
             0.4444444444444444,
             "#bd3786"
            ],
            [
             0.5555555555555556,
             "#d8576b"
            ],
            [
             0.6666666666666666,
             "#ed7953"
            ],
            [
             0.7777777777777778,
             "#fb9f3a"
            ],
            [
             0.8888888888888888,
             "#fdca26"
            ],
            [
             1,
             "#f0f921"
            ]
           ],
           "sequentialminus": [
            [
             0,
             "#0d0887"
            ],
            [
             0.1111111111111111,
             "#46039f"
            ],
            [
             0.2222222222222222,
             "#7201a8"
            ],
            [
             0.3333333333333333,
             "#9c179e"
            ],
            [
             0.4444444444444444,
             "#bd3786"
            ],
            [
             0.5555555555555556,
             "#d8576b"
            ],
            [
             0.6666666666666666,
             "#ed7953"
            ],
            [
             0.7777777777777778,
             "#fb9f3a"
            ],
            [
             0.8888888888888888,
             "#fdca26"
            ],
            [
             1,
             "#f0f921"
            ]
           ]
          },
          "colorway": [
           "#636efa",
           "#EF553B",
           "#00cc96",
           "#ab63fa",
           "#FFA15A",
           "#19d3f3",
           "#FF6692",
           "#B6E880",
           "#FF97FF",
           "#FECB52"
          ],
          "font": {
           "color": "#2a3f5f"
          },
          "geo": {
           "bgcolor": "white",
           "lakecolor": "white",
           "landcolor": "#E5ECF6",
           "showlakes": true,
           "showland": true,
           "subunitcolor": "white"
          },
          "hoverlabel": {
           "align": "left"
          },
          "hovermode": "closest",
          "mapbox": {
           "style": "light"
          },
          "paper_bgcolor": "white",
          "plot_bgcolor": "#E5ECF6",
          "polar": {
           "angularaxis": {
            "gridcolor": "white",
            "linecolor": "white",
            "ticks": ""
           },
           "bgcolor": "#E5ECF6",
           "radialaxis": {
            "gridcolor": "white",
            "linecolor": "white",
            "ticks": ""
           }
          },
          "scene": {
           "xaxis": {
            "backgroundcolor": "#E5ECF6",
            "gridcolor": "white",
            "gridwidth": 2,
            "linecolor": "white",
            "showbackground": true,
            "ticks": "",
            "zerolinecolor": "white"
           },
           "yaxis": {
            "backgroundcolor": "#E5ECF6",
            "gridcolor": "white",
            "gridwidth": 2,
            "linecolor": "white",
            "showbackground": true,
            "ticks": "",
            "zerolinecolor": "white"
           },
           "zaxis": {
            "backgroundcolor": "#E5ECF6",
            "gridcolor": "white",
            "gridwidth": 2,
            "linecolor": "white",
            "showbackground": true,
            "ticks": "",
            "zerolinecolor": "white"
           }
          },
          "shapedefaults": {
           "line": {
            "color": "#2a3f5f"
           }
          },
          "ternary": {
           "aaxis": {
            "gridcolor": "white",
            "linecolor": "white",
            "ticks": ""
           },
           "baxis": {
            "gridcolor": "white",
            "linecolor": "white",
            "ticks": ""
           },
           "bgcolor": "#E5ECF6",
           "caxis": {
            "gridcolor": "white",
            "linecolor": "white",
            "ticks": ""
           }
          },
          "title": {
           "x": 0.05
          },
          "xaxis": {
           "automargin": true,
           "gridcolor": "white",
           "linecolor": "white",
           "ticks": "",
           "title": {
            "standoff": 15
           },
           "zerolinecolor": "white",
           "zerolinewidth": 2
          },
          "yaxis": {
           "automargin": true,
           "gridcolor": "white",
           "linecolor": "white",
           "ticks": "",
           "title": {
            "standoff": 15
           },
           "zerolinecolor": "white",
           "zerolinewidth": 2
          }
         }
        },
        "title": {
         "text": "<b>Average Price by Brand<b>",
         "x": 0.5,
         "y": 0.96
        },
        "xaxis": {
         "anchor": "y",
         "domain": [
          0,
          1
         ],
         "title": {
          "text": "Brand"
         }
        },
        "yaxis": {
         "anchor": "x",
         "domain": [
          0,
          1
         ],
         "title": {
          "text": "Price (Rp)"
         }
        }
       }
      }
     },
     "metadata": {},
     "output_type": "display_data"
    }
   ],
   "source": [
    "fig = px.bar(\n",
    "    brand_price, x='Brand', y='Price (Rp)',\n",
    "    hover_data=['Price (Rp)'],\n",
    "    orientation='v',\n",
    "    color='Price (Rp)',\n",
    "    title='<b>Average Price by Brand<b>'\n",
    ")\n",
    "\n",
    "fig.update_layout(\n",
    "    margin=dict(l=20, r=20, t=40, b=20),\n",
    "    height=500,\n",
    "    paper_bgcolor='lightgray',\n",
    "    plot_bgcolor='white',\n",
    "    title_x=0.5,\n",
    "    title_y=0.96,\n",
    "    font_color='black',\n",
    ")\n",
    "\n",
    "fig.update_traces(\n",
    "    customdata=brand_price['Price (Rp)'] / 1000000,\n",
    "    hovertemplate=\"<b>%{x}</b><br>Price (Rp): %{customdata:.1f}M<extra></extra>\",\n",
    "    texttemplate='%{customdata:.1f}M',\n",
    "    textposition='outside',\n",
    "    marker=dict(line=dict(color='#ffffff', width=0.5))\n",
    ")\n",
    "\n",
    "fig.show()"
   ]
  },
  {
   "cell_type": "code",
   "execution_count": 7,
   "id": "e3b8aaa6",
   "metadata": {},
   "outputs": [
    {
     "data": {
      "text/html": [
       "<div>\n",
       "<style scoped>\n",
       "    .dataframe tbody tr th:only-of-type {\n",
       "        vertical-align: middle;\n",
       "    }\n",
       "\n",
       "    .dataframe tbody tr th {\n",
       "        vertical-align: top;\n",
       "    }\n",
       "\n",
       "    .dataframe thead th {\n",
       "        text-align: right;\n",
       "    }\n",
       "</style>\n",
       "<table border=\"1\" class=\"dataframe\">\n",
       "  <thead>\n",
       "    <tr style=\"text-align: right;\">\n",
       "      <th></th>\n",
       "      <th>Brand</th>\n",
       "      <th>Location</th>\n",
       "      <th>Count</th>\n",
       "    </tr>\n",
       "  </thead>\n",
       "  <tbody>\n",
       "    <tr>\n",
       "      <th>0</th>\n",
       "      <td>Acer</td>\n",
       "      <td>Jakarta Utara</td>\n",
       "      <td>14</td>\n",
       "    </tr>\n",
       "    <tr>\n",
       "      <th>1</th>\n",
       "      <td>Acer</td>\n",
       "      <td>Jakarta Pusat</td>\n",
       "      <td>8</td>\n",
       "    </tr>\n",
       "    <tr>\n",
       "      <th>2</th>\n",
       "      <td>Acer</td>\n",
       "      <td>Jakarta Barat</td>\n",
       "      <td>6</td>\n",
       "    </tr>\n",
       "    <tr>\n",
       "      <th>3</th>\n",
       "      <td>Acer</td>\n",
       "      <td>Malang</td>\n",
       "      <td>6</td>\n",
       "    </tr>\n",
       "    <tr>\n",
       "      <th>4</th>\n",
       "      <td>Acer</td>\n",
       "      <td>Jakarta Selatan</td>\n",
       "      <td>5</td>\n",
       "    </tr>\n",
       "    <tr>\n",
       "      <th>...</th>\n",
       "      <td>...</td>\n",
       "      <td>...</td>\n",
       "      <td>...</td>\n",
       "    </tr>\n",
       "    <tr>\n",
       "      <th>152</th>\n",
       "      <td>Xiaomi</td>\n",
       "      <td>Surabaya</td>\n",
       "      <td>1</td>\n",
       "    </tr>\n",
       "    <tr>\n",
       "      <th>153</th>\n",
       "      <td>Zyrex</td>\n",
       "      <td>Jakarta Utara</td>\n",
       "      <td>10</td>\n",
       "    </tr>\n",
       "    <tr>\n",
       "      <th>154</th>\n",
       "      <td>Zyrex</td>\n",
       "      <td>Jakarta Selatan</td>\n",
       "      <td>2</td>\n",
       "    </tr>\n",
       "    <tr>\n",
       "      <th>155</th>\n",
       "      <td>Zyrex</td>\n",
       "      <td>Bekasi</td>\n",
       "      <td>1</td>\n",
       "    </tr>\n",
       "    <tr>\n",
       "      <th>156</th>\n",
       "      <td>Zyrex</td>\n",
       "      <td>Surabaya</td>\n",
       "      <td>1</td>\n",
       "    </tr>\n",
       "  </tbody>\n",
       "</table>\n",
       "<p>157 rows × 3 columns</p>\n",
       "</div>"
      ],
      "text/plain": [
       "      Brand         Location  Count\n",
       "0      Acer    Jakarta Utara     14\n",
       "1      Acer    Jakarta Pusat      8\n",
       "2      Acer    Jakarta Barat      6\n",
       "3      Acer           Malang      6\n",
       "4      Acer  Jakarta Selatan      5\n",
       "..      ...              ...    ...\n",
       "152  Xiaomi         Surabaya      1\n",
       "153   Zyrex    Jakarta Utara     10\n",
       "154   Zyrex  Jakarta Selatan      2\n",
       "155   Zyrex           Bekasi      1\n",
       "156   Zyrex         Surabaya      1\n",
       "\n",
       "[157 rows x 3 columns]"
      ]
     },
     "execution_count": 7,
     "metadata": {},
     "output_type": "execute_result"
    }
   ],
   "source": [
    "brand_location = df.groupby(['Brand'])['Location'].value_counts().reset_index().rename(columns={'count':'Count'})\n",
    "brand_location"
   ]
  },
  {
   "cell_type": "code",
   "execution_count": 8,
   "id": "d690ddbb",
   "metadata": {},
   "outputs": [
    {
     "data": {
      "application/vnd.plotly.v1+json": {
       "config": {
        "plotlyServerURL": "https://plot.ly"
       },
       "data": [
        {
         "coloraxis": "coloraxis",
         "histfunc": "sum",
         "hovertemplate": "<b>%{x}<br><b>Location</b>: %{y}<br><b>Count</b>: %{z}<br><extra></extra>",
         "name": "",
         "type": "histogram2d",
         "x": [
          "Acer",
          "Acer",
          "Acer",
          "Acer",
          "Acer",
          "Acer",
          "Acer",
          "Acer",
          "Acer",
          "Acer",
          "Acer",
          "Acer",
          "Advan",
          "Advan",
          "Advan",
          "Advan",
          "Advan",
          "Advan",
          "Advan",
          "Amoli",
          "Apple",
          "Apple",
          "Apple",
          "Apple",
          "Apple",
          "Apple",
          "Apple",
          "Apple",
          "Apple",
          "Apple",
          "Ast",
          "Asus",
          "Asus",
          "Asus",
          "Asus",
          "Asus",
          "Asus",
          "Asus",
          "Asus",
          "Asus",
          "Asus",
          "Asus",
          "Asus",
          "Asus",
          "Asus",
          "Asus",
          "Asus",
          "Asus",
          "Asus",
          "Asus",
          "Asus",
          "Asus",
          "Asus",
          "Axioo",
          "Axioo",
          "Axioo",
          "Axioo",
          "Axioo",
          "Axioo",
          "Axioo",
          "Axioo",
          "Axioo",
          "Axioo",
          "Axioo",
          "Chuwi",
          "Dell",
          "Dell",
          "Dell",
          "Dell",
          "Dell",
          "Dell",
          "Dell",
          "Dell",
          "Dell",
          "Dell",
          "Dell",
          "Dell",
          "Fujitsu",
          "Fujitsu",
          "Fujitsu",
          "Google",
          "Hasee",
          "Hp",
          "Hp",
          "Hp",
          "Hp",
          "Hp",
          "Hp",
          "Hp",
          "Hp",
          "Hp",
          "Hp",
          "Hp",
          "Hp",
          "Hp",
          "Hp",
          "Hp",
          "Huawei",
          "Infinix",
          "Infinix",
          "Infinix",
          "Infinix",
          "Lenovo",
          "Lenovo",
          "Lenovo",
          "Lenovo",
          "Lenovo",
          "Lenovo",
          "Lenovo",
          "Lenovo",
          "Lenovo",
          "Lenovo",
          "Lenovo",
          "Lenovo",
          "Lenovo",
          "Lenovo",
          "Lenovo",
          "Lenovo",
          "Lenovo",
          "Lenovo",
          "Lenovo",
          "Lenovo",
          "Lenovo",
          "Lenovo",
          "Lenovo",
          "Lenovo",
          "Lenovo",
          "Lenovo",
          "Lenovo",
          "Maxone",
          "Microsoft",
          "Microsoft",
          "Msi",
          "Msi",
          "Msi",
          "Msi",
          "Msi",
          "Msi",
          "Msi",
          "Msi",
          "Msi",
          "Samsung",
          "Samsung",
          "Samsung",
          "Spc",
          "Tecno",
          "Tecno",
          "Toshiba",
          "Toshiba",
          "Toshiba",
          "Toshiba",
          "Vaio",
          "Xiaomi",
          "Zyrex",
          "Zyrex",
          "Zyrex",
          "Zyrex"
         ],
         "xaxis": "x",
         "xbingroup": "x",
         "y": [
          "Jakarta Utara",
          "Jakarta Pusat",
          "Jakarta Barat",
          "Malang",
          "Jakarta Selatan",
          "Surabaya",
          "Jakarta Timur",
          "Tangerang",
          "Bandung",
          "Pontianak",
          "Kab. Subang",
          "Kab. Bekasi",
          "Jakarta Utara",
          "Kab. Tangerang",
          "Jakarta Pusat",
          "Tangerang",
          "Surabaya",
          "Jakarta Selatan",
          "Bogor",
          "Jakarta Barat",
          "Jakarta Pusat",
          "Jakarta Selatan",
          "Kab. Tangerang",
          "Tangerang",
          "Jakarta Utara",
          "Tangerang Selatan",
          "Surabaya",
          "Denpasar",
          "Batam",
          "Bandung",
          "Jakarta Barat",
          "Jakarta Utara",
          "Jakarta Pusat",
          "Jakarta Barat",
          "Bandung",
          "Jakarta Selatan",
          "Jakarta Timur",
          "Surabaya",
          "Tangerang",
          "Denpasar",
          "Malang",
          "Medan",
          "Bekasi",
          "Depok",
          "Bogor",
          "Kab. Karawang",
          "Kab. Tangerang",
          "Makassar",
          "Tangerang Selatan",
          "Kediri",
          "Kab. Sleman",
          "Kab. Lebak",
          "Kab. Kotawaringin Barat",
          "Jakarta Utara",
          "Jakarta Selatan",
          "Jakarta Pusat",
          "Malang",
          "Surabaya",
          "Jakarta Barat",
          "Denpasar",
          "Depok",
          "Medan",
          "Bandung",
          "Jakarta Timur",
          "Jakarta Barat",
          "Jakarta Pusat",
          "Jakarta Barat",
          "Bogor",
          "Jakarta Utara",
          "Bandung",
          "Cirebon",
          "Tangerang",
          "Surabaya",
          "Kab. Tangerang",
          "Jakarta Timur",
          "Jakarta Selatan",
          "Depok",
          "Jakarta Pusat",
          "Jakarta Barat",
          "Batam",
          "Jakarta Pusat",
          "Jakarta Utara",
          "Jakarta Utara",
          "Jakarta Barat",
          "Jakarta Pusat",
          "Jakarta Selatan",
          "Bandung",
          "Kab. Bekasi",
          "Tangerang Selatan",
          "Bekasi",
          "Kab. Sleman",
          "Tangerang",
          "Surabaya",
          "Pekanbaru",
          "Makassar",
          "Kab. Kendal",
          "Depok",
          "Jakarta Utara",
          "Jakarta Pusat",
          "Jakarta Utara",
          "Malang",
          "Bandung",
          "Jakarta Utara",
          "Jakarta Barat",
          "Jakarta Pusat",
          "Bandung",
          "Jakarta Selatan",
          "Surabaya",
          "Depok",
          "Malang",
          "Kab. Tangerang",
          "Bogor",
          "Tangerang Selatan",
          "Denpasar",
          "Tangerang",
          "Yogyakarta",
          "Makassar",
          "Kab. Bogor",
          "Pekanbaru",
          "Pontianak",
          "Semarang",
          "Kab. Gresik",
          "Kab. Sleman",
          "Medan",
          "Tasikmalaya",
          "Kab. Karawang",
          "Kab. Bekasi",
          "Kab. Bandung",
          "Bekasi",
          "Malang",
          "Jakarta Utara",
          "Bekasi",
          "Jakarta Pusat",
          "Tangerang",
          "Jakarta Utara",
          "Jakarta Selatan",
          "Surakarta",
          "Surabaya",
          "Kab. Cirebon",
          "Kab. Bogor",
          "Jakarta Barat",
          "Jakarta Utara",
          "Jakarta Barat",
          "Tangerang",
          "Jakarta Pusat",
          "Jakarta Utara",
          "Jakarta Selatan",
          "Jakarta Pusat",
          "Surabaya",
          "Jakarta Barat",
          "Bogor",
          "Jakarta Pusat",
          "Surabaya",
          "Jakarta Utara",
          "Jakarta Selatan",
          "Bekasi",
          "Surabaya"
         ],
         "yaxis": "y",
         "ybingroup": "y",
         "z": [
          14,
          8,
          6,
          6,
          5,
          5,
          4,
          2,
          1,
          1,
          1,
          1,
          9,
          9,
          8,
          1,
          1,
          1,
          1,
          2,
          5,
          4,
          3,
          3,
          2,
          1,
          1,
          1,
          1,
          1,
          4,
          81,
          69,
          24,
          17,
          13,
          11,
          8,
          7,
          7,
          5,
          5,
          4,
          3,
          2,
          2,
          2,
          2,
          2,
          1,
          1,
          1,
          1,
          24,
          15,
          9,
          7,
          3,
          3,
          3,
          2,
          1,
          1,
          1,
          1,
          20,
          17,
          7,
          6,
          5,
          1,
          1,
          1,
          1,
          1,
          1,
          1,
          6,
          2,
          1,
          1,
          1,
          33,
          23,
          22,
          7,
          4,
          4,
          2,
          2,
          2,
          2,
          2,
          2,
          1,
          1,
          1,
          1,
          6,
          2,
          1,
          1,
          96,
          78,
          74,
          17,
          16,
          12,
          8,
          7,
          5,
          5,
          3,
          3,
          3,
          3,
          3,
          2,
          2,
          2,
          2,
          2,
          2,
          1,
          1,
          1,
          1,
          1,
          1,
          1,
          1,
          1,
          7,
          3,
          2,
          2,
          1,
          1,
          1,
          1,
          1,
          2,
          1,
          1,
          1,
          2,
          1,
          5,
          1,
          1,
          1,
          2,
          1,
          10,
          2,
          1,
          1
         ]
        }
       ],
       "layout": {
        "coloraxis": {
         "colorbar": {
          "title": {
           "text": "Count"
          }
         },
         "colorscale": [
          [
           0,
           "#0d0887"
          ],
          [
           0.1111111111111111,
           "#46039f"
          ],
          [
           0.2222222222222222,
           "#7201a8"
          ],
          [
           0.3333333333333333,
           "#9c179e"
          ],
          [
           0.4444444444444444,
           "#bd3786"
          ],
          [
           0.5555555555555556,
           "#d8576b"
          ],
          [
           0.6666666666666666,
           "#ed7953"
          ],
          [
           0.7777777777777778,
           "#fb9f3a"
          ],
          [
           0.8888888888888888,
           "#fdca26"
          ],
          [
           1,
           "#f0f921"
          ]
         ]
        },
        "font": {
         "color": "black"
        },
        "height": 600,
        "legend": {
         "tracegroupgap": 0
        },
        "margin": {
         "b": 20,
         "l": 20,
         "r": 20,
         "t": 40
        },
        "paper_bgcolor": "lightgray",
        "plot_bgcolor": "white",
        "template": {
         "data": {
          "bar": [
           {
            "error_x": {
             "color": "#2a3f5f"
            },
            "error_y": {
             "color": "#2a3f5f"
            },
            "marker": {
             "line": {
              "color": "#E5ECF6",
              "width": 0.5
             },
             "pattern": {
              "fillmode": "overlay",
              "size": 10,
              "solidity": 0.2
             }
            },
            "type": "bar"
           }
          ],
          "barpolar": [
           {
            "marker": {
             "line": {
              "color": "#E5ECF6",
              "width": 0.5
             },
             "pattern": {
              "fillmode": "overlay",
              "size": 10,
              "solidity": 0.2
             }
            },
            "type": "barpolar"
           }
          ],
          "carpet": [
           {
            "aaxis": {
             "endlinecolor": "#2a3f5f",
             "gridcolor": "white",
             "linecolor": "white",
             "minorgridcolor": "white",
             "startlinecolor": "#2a3f5f"
            },
            "baxis": {
             "endlinecolor": "#2a3f5f",
             "gridcolor": "white",
             "linecolor": "white",
             "minorgridcolor": "white",
             "startlinecolor": "#2a3f5f"
            },
            "type": "carpet"
           }
          ],
          "choropleth": [
           {
            "colorbar": {
             "outlinewidth": 0,
             "ticks": ""
            },
            "type": "choropleth"
           }
          ],
          "contour": [
           {
            "colorbar": {
             "outlinewidth": 0,
             "ticks": ""
            },
            "colorscale": [
             [
              0,
              "#0d0887"
             ],
             [
              0.1111111111111111,
              "#46039f"
             ],
             [
              0.2222222222222222,
              "#7201a8"
             ],
             [
              0.3333333333333333,
              "#9c179e"
             ],
             [
              0.4444444444444444,
              "#bd3786"
             ],
             [
              0.5555555555555556,
              "#d8576b"
             ],
             [
              0.6666666666666666,
              "#ed7953"
             ],
             [
              0.7777777777777778,
              "#fb9f3a"
             ],
             [
              0.8888888888888888,
              "#fdca26"
             ],
             [
              1,
              "#f0f921"
             ]
            ],
            "type": "contour"
           }
          ],
          "contourcarpet": [
           {
            "colorbar": {
             "outlinewidth": 0,
             "ticks": ""
            },
            "type": "contourcarpet"
           }
          ],
          "heatmap": [
           {
            "colorbar": {
             "outlinewidth": 0,
             "ticks": ""
            },
            "colorscale": [
             [
              0,
              "#0d0887"
             ],
             [
              0.1111111111111111,
              "#46039f"
             ],
             [
              0.2222222222222222,
              "#7201a8"
             ],
             [
              0.3333333333333333,
              "#9c179e"
             ],
             [
              0.4444444444444444,
              "#bd3786"
             ],
             [
              0.5555555555555556,
              "#d8576b"
             ],
             [
              0.6666666666666666,
              "#ed7953"
             ],
             [
              0.7777777777777778,
              "#fb9f3a"
             ],
             [
              0.8888888888888888,
              "#fdca26"
             ],
             [
              1,
              "#f0f921"
             ]
            ],
            "type": "heatmap"
           }
          ],
          "heatmapgl": [
           {
            "colorbar": {
             "outlinewidth": 0,
             "ticks": ""
            },
            "colorscale": [
             [
              0,
              "#0d0887"
             ],
             [
              0.1111111111111111,
              "#46039f"
             ],
             [
              0.2222222222222222,
              "#7201a8"
             ],
             [
              0.3333333333333333,
              "#9c179e"
             ],
             [
              0.4444444444444444,
              "#bd3786"
             ],
             [
              0.5555555555555556,
              "#d8576b"
             ],
             [
              0.6666666666666666,
              "#ed7953"
             ],
             [
              0.7777777777777778,
              "#fb9f3a"
             ],
             [
              0.8888888888888888,
              "#fdca26"
             ],
             [
              1,
              "#f0f921"
             ]
            ],
            "type": "heatmapgl"
           }
          ],
          "histogram": [
           {
            "marker": {
             "pattern": {
              "fillmode": "overlay",
              "size": 10,
              "solidity": 0.2
             }
            },
            "type": "histogram"
           }
          ],
          "histogram2d": [
           {
            "colorbar": {
             "outlinewidth": 0,
             "ticks": ""
            },
            "colorscale": [
             [
              0,
              "#0d0887"
             ],
             [
              0.1111111111111111,
              "#46039f"
             ],
             [
              0.2222222222222222,
              "#7201a8"
             ],
             [
              0.3333333333333333,
              "#9c179e"
             ],
             [
              0.4444444444444444,
              "#bd3786"
             ],
             [
              0.5555555555555556,
              "#d8576b"
             ],
             [
              0.6666666666666666,
              "#ed7953"
             ],
             [
              0.7777777777777778,
              "#fb9f3a"
             ],
             [
              0.8888888888888888,
              "#fdca26"
             ],
             [
              1,
              "#f0f921"
             ]
            ],
            "type": "histogram2d"
           }
          ],
          "histogram2dcontour": [
           {
            "colorbar": {
             "outlinewidth": 0,
             "ticks": ""
            },
            "colorscale": [
             [
              0,
              "#0d0887"
             ],
             [
              0.1111111111111111,
              "#46039f"
             ],
             [
              0.2222222222222222,
              "#7201a8"
             ],
             [
              0.3333333333333333,
              "#9c179e"
             ],
             [
              0.4444444444444444,
              "#bd3786"
             ],
             [
              0.5555555555555556,
              "#d8576b"
             ],
             [
              0.6666666666666666,
              "#ed7953"
             ],
             [
              0.7777777777777778,
              "#fb9f3a"
             ],
             [
              0.8888888888888888,
              "#fdca26"
             ],
             [
              1,
              "#f0f921"
             ]
            ],
            "type": "histogram2dcontour"
           }
          ],
          "mesh3d": [
           {
            "colorbar": {
             "outlinewidth": 0,
             "ticks": ""
            },
            "type": "mesh3d"
           }
          ],
          "parcoords": [
           {
            "line": {
             "colorbar": {
              "outlinewidth": 0,
              "ticks": ""
             }
            },
            "type": "parcoords"
           }
          ],
          "pie": [
           {
            "automargin": true,
            "type": "pie"
           }
          ],
          "scatter": [
           {
            "fillpattern": {
             "fillmode": "overlay",
             "size": 10,
             "solidity": 0.2
            },
            "type": "scatter"
           }
          ],
          "scatter3d": [
           {
            "line": {
             "colorbar": {
              "outlinewidth": 0,
              "ticks": ""
             }
            },
            "marker": {
             "colorbar": {
              "outlinewidth": 0,
              "ticks": ""
             }
            },
            "type": "scatter3d"
           }
          ],
          "scattercarpet": [
           {
            "marker": {
             "colorbar": {
              "outlinewidth": 0,
              "ticks": ""
             }
            },
            "type": "scattercarpet"
           }
          ],
          "scattergeo": [
           {
            "marker": {
             "colorbar": {
              "outlinewidth": 0,
              "ticks": ""
             }
            },
            "type": "scattergeo"
           }
          ],
          "scattergl": [
           {
            "marker": {
             "colorbar": {
              "outlinewidth": 0,
              "ticks": ""
             }
            },
            "type": "scattergl"
           }
          ],
          "scattermapbox": [
           {
            "marker": {
             "colorbar": {
              "outlinewidth": 0,
              "ticks": ""
             }
            },
            "type": "scattermapbox"
           }
          ],
          "scatterpolar": [
           {
            "marker": {
             "colorbar": {
              "outlinewidth": 0,
              "ticks": ""
             }
            },
            "type": "scatterpolar"
           }
          ],
          "scatterpolargl": [
           {
            "marker": {
             "colorbar": {
              "outlinewidth": 0,
              "ticks": ""
             }
            },
            "type": "scatterpolargl"
           }
          ],
          "scatterternary": [
           {
            "marker": {
             "colorbar": {
              "outlinewidth": 0,
              "ticks": ""
             }
            },
            "type": "scatterternary"
           }
          ],
          "surface": [
           {
            "colorbar": {
             "outlinewidth": 0,
             "ticks": ""
            },
            "colorscale": [
             [
              0,
              "#0d0887"
             ],
             [
              0.1111111111111111,
              "#46039f"
             ],
             [
              0.2222222222222222,
              "#7201a8"
             ],
             [
              0.3333333333333333,
              "#9c179e"
             ],
             [
              0.4444444444444444,
              "#bd3786"
             ],
             [
              0.5555555555555556,
              "#d8576b"
             ],
             [
              0.6666666666666666,
              "#ed7953"
             ],
             [
              0.7777777777777778,
              "#fb9f3a"
             ],
             [
              0.8888888888888888,
              "#fdca26"
             ],
             [
              1,
              "#f0f921"
             ]
            ],
            "type": "surface"
           }
          ],
          "table": [
           {
            "cells": {
             "fill": {
              "color": "#EBF0F8"
             },
             "line": {
              "color": "white"
             }
            },
            "header": {
             "fill": {
              "color": "#C8D4E3"
             },
             "line": {
              "color": "white"
             }
            },
            "type": "table"
           }
          ]
         },
         "layout": {
          "annotationdefaults": {
           "arrowcolor": "#2a3f5f",
           "arrowhead": 0,
           "arrowwidth": 1
          },
          "autotypenumbers": "strict",
          "coloraxis": {
           "colorbar": {
            "outlinewidth": 0,
            "ticks": ""
           }
          },
          "colorscale": {
           "diverging": [
            [
             0,
             "#8e0152"
            ],
            [
             0.1,
             "#c51b7d"
            ],
            [
             0.2,
             "#de77ae"
            ],
            [
             0.3,
             "#f1b6da"
            ],
            [
             0.4,
             "#fde0ef"
            ],
            [
             0.5,
             "#f7f7f7"
            ],
            [
             0.6,
             "#e6f5d0"
            ],
            [
             0.7,
             "#b8e186"
            ],
            [
             0.8,
             "#7fbc41"
            ],
            [
             0.9,
             "#4d9221"
            ],
            [
             1,
             "#276419"
            ]
           ],
           "sequential": [
            [
             0,
             "#0d0887"
            ],
            [
             0.1111111111111111,
             "#46039f"
            ],
            [
             0.2222222222222222,
             "#7201a8"
            ],
            [
             0.3333333333333333,
             "#9c179e"
            ],
            [
             0.4444444444444444,
             "#bd3786"
            ],
            [
             0.5555555555555556,
             "#d8576b"
            ],
            [
             0.6666666666666666,
             "#ed7953"
            ],
            [
             0.7777777777777778,
             "#fb9f3a"
            ],
            [
             0.8888888888888888,
             "#fdca26"
            ],
            [
             1,
             "#f0f921"
            ]
           ],
           "sequentialminus": [
            [
             0,
             "#0d0887"
            ],
            [
             0.1111111111111111,
             "#46039f"
            ],
            [
             0.2222222222222222,
             "#7201a8"
            ],
            [
             0.3333333333333333,
             "#9c179e"
            ],
            [
             0.4444444444444444,
             "#bd3786"
            ],
            [
             0.5555555555555556,
             "#d8576b"
            ],
            [
             0.6666666666666666,
             "#ed7953"
            ],
            [
             0.7777777777777778,
             "#fb9f3a"
            ],
            [
             0.8888888888888888,
             "#fdca26"
            ],
            [
             1,
             "#f0f921"
            ]
           ]
          },
          "colorway": [
           "#636efa",
           "#EF553B",
           "#00cc96",
           "#ab63fa",
           "#FFA15A",
           "#19d3f3",
           "#FF6692",
           "#B6E880",
           "#FF97FF",
           "#FECB52"
          ],
          "font": {
           "color": "#2a3f5f"
          },
          "geo": {
           "bgcolor": "white",
           "lakecolor": "white",
           "landcolor": "#E5ECF6",
           "showlakes": true,
           "showland": true,
           "subunitcolor": "white"
          },
          "hoverlabel": {
           "align": "left"
          },
          "hovermode": "closest",
          "mapbox": {
           "style": "light"
          },
          "paper_bgcolor": "white",
          "plot_bgcolor": "#E5ECF6",
          "polar": {
           "angularaxis": {
            "gridcolor": "white",
            "linecolor": "white",
            "ticks": ""
           },
           "bgcolor": "#E5ECF6",
           "radialaxis": {
            "gridcolor": "white",
            "linecolor": "white",
            "ticks": ""
           }
          },
          "scene": {
           "xaxis": {
            "backgroundcolor": "#E5ECF6",
            "gridcolor": "white",
            "gridwidth": 2,
            "linecolor": "white",
            "showbackground": true,
            "ticks": "",
            "zerolinecolor": "white"
           },
           "yaxis": {
            "backgroundcolor": "#E5ECF6",
            "gridcolor": "white",
            "gridwidth": 2,
            "linecolor": "white",
            "showbackground": true,
            "ticks": "",
            "zerolinecolor": "white"
           },
           "zaxis": {
            "backgroundcolor": "#E5ECF6",
            "gridcolor": "white",
            "gridwidth": 2,
            "linecolor": "white",
            "showbackground": true,
            "ticks": "",
            "zerolinecolor": "white"
           }
          },
          "shapedefaults": {
           "line": {
            "color": "#2a3f5f"
           }
          },
          "ternary": {
           "aaxis": {
            "gridcolor": "white",
            "linecolor": "white",
            "ticks": ""
           },
           "baxis": {
            "gridcolor": "white",
            "linecolor": "white",
            "ticks": ""
           },
           "bgcolor": "#E5ECF6",
           "caxis": {
            "gridcolor": "white",
            "linecolor": "white",
            "ticks": ""
           }
          },
          "title": {
           "x": 0.05
          },
          "xaxis": {
           "automargin": true,
           "gridcolor": "white",
           "linecolor": "white",
           "ticks": "",
           "title": {
            "standoff": 15
           },
           "zerolinecolor": "white",
           "zerolinewidth": 2
          },
          "yaxis": {
           "automargin": true,
           "gridcolor": "white",
           "linecolor": "white",
           "ticks": "",
           "title": {
            "standoff": 15
           },
           "zerolinecolor": "white",
           "zerolinewidth": 2
          }
         }
        },
        "title": {
         "text": "<b>Brand Distribution Based on Seller Location<b>",
         "x": 0.5,
         "y": 0.97
        },
        "xaxis": {
         "anchor": "y",
         "domain": [
          0,
          1
         ],
         "tickangle": 45,
         "title": {
          "text": "Brand"
         }
        },
        "yaxis": {
         "anchor": "x",
         "domain": [
          0,
          1
         ],
         "title": {
          "text": "Location"
         }
        }
       }
      }
     },
     "metadata": {},
     "output_type": "display_data"
    }
   ],
   "source": [
    "fig = px.density_heatmap(\n",
    "    brand_location,\n",
    "    x='Brand', \n",
    "    y='Location',\n",
    "    z='Count',\n",
    "    height=600,\n",
    "    title='<b>Brand Distribution Based on Seller Location<b>',\n",
    "    hover_data={\n",
    "    'Brand': True,\n",
    "    'Location': True,\n",
    "    }\n",
    ")\n",
    "\n",
    "fig.update_traces(\n",
    "    hovertemplate=\"<br>\".join([\n",
    "        \"<b>%{x}\",\n",
    "        \"<b>Location</b>: %{y}\",\n",
    "        \"<b>Count</b>: %{z}\",\n",
    "        \"<extra></extra>\"\n",
    "    ])\n",
    ")\n",
    "\n",
    "fig.update_layout(\n",
    "    margin=dict(l=20, r=20, t=40, b=20),\n",
    "    paper_bgcolor='lightgray',\n",
    "    plot_bgcolor='white',\n",
    "    title_x=0.5,\n",
    "    title_y=0.97,\n",
    "    font_color='black',\n",
    "    xaxis=dict(\n",
    "        tickangle=45\n",
    "    )\n",
    ")\n",
    "\n",
    "fig.update_coloraxes(colorbar=dict(\n",
    "    title='Count', \n",
    "))\n",
    "\n",
    "fig.show()"
   ]
  },
  {
   "cell_type": "code",
   "execution_count": 9,
   "id": "95f3e1b3",
   "metadata": {},
   "outputs": [
    {
     "data": {
      "text/html": [
       "<div>\n",
       "<style scoped>\n",
       "    .dataframe tbody tr th:only-of-type {\n",
       "        vertical-align: middle;\n",
       "    }\n",
       "\n",
       "    .dataframe tbody tr th {\n",
       "        vertical-align: top;\n",
       "    }\n",
       "\n",
       "    .dataframe thead th {\n",
       "        text-align: right;\n",
       "    }\n",
       "</style>\n",
       "<table border=\"1\" class=\"dataframe\">\n",
       "  <thead>\n",
       "    <tr style=\"text-align: right;\">\n",
       "      <th></th>\n",
       "      <th>Brand</th>\n",
       "      <th>Location</th>\n",
       "      <th>Sold</th>\n",
       "    </tr>\n",
       "  </thead>\n",
       "  <tbody>\n",
       "    <tr>\n",
       "      <th>0</th>\n",
       "      <td>Acer</td>\n",
       "      <td>Bandung</td>\n",
       "      <td>100</td>\n",
       "    </tr>\n",
       "    <tr>\n",
       "      <th>1</th>\n",
       "      <td>Acer</td>\n",
       "      <td>Jakarta Barat</td>\n",
       "      <td>402</td>\n",
       "    </tr>\n",
       "    <tr>\n",
       "      <th>2</th>\n",
       "      <td>Acer</td>\n",
       "      <td>Jakarta Pusat</td>\n",
       "      <td>1465</td>\n",
       "    </tr>\n",
       "    <tr>\n",
       "      <th>3</th>\n",
       "      <td>Acer</td>\n",
       "      <td>Jakarta Selatan</td>\n",
       "      <td>220</td>\n",
       "    </tr>\n",
       "    <tr>\n",
       "      <th>4</th>\n",
       "      <td>Acer</td>\n",
       "      <td>Jakarta Timur</td>\n",
       "      <td>135</td>\n",
       "    </tr>\n",
       "    <tr>\n",
       "      <th>...</th>\n",
       "      <td>...</td>\n",
       "      <td>...</td>\n",
       "      <td>...</td>\n",
       "    </tr>\n",
       "    <tr>\n",
       "      <th>152</th>\n",
       "      <td>Xiaomi</td>\n",
       "      <td>Surabaya</td>\n",
       "      <td>0</td>\n",
       "    </tr>\n",
       "    <tr>\n",
       "      <th>153</th>\n",
       "      <td>Zyrex</td>\n",
       "      <td>Bekasi</td>\n",
       "      <td>0</td>\n",
       "    </tr>\n",
       "    <tr>\n",
       "      <th>154</th>\n",
       "      <td>Zyrex</td>\n",
       "      <td>Jakarta Selatan</td>\n",
       "      <td>200</td>\n",
       "    </tr>\n",
       "    <tr>\n",
       "      <th>155</th>\n",
       "      <td>Zyrex</td>\n",
       "      <td>Jakarta Utara</td>\n",
       "      <td>739</td>\n",
       "    </tr>\n",
       "    <tr>\n",
       "      <th>156</th>\n",
       "      <td>Zyrex</td>\n",
       "      <td>Surabaya</td>\n",
       "      <td>1</td>\n",
       "    </tr>\n",
       "  </tbody>\n",
       "</table>\n",
       "<p>157 rows × 3 columns</p>\n",
       "</div>"
      ],
      "text/plain": [
       "      Brand         Location  Sold\n",
       "0      Acer          Bandung   100\n",
       "1      Acer    Jakarta Barat   402\n",
       "2      Acer    Jakarta Pusat  1465\n",
       "3      Acer  Jakarta Selatan   220\n",
       "4      Acer    Jakarta Timur   135\n",
       "..      ...              ...   ...\n",
       "152  Xiaomi         Surabaya     0\n",
       "153   Zyrex           Bekasi     0\n",
       "154   Zyrex  Jakarta Selatan   200\n",
       "155   Zyrex    Jakarta Utara   739\n",
       "156   Zyrex         Surabaya     1\n",
       "\n",
       "[157 rows x 3 columns]"
      ]
     },
     "execution_count": 9,
     "metadata": {},
     "output_type": "execute_result"
    }
   ],
   "source": [
    "brand_popularity_loc = df.groupby(['Brand', 'Location'])['Sold'].sum().reset_index()\n",
    "brand_popularity_loc"
   ]
  },
  {
   "cell_type": "code",
   "execution_count": 10,
   "id": "d1bb886a",
   "metadata": {},
   "outputs": [
    {
     "data": {
      "application/vnd.plotly.v1+json": {
       "config": {
        "plotlyServerURL": "https://plot.ly"
       },
       "data": [
        {
         "branchvalues": "total",
         "domain": {
          "x": [
           0,
           1
          ],
          "y": [
           0,
           1
          ]
         },
         "hovertemplate": "<b>%{label}</b><br>Sold: %{value}<br>Brand: %{parent}<extra></extra>",
         "ids": [
          "Acer/Bandung",
          "Apple/Bandung",
          "Asus/Bandung",
          "Axioo/Bandung",
          "Dell/Bandung",
          "Hp/Bandung",
          "Infinix/Bandung",
          "Lenovo/Bandung",
          "Apple/Batam",
          "Fujitsu/Batam",
          "Asus/Bekasi",
          "Hp/Bekasi",
          "Lenovo/Bekasi",
          "Microsoft/Bekasi",
          "Zyrex/Bekasi",
          "Advan/Bogor",
          "Asus/Bogor",
          "Dell/Bogor",
          "Lenovo/Bogor",
          "Toshiba/Bogor",
          "Dell/Cirebon",
          "Apple/Denpasar",
          "Asus/Denpasar",
          "Axioo/Denpasar",
          "Lenovo/Denpasar",
          "Asus/Depok",
          "Axioo/Depok",
          "Dell/Depok",
          "Hp/Depok",
          "Lenovo/Depok",
          "Acer/Jakarta Barat",
          "Amoli/Jakarta Barat",
          "Ast/Jakarta Barat",
          "Asus/Jakarta Barat",
          "Axioo/Jakarta Barat",
          "Chuwi/Jakarta Barat",
          "Dell/Jakarta Barat",
          "Fujitsu/Jakarta Barat",
          "Hp/Jakarta Barat",
          "Lenovo/Jakarta Barat",
          "Msi/Jakarta Barat",
          "Samsung/Jakarta Barat",
          "Toshiba/Jakarta Barat",
          "Acer/Jakarta Pusat",
          "Advan/Jakarta Pusat",
          "Apple/Jakarta Pusat",
          "Asus/Jakarta Pusat",
          "Axioo/Jakarta Pusat",
          "Dell/Jakarta Pusat",
          "Fujitsu/Jakarta Pusat",
          "Google/Jakarta Pusat",
          "Hp/Jakarta Pusat",
          "Infinix/Jakarta Pusat",
          "Lenovo/Jakarta Pusat",
          "Msi/Jakarta Pusat",
          "Spc/Jakarta Pusat",
          "Toshiba/Jakarta Pusat",
          "Vaio/Jakarta Pusat",
          "Acer/Jakarta Selatan",
          "Advan/Jakarta Selatan",
          "Apple/Jakarta Selatan",
          "Asus/Jakarta Selatan",
          "Axioo/Jakarta Selatan",
          "Dell/Jakarta Selatan",
          "Hp/Jakarta Selatan",
          "Lenovo/Jakarta Selatan",
          "Msi/Jakarta Selatan",
          "Tecno/Jakarta Selatan",
          "Zyrex/Jakarta Selatan",
          "Acer/Jakarta Timur",
          "Asus/Jakarta Timur",
          "Axioo/Jakarta Timur",
          "Dell/Jakarta Timur",
          "Acer/Jakarta Utara",
          "Advan/Jakarta Utara",
          "Apple/Jakarta Utara",
          "Asus/Jakarta Utara",
          "Axioo/Jakarta Utara",
          "Dell/Jakarta Utara",
          "Hasee/Jakarta Utara",
          "Hp/Jakarta Utara",
          "Huawei/Jakarta Utara",
          "Infinix/Jakarta Utara",
          "Lenovo/Jakarta Utara",
          "Microsoft/Jakarta Utara",
          "Msi/Jakarta Utara",
          "Samsung/Jakarta Utara",
          "Tecno/Jakarta Utara",
          "Zyrex/Jakarta Utara",
          "Lenovo/Kab. Bandung",
          "Acer/Kab. Bekasi",
          "Hp/Kab. Bekasi",
          "Lenovo/Kab. Bekasi",
          "Lenovo/Kab. Bogor",
          "Msi/Kab. Bogor",
          "Msi/Kab. Cirebon",
          "Lenovo/Kab. Gresik",
          "Asus/Kab. Karawang",
          "Lenovo/Kab. Karawang",
          "Hp/Kab. Kendal",
          "Asus/Kab. Kotawaringin Barat",
          "Asus/Kab. Lebak",
          "Asus/Kab. Sleman",
          "Hp/Kab. Sleman",
          "Lenovo/Kab. Sleman",
          "Acer/Kab. Subang",
          "Advan/Kab. Tangerang",
          "Apple/Kab. Tangerang",
          "Asus/Kab. Tangerang",
          "Dell/Kab. Tangerang",
          "Lenovo/Kab. Tangerang",
          "Asus/Kediri",
          "Asus/Makassar",
          "Hp/Makassar",
          "Lenovo/Makassar",
          "Acer/Malang",
          "Asus/Malang",
          "Axioo/Malang",
          "Infinix/Malang",
          "Lenovo/Malang",
          "Maxone/Malang",
          "Asus/Medan",
          "Axioo/Medan",
          "Lenovo/Medan",
          "Hp/Pekanbaru",
          "Lenovo/Pekanbaru",
          "Acer/Pontianak",
          "Lenovo/Pontianak",
          "Lenovo/Semarang",
          "Acer/Surabaya",
          "Advan/Surabaya",
          "Apple/Surabaya",
          "Asus/Surabaya",
          "Axioo/Surabaya",
          "Dell/Surabaya",
          "Hp/Surabaya",
          "Lenovo/Surabaya",
          "Msi/Surabaya",
          "Toshiba/Surabaya",
          "Xiaomi/Surabaya",
          "Zyrex/Surabaya",
          "Msi/Surakarta",
          "Acer/Tangerang",
          "Advan/Tangerang",
          "Apple/Tangerang",
          "Asus/Tangerang",
          "Dell/Tangerang",
          "Hp/Tangerang",
          "Lenovo/Tangerang",
          "Msi/Tangerang",
          "Samsung/Tangerang",
          "Apple/Tangerang Selatan",
          "Asus/Tangerang Selatan",
          "Hp/Tangerang Selatan",
          "Lenovo/Tangerang Selatan",
          "Lenovo/Tasikmalaya",
          "Lenovo/Yogyakarta",
          "Acer",
          "Advan",
          "Amoli",
          "Apple",
          "Ast",
          "Asus",
          "Axioo",
          "Chuwi",
          "Dell",
          "Fujitsu",
          "Google",
          "Hasee",
          "Hp",
          "Huawei",
          "Infinix",
          "Lenovo",
          "Maxone",
          "Microsoft",
          "Msi",
          "Samsung",
          "Spc",
          "Tecno",
          "Toshiba",
          "Vaio",
          "Xiaomi",
          "Zyrex"
         ],
         "labels": [
          "Bandung",
          "Bandung",
          "Bandung",
          "Bandung",
          "Bandung",
          "Bandung",
          "Bandung",
          "Bandung",
          "Batam",
          "Batam",
          "Bekasi",
          "Bekasi",
          "Bekasi",
          "Bekasi",
          "Bekasi",
          "Bogor",
          "Bogor",
          "Bogor",
          "Bogor",
          "Bogor",
          "Cirebon",
          "Denpasar",
          "Denpasar",
          "Denpasar",
          "Denpasar",
          "Depok",
          "Depok",
          "Depok",
          "Depok",
          "Depok",
          "Jakarta Barat",
          "Jakarta Barat",
          "Jakarta Barat",
          "Jakarta Barat",
          "Jakarta Barat",
          "Jakarta Barat",
          "Jakarta Barat",
          "Jakarta Barat",
          "Jakarta Barat",
          "Jakarta Barat",
          "Jakarta Barat",
          "Jakarta Barat",
          "Jakarta Barat",
          "Jakarta Pusat",
          "Jakarta Pusat",
          "Jakarta Pusat",
          "Jakarta Pusat",
          "Jakarta Pusat",
          "Jakarta Pusat",
          "Jakarta Pusat",
          "Jakarta Pusat",
          "Jakarta Pusat",
          "Jakarta Pusat",
          "Jakarta Pusat",
          "Jakarta Pusat",
          "Jakarta Pusat",
          "Jakarta Pusat",
          "Jakarta Pusat",
          "Jakarta Selatan",
          "Jakarta Selatan",
          "Jakarta Selatan",
          "Jakarta Selatan",
          "Jakarta Selatan",
          "Jakarta Selatan",
          "Jakarta Selatan",
          "Jakarta Selatan",
          "Jakarta Selatan",
          "Jakarta Selatan",
          "Jakarta Selatan",
          "Jakarta Timur",
          "Jakarta Timur",
          "Jakarta Timur",
          "Jakarta Timur",
          "Jakarta Utara",
          "Jakarta Utara",
          "Jakarta Utara",
          "Jakarta Utara",
          "Jakarta Utara",
          "Jakarta Utara",
          "Jakarta Utara",
          "Jakarta Utara",
          "Jakarta Utara",
          "Jakarta Utara",
          "Jakarta Utara",
          "Jakarta Utara",
          "Jakarta Utara",
          "Jakarta Utara",
          "Jakarta Utara",
          "Jakarta Utara",
          "Kab. Bandung",
          "Kab. Bekasi",
          "Kab. Bekasi",
          "Kab. Bekasi",
          "Kab. Bogor",
          "Kab. Bogor",
          "Kab. Cirebon",
          "Kab. Gresik",
          "Kab. Karawang",
          "Kab. Karawang",
          "Kab. Kendal",
          "Kab. Kotawaringin Barat",
          "Kab. Lebak",
          "Kab. Sleman",
          "Kab. Sleman",
          "Kab. Sleman",
          "Kab. Subang",
          "Kab. Tangerang",
          "Kab. Tangerang",
          "Kab. Tangerang",
          "Kab. Tangerang",
          "Kab. Tangerang",
          "Kediri",
          "Makassar",
          "Makassar",
          "Makassar",
          "Malang",
          "Malang",
          "Malang",
          "Malang",
          "Malang",
          "Malang",
          "Medan",
          "Medan",
          "Medan",
          "Pekanbaru",
          "Pekanbaru",
          "Pontianak",
          "Pontianak",
          "Semarang",
          "Surabaya",
          "Surabaya",
          "Surabaya",
          "Surabaya",
          "Surabaya",
          "Surabaya",
          "Surabaya",
          "Surabaya",
          "Surabaya",
          "Surabaya",
          "Surabaya",
          "Surabaya",
          "Surakarta",
          "Tangerang",
          "Tangerang",
          "Tangerang",
          "Tangerang",
          "Tangerang",
          "Tangerang",
          "Tangerang",
          "Tangerang",
          "Tangerang",
          "Tangerang Selatan",
          "Tangerang Selatan",
          "Tangerang Selatan",
          "Tangerang Selatan",
          "Tasikmalaya",
          "Yogyakarta",
          "Acer",
          "Advan",
          "Amoli",
          "Apple",
          "Ast",
          "Asus",
          "Axioo",
          "Chuwi",
          "Dell",
          "Fujitsu",
          "Google",
          "Hasee",
          "Hp",
          "Huawei",
          "Infinix",
          "Lenovo",
          "Maxone",
          "Microsoft",
          "Msi",
          "Samsung",
          "Spc",
          "Tecno",
          "Toshiba",
          "Vaio",
          "Xiaomi",
          "Zyrex"
         ],
         "marker": {
          "line": {
           "color": "#ffffff",
           "width": 0.5
          }
         },
         "name": "",
         "parents": [
          "Acer",
          "Apple",
          "Asus",
          "Axioo",
          "Dell",
          "Hp",
          "Infinix",
          "Lenovo",
          "Apple",
          "Fujitsu",
          "Asus",
          "Hp",
          "Lenovo",
          "Microsoft",
          "Zyrex",
          "Advan",
          "Asus",
          "Dell",
          "Lenovo",
          "Toshiba",
          "Dell",
          "Apple",
          "Asus",
          "Axioo",
          "Lenovo",
          "Asus",
          "Axioo",
          "Dell",
          "Hp",
          "Lenovo",
          "Acer",
          "Amoli",
          "Ast",
          "Asus",
          "Axioo",
          "Chuwi",
          "Dell",
          "Fujitsu",
          "Hp",
          "Lenovo",
          "Msi",
          "Samsung",
          "Toshiba",
          "Acer",
          "Advan",
          "Apple",
          "Asus",
          "Axioo",
          "Dell",
          "Fujitsu",
          "Google",
          "Hp",
          "Infinix",
          "Lenovo",
          "Msi",
          "Spc",
          "Toshiba",
          "Vaio",
          "Acer",
          "Advan",
          "Apple",
          "Asus",
          "Axioo",
          "Dell",
          "Hp",
          "Lenovo",
          "Msi",
          "Tecno",
          "Zyrex",
          "Acer",
          "Asus",
          "Axioo",
          "Dell",
          "Acer",
          "Advan",
          "Apple",
          "Asus",
          "Axioo",
          "Dell",
          "Hasee",
          "Hp",
          "Huawei",
          "Infinix",
          "Lenovo",
          "Microsoft",
          "Msi",
          "Samsung",
          "Tecno",
          "Zyrex",
          "Lenovo",
          "Acer",
          "Hp",
          "Lenovo",
          "Lenovo",
          "Msi",
          "Msi",
          "Lenovo",
          "Asus",
          "Lenovo",
          "Hp",
          "Asus",
          "Asus",
          "Asus",
          "Hp",
          "Lenovo",
          "Acer",
          "Advan",
          "Apple",
          "Asus",
          "Dell",
          "Lenovo",
          "Asus",
          "Asus",
          "Hp",
          "Lenovo",
          "Acer",
          "Asus",
          "Axioo",
          "Infinix",
          "Lenovo",
          "Maxone",
          "Asus",
          "Axioo",
          "Lenovo",
          "Hp",
          "Lenovo",
          "Acer",
          "Lenovo",
          "Lenovo",
          "Acer",
          "Advan",
          "Apple",
          "Asus",
          "Axioo",
          "Dell",
          "Hp",
          "Lenovo",
          "Msi",
          "Toshiba",
          "Xiaomi",
          "Zyrex",
          "Msi",
          "Acer",
          "Advan",
          "Apple",
          "Asus",
          "Dell",
          "Hp",
          "Lenovo",
          "Msi",
          "Samsung",
          "Apple",
          "Asus",
          "Hp",
          "Lenovo",
          "Lenovo",
          "Lenovo",
          "",
          "",
          "",
          "",
          "",
          "",
          "",
          "",
          "",
          "",
          "",
          "",
          "",
          "",
          "",
          "",
          "",
          "",
          "",
          "",
          "",
          "",
          "",
          "",
          "",
          ""
         ],
         "textposition": "middle center",
         "texttemplate": "<b>%{label}</b><br>Sold: %{value}",
         "type": "treemap",
         "values": [
          100,
          60,
          249,
          2,
          131,
          145,
          2,
          2416,
          4,
          2,
          61,
          1,
          1,
          20,
          0,
          100,
          320,
          55,
          399,
          2,
          0,
          1,
          103,
          102,
          51,
          5,
          8,
          0,
          0,
          247,
          402,
          3000,
          206,
          1415,
          50,
          250,
          1334,
          80,
          2351,
          14981,
          1,
          6,
          100,
          1465,
          1270,
          182,
          9997,
          4730,
          996,
          255,
          60,
          1401,
          1940,
          13627,
          305,
          100,
          179,
          3,
          220,
          250,
          34,
          369,
          2951,
          5,
          431,
          3464,
          27,
          100,
          200,
          135,
          331,
          250,
          5,
          1232,
          900,
          271,
          21760,
          8495,
          471,
          0,
          4763,
          2,
          750,
          20064,
          70,
          24,
          80,
          200,
          739,
          7,
          250,
          136,
          13,
          200,
          0,
          0,
          4,
          5,
          5,
          0,
          0,
          2,
          0,
          8,
          1,
          0,
          13700,
          128,
          100,
          50,
          1750,
          1,
          5,
          3,
          88,
          4,
          2,
          3,
          0,
          10,
          0,
          46,
          16,
          5,
          80,
          0,
          0,
          0,
          7,
          146,
          100,
          12,
          146,
          53,
          1,
          2,
          443,
          1,
          8,
          0,
          1,
          0,
          0,
          13,
          54,
          2,
          0,
          100,
          46,
          2,
          2,
          2,
          1,
          1,
          11,
          0,
          138,
          3954,
          16333,
          3000,
          748,
          206,
          34920,
          16660,
          250,
          3048,
          337,
          60,
          0,
          9422,
          2,
          2692,
          57978,
          0,
          90,
          360,
          88,
          100,
          300,
          289,
          3,
          0,
          940
         ]
        }
       ],
       "layout": {
        "font": {
         "color": "black",
         "size": 13
        },
        "height": 600,
        "legend": {
         "tracegroupgap": 0
        },
        "margin": {
         "b": 20,
         "l": 20,
         "r": 20,
         "t": 40
        },
        "paper_bgcolor": "lightgray",
        "template": {
         "data": {
          "bar": [
           {
            "error_x": {
             "color": "#2a3f5f"
            },
            "error_y": {
             "color": "#2a3f5f"
            },
            "marker": {
             "line": {
              "color": "#E5ECF6",
              "width": 0.5
             },
             "pattern": {
              "fillmode": "overlay",
              "size": 10,
              "solidity": 0.2
             }
            },
            "type": "bar"
           }
          ],
          "barpolar": [
           {
            "marker": {
             "line": {
              "color": "#E5ECF6",
              "width": 0.5
             },
             "pattern": {
              "fillmode": "overlay",
              "size": 10,
              "solidity": 0.2
             }
            },
            "type": "barpolar"
           }
          ],
          "carpet": [
           {
            "aaxis": {
             "endlinecolor": "#2a3f5f",
             "gridcolor": "white",
             "linecolor": "white",
             "minorgridcolor": "white",
             "startlinecolor": "#2a3f5f"
            },
            "baxis": {
             "endlinecolor": "#2a3f5f",
             "gridcolor": "white",
             "linecolor": "white",
             "minorgridcolor": "white",
             "startlinecolor": "#2a3f5f"
            },
            "type": "carpet"
           }
          ],
          "choropleth": [
           {
            "colorbar": {
             "outlinewidth": 0,
             "ticks": ""
            },
            "type": "choropleth"
           }
          ],
          "contour": [
           {
            "colorbar": {
             "outlinewidth": 0,
             "ticks": ""
            },
            "colorscale": [
             [
              0,
              "#0d0887"
             ],
             [
              0.1111111111111111,
              "#46039f"
             ],
             [
              0.2222222222222222,
              "#7201a8"
             ],
             [
              0.3333333333333333,
              "#9c179e"
             ],
             [
              0.4444444444444444,
              "#bd3786"
             ],
             [
              0.5555555555555556,
              "#d8576b"
             ],
             [
              0.6666666666666666,
              "#ed7953"
             ],
             [
              0.7777777777777778,
              "#fb9f3a"
             ],
             [
              0.8888888888888888,
              "#fdca26"
             ],
             [
              1,
              "#f0f921"
             ]
            ],
            "type": "contour"
           }
          ],
          "contourcarpet": [
           {
            "colorbar": {
             "outlinewidth": 0,
             "ticks": ""
            },
            "type": "contourcarpet"
           }
          ],
          "heatmap": [
           {
            "colorbar": {
             "outlinewidth": 0,
             "ticks": ""
            },
            "colorscale": [
             [
              0,
              "#0d0887"
             ],
             [
              0.1111111111111111,
              "#46039f"
             ],
             [
              0.2222222222222222,
              "#7201a8"
             ],
             [
              0.3333333333333333,
              "#9c179e"
             ],
             [
              0.4444444444444444,
              "#bd3786"
             ],
             [
              0.5555555555555556,
              "#d8576b"
             ],
             [
              0.6666666666666666,
              "#ed7953"
             ],
             [
              0.7777777777777778,
              "#fb9f3a"
             ],
             [
              0.8888888888888888,
              "#fdca26"
             ],
             [
              1,
              "#f0f921"
             ]
            ],
            "type": "heatmap"
           }
          ],
          "heatmapgl": [
           {
            "colorbar": {
             "outlinewidth": 0,
             "ticks": ""
            },
            "colorscale": [
             [
              0,
              "#0d0887"
             ],
             [
              0.1111111111111111,
              "#46039f"
             ],
             [
              0.2222222222222222,
              "#7201a8"
             ],
             [
              0.3333333333333333,
              "#9c179e"
             ],
             [
              0.4444444444444444,
              "#bd3786"
             ],
             [
              0.5555555555555556,
              "#d8576b"
             ],
             [
              0.6666666666666666,
              "#ed7953"
             ],
             [
              0.7777777777777778,
              "#fb9f3a"
             ],
             [
              0.8888888888888888,
              "#fdca26"
             ],
             [
              1,
              "#f0f921"
             ]
            ],
            "type": "heatmapgl"
           }
          ],
          "histogram": [
           {
            "marker": {
             "pattern": {
              "fillmode": "overlay",
              "size": 10,
              "solidity": 0.2
             }
            },
            "type": "histogram"
           }
          ],
          "histogram2d": [
           {
            "colorbar": {
             "outlinewidth": 0,
             "ticks": ""
            },
            "colorscale": [
             [
              0,
              "#0d0887"
             ],
             [
              0.1111111111111111,
              "#46039f"
             ],
             [
              0.2222222222222222,
              "#7201a8"
             ],
             [
              0.3333333333333333,
              "#9c179e"
             ],
             [
              0.4444444444444444,
              "#bd3786"
             ],
             [
              0.5555555555555556,
              "#d8576b"
             ],
             [
              0.6666666666666666,
              "#ed7953"
             ],
             [
              0.7777777777777778,
              "#fb9f3a"
             ],
             [
              0.8888888888888888,
              "#fdca26"
             ],
             [
              1,
              "#f0f921"
             ]
            ],
            "type": "histogram2d"
           }
          ],
          "histogram2dcontour": [
           {
            "colorbar": {
             "outlinewidth": 0,
             "ticks": ""
            },
            "colorscale": [
             [
              0,
              "#0d0887"
             ],
             [
              0.1111111111111111,
              "#46039f"
             ],
             [
              0.2222222222222222,
              "#7201a8"
             ],
             [
              0.3333333333333333,
              "#9c179e"
             ],
             [
              0.4444444444444444,
              "#bd3786"
             ],
             [
              0.5555555555555556,
              "#d8576b"
             ],
             [
              0.6666666666666666,
              "#ed7953"
             ],
             [
              0.7777777777777778,
              "#fb9f3a"
             ],
             [
              0.8888888888888888,
              "#fdca26"
             ],
             [
              1,
              "#f0f921"
             ]
            ],
            "type": "histogram2dcontour"
           }
          ],
          "mesh3d": [
           {
            "colorbar": {
             "outlinewidth": 0,
             "ticks": ""
            },
            "type": "mesh3d"
           }
          ],
          "parcoords": [
           {
            "line": {
             "colorbar": {
              "outlinewidth": 0,
              "ticks": ""
             }
            },
            "type": "parcoords"
           }
          ],
          "pie": [
           {
            "automargin": true,
            "type": "pie"
           }
          ],
          "scatter": [
           {
            "fillpattern": {
             "fillmode": "overlay",
             "size": 10,
             "solidity": 0.2
            },
            "type": "scatter"
           }
          ],
          "scatter3d": [
           {
            "line": {
             "colorbar": {
              "outlinewidth": 0,
              "ticks": ""
             }
            },
            "marker": {
             "colorbar": {
              "outlinewidth": 0,
              "ticks": ""
             }
            },
            "type": "scatter3d"
           }
          ],
          "scattercarpet": [
           {
            "marker": {
             "colorbar": {
              "outlinewidth": 0,
              "ticks": ""
             }
            },
            "type": "scattercarpet"
           }
          ],
          "scattergeo": [
           {
            "marker": {
             "colorbar": {
              "outlinewidth": 0,
              "ticks": ""
             }
            },
            "type": "scattergeo"
           }
          ],
          "scattergl": [
           {
            "marker": {
             "colorbar": {
              "outlinewidth": 0,
              "ticks": ""
             }
            },
            "type": "scattergl"
           }
          ],
          "scattermapbox": [
           {
            "marker": {
             "colorbar": {
              "outlinewidth": 0,
              "ticks": ""
             }
            },
            "type": "scattermapbox"
           }
          ],
          "scatterpolar": [
           {
            "marker": {
             "colorbar": {
              "outlinewidth": 0,
              "ticks": ""
             }
            },
            "type": "scatterpolar"
           }
          ],
          "scatterpolargl": [
           {
            "marker": {
             "colorbar": {
              "outlinewidth": 0,
              "ticks": ""
             }
            },
            "type": "scatterpolargl"
           }
          ],
          "scatterternary": [
           {
            "marker": {
             "colorbar": {
              "outlinewidth": 0,
              "ticks": ""
             }
            },
            "type": "scatterternary"
           }
          ],
          "surface": [
           {
            "colorbar": {
             "outlinewidth": 0,
             "ticks": ""
            },
            "colorscale": [
             [
              0,
              "#0d0887"
             ],
             [
              0.1111111111111111,
              "#46039f"
             ],
             [
              0.2222222222222222,
              "#7201a8"
             ],
             [
              0.3333333333333333,
              "#9c179e"
             ],
             [
              0.4444444444444444,
              "#bd3786"
             ],
             [
              0.5555555555555556,
              "#d8576b"
             ],
             [
              0.6666666666666666,
              "#ed7953"
             ],
             [
              0.7777777777777778,
              "#fb9f3a"
             ],
             [
              0.8888888888888888,
              "#fdca26"
             ],
             [
              1,
              "#f0f921"
             ]
            ],
            "type": "surface"
           }
          ],
          "table": [
           {
            "cells": {
             "fill": {
              "color": "#EBF0F8"
             },
             "line": {
              "color": "white"
             }
            },
            "header": {
             "fill": {
              "color": "#C8D4E3"
             },
             "line": {
              "color": "white"
             }
            },
            "type": "table"
           }
          ]
         },
         "layout": {
          "annotationdefaults": {
           "arrowcolor": "#2a3f5f",
           "arrowhead": 0,
           "arrowwidth": 1
          },
          "autotypenumbers": "strict",
          "coloraxis": {
           "colorbar": {
            "outlinewidth": 0,
            "ticks": ""
           }
          },
          "colorscale": {
           "diverging": [
            [
             0,
             "#8e0152"
            ],
            [
             0.1,
             "#c51b7d"
            ],
            [
             0.2,
             "#de77ae"
            ],
            [
             0.3,
             "#f1b6da"
            ],
            [
             0.4,
             "#fde0ef"
            ],
            [
             0.5,
             "#f7f7f7"
            ],
            [
             0.6,
             "#e6f5d0"
            ],
            [
             0.7,
             "#b8e186"
            ],
            [
             0.8,
             "#7fbc41"
            ],
            [
             0.9,
             "#4d9221"
            ],
            [
             1,
             "#276419"
            ]
           ],
           "sequential": [
            [
             0,
             "#0d0887"
            ],
            [
             0.1111111111111111,
             "#46039f"
            ],
            [
             0.2222222222222222,
             "#7201a8"
            ],
            [
             0.3333333333333333,
             "#9c179e"
            ],
            [
             0.4444444444444444,
             "#bd3786"
            ],
            [
             0.5555555555555556,
             "#d8576b"
            ],
            [
             0.6666666666666666,
             "#ed7953"
            ],
            [
             0.7777777777777778,
             "#fb9f3a"
            ],
            [
             0.8888888888888888,
             "#fdca26"
            ],
            [
             1,
             "#f0f921"
            ]
           ],
           "sequentialminus": [
            [
             0,
             "#0d0887"
            ],
            [
             0.1111111111111111,
             "#46039f"
            ],
            [
             0.2222222222222222,
             "#7201a8"
            ],
            [
             0.3333333333333333,
             "#9c179e"
            ],
            [
             0.4444444444444444,
             "#bd3786"
            ],
            [
             0.5555555555555556,
             "#d8576b"
            ],
            [
             0.6666666666666666,
             "#ed7953"
            ],
            [
             0.7777777777777778,
             "#fb9f3a"
            ],
            [
             0.8888888888888888,
             "#fdca26"
            ],
            [
             1,
             "#f0f921"
            ]
           ]
          },
          "colorway": [
           "#636efa",
           "#EF553B",
           "#00cc96",
           "#ab63fa",
           "#FFA15A",
           "#19d3f3",
           "#FF6692",
           "#B6E880",
           "#FF97FF",
           "#FECB52"
          ],
          "font": {
           "color": "#2a3f5f"
          },
          "geo": {
           "bgcolor": "white",
           "lakecolor": "white",
           "landcolor": "#E5ECF6",
           "showlakes": true,
           "showland": true,
           "subunitcolor": "white"
          },
          "hoverlabel": {
           "align": "left"
          },
          "hovermode": "closest",
          "mapbox": {
           "style": "light"
          },
          "paper_bgcolor": "white",
          "plot_bgcolor": "#E5ECF6",
          "polar": {
           "angularaxis": {
            "gridcolor": "white",
            "linecolor": "white",
            "ticks": ""
           },
           "bgcolor": "#E5ECF6",
           "radialaxis": {
            "gridcolor": "white",
            "linecolor": "white",
            "ticks": ""
           }
          },
          "scene": {
           "xaxis": {
            "backgroundcolor": "#E5ECF6",
            "gridcolor": "white",
            "gridwidth": 2,
            "linecolor": "white",
            "showbackground": true,
            "ticks": "",
            "zerolinecolor": "white"
           },
           "yaxis": {
            "backgroundcolor": "#E5ECF6",
            "gridcolor": "white",
            "gridwidth": 2,
            "linecolor": "white",
            "showbackground": true,
            "ticks": "",
            "zerolinecolor": "white"
           },
           "zaxis": {
            "backgroundcolor": "#E5ECF6",
            "gridcolor": "white",
            "gridwidth": 2,
            "linecolor": "white",
            "showbackground": true,
            "ticks": "",
            "zerolinecolor": "white"
           }
          },
          "shapedefaults": {
           "line": {
            "color": "#2a3f5f"
           }
          },
          "ternary": {
           "aaxis": {
            "gridcolor": "white",
            "linecolor": "white",
            "ticks": ""
           },
           "baxis": {
            "gridcolor": "white",
            "linecolor": "white",
            "ticks": ""
           },
           "bgcolor": "#E5ECF6",
           "caxis": {
            "gridcolor": "white",
            "linecolor": "white",
            "ticks": ""
           }
          },
          "title": {
           "x": 0.05
          },
          "xaxis": {
           "automargin": true,
           "gridcolor": "white",
           "linecolor": "white",
           "ticks": "",
           "title": {
            "standoff": 15
           },
           "zerolinecolor": "white",
           "zerolinewidth": 2
          },
          "yaxis": {
           "automargin": true,
           "gridcolor": "white",
           "linecolor": "white",
           "ticks": "",
           "title": {
            "standoff": 15
           },
           "zerolinecolor": "white",
           "zerolinewidth": 2
          }
         }
        },
        "title": {
         "text": "<b>Brand Popularity Map Based on Sales Volume per Location<b>",
         "x": 0.02,
         "y": 0.97
        }
       }
      }
     },
     "metadata": {},
     "output_type": "display_data"
    }
   ],
   "source": [
    "fig = px.treemap(\n",
    "    brand_popularity_loc,\n",
    "    path=['Brand','Location'],\n",
    "    values='Sold',\n",
    "    title='<b>Brand Popularity Map Based on Sales Volume per Location<b>',\n",
    "    height=600,\n",
    ")\n",
    "\n",
    "fig.update_layout(\n",
    "    margin=dict(l=20, r=20, t=40, b=20),\n",
    "    paper_bgcolor='lightgray',\n",
    "    title_y=0.97,\n",
    "    title_x=0.02,\n",
    "    font_color='black',\n",
    "    font_size=13\n",
    ")\n",
    "\n",
    "fig.update_traces(\n",
    "    hovertemplate=\"<b>%{label}</b><br>Sold: %{value}<br>Brand: %{parent}<extra></extra>\",\n",
    "    marker=dict(line=dict(color='#ffffff', width=0.5)),\n",
    "    textposition=\"middle center\",\n",
    "    texttemplate=\"<b>%{label}</b><br>Sold: %{value}\",\n",
    ")\n",
    "\n",
    "fig.show()"
   ]
  },
  {
   "cell_type": "code",
   "execution_count": 11,
   "id": "b616bdec",
   "metadata": {},
   "outputs": [
    {
     "data": {
      "text/html": [
       "<div>\n",
       "<style scoped>\n",
       "    .dataframe tbody tr th:only-of-type {\n",
       "        vertical-align: middle;\n",
       "    }\n",
       "\n",
       "    .dataframe tbody tr th {\n",
       "        vertical-align: top;\n",
       "    }\n",
       "\n",
       "    .dataframe thead th {\n",
       "        text-align: right;\n",
       "    }\n",
       "</style>\n",
       "<table border=\"1\" class=\"dataframe\">\n",
       "  <thead>\n",
       "    <tr style=\"text-align: right;\">\n",
       "      <th></th>\n",
       "      <th>Brand</th>\n",
       "      <th>Price (Rp)</th>\n",
       "      <th>Sold</th>\n",
       "      <th>Price Format</th>\n",
       "    </tr>\n",
       "  </thead>\n",
       "  <tbody>\n",
       "    <tr>\n",
       "      <th>0</th>\n",
       "      <td>Acer</td>\n",
       "      <td>4999</td>\n",
       "      <td>5</td>\n",
       "      <td>Rp4.999</td>\n",
       "    </tr>\n",
       "    <tr>\n",
       "      <th>1</th>\n",
       "      <td>Acer</td>\n",
       "      <td>113600</td>\n",
       "      <td>10</td>\n",
       "      <td>Rp113.600</td>\n",
       "    </tr>\n",
       "    <tr>\n",
       "      <th>2</th>\n",
       "      <td>Acer</td>\n",
       "      <td>600000</td>\n",
       "      <td>250</td>\n",
       "      <td>Rp600.000</td>\n",
       "    </tr>\n",
       "    <tr>\n",
       "      <th>3</th>\n",
       "      <td>Acer</td>\n",
       "      <td>800000</td>\n",
       "      <td>0</td>\n",
       "      <td>Rp800.000</td>\n",
       "    </tr>\n",
       "    <tr>\n",
       "      <th>4</th>\n",
       "      <td>Acer</td>\n",
       "      <td>930000</td>\n",
       "      <td>3</td>\n",
       "      <td>Rp930.000</td>\n",
       "    </tr>\n",
       "    <tr>\n",
       "      <th>...</th>\n",
       "      <td>...</td>\n",
       "      <td>...</td>\n",
       "      <td>...</td>\n",
       "      <td>...</td>\n",
       "    </tr>\n",
       "    <tr>\n",
       "      <th>694</th>\n",
       "      <td>Zyrex</td>\n",
       "      <td>2599000</td>\n",
       "      <td>32</td>\n",
       "      <td>Rp2.599.000</td>\n",
       "    </tr>\n",
       "    <tr>\n",
       "      <th>695</th>\n",
       "      <td>Zyrex</td>\n",
       "      <td>3349000</td>\n",
       "      <td>90</td>\n",
       "      <td>Rp3.349.000</td>\n",
       "    </tr>\n",
       "    <tr>\n",
       "      <th>696</th>\n",
       "      <td>Zyrex</td>\n",
       "      <td>3699000</td>\n",
       "      <td>100</td>\n",
       "      <td>Rp3.699.000</td>\n",
       "    </tr>\n",
       "    <tr>\n",
       "      <th>697</th>\n",
       "      <td>Zyrex</td>\n",
       "      <td>3999000</td>\n",
       "      <td>400</td>\n",
       "      <td>Rp3.999.000</td>\n",
       "    </tr>\n",
       "    <tr>\n",
       "      <th>698</th>\n",
       "      <td>Zyrex</td>\n",
       "      <td>4199000</td>\n",
       "      <td>90</td>\n",
       "      <td>Rp4.199.000</td>\n",
       "    </tr>\n",
       "  </tbody>\n",
       "</table>\n",
       "<p>699 rows × 4 columns</p>\n",
       "</div>"
      ],
      "text/plain": [
       "     Brand  Price (Rp)  Sold Price Format\n",
       "0     Acer        4999     5      Rp4.999\n",
       "1     Acer      113600    10    Rp113.600\n",
       "2     Acer      600000   250    Rp600.000\n",
       "3     Acer      800000     0    Rp800.000\n",
       "4     Acer      930000     3    Rp930.000\n",
       "..     ...         ...   ...          ...\n",
       "694  Zyrex     2599000    32  Rp2.599.000\n",
       "695  Zyrex     3349000    90  Rp3.349.000\n",
       "696  Zyrex     3699000   100  Rp3.699.000\n",
       "697  Zyrex     3999000   400  Rp3.999.000\n",
       "698  Zyrex     4199000    90  Rp4.199.000\n",
       "\n",
       "[699 rows x 4 columns]"
      ]
     },
     "execution_count": 11,
     "metadata": {},
     "output_type": "execute_result"
    }
   ],
   "source": [
    "brand_popularity_price = df.groupby(['Brand', 'Price (Rp)'])['Sold'].sum().reset_index()\n",
    "\n",
    "def format_rupiah(x):\n",
    "    return f\"Rp{x:,.0f}\".replace(\",\", \".\")\n",
    "\n",
    "brand_popularity_price['Price Format'] = brand_popularity_price['Price (Rp)'].apply(format_rupiah)\n",
    "brand_popularity_price"
   ]
  },
  {
   "cell_type": "code",
   "execution_count": 12,
   "id": "242786de",
   "metadata": {},
   "outputs": [
    {
     "data": {
      "application/vnd.plotly.v1+json": {
       "config": {
        "plotlyServerURL": "https://plot.ly"
       },
       "data": [
        {
         "branchvalues": "total",
         "domain": {
          "x": [
           0,
           1
          ],
          "y": [
           0,
           1
          ]
         },
         "hovertemplate": "<b>Price: %{label}</b><br>Sold: %{value}<br>Brand: %{parent}<extra></extra>",
         "ids": [
          "Lenovo/Rp1.000.000",
          "Hp/Rp1.000.000.000",
          "Lenovo/Rp1.050.000",
          "Hp/Rp1.100.000",
          "Asus/Rp1.150.000",
          "Dell/Rp1.200.000",
          "Asus/Rp1.250.000",
          "Dell/Rp1.300.000",
          "Lenovo/Rp1.300.000",
          "Asus/Rp1.340.000",
          "Asus/Rp1.345.000",
          "Lenovo/Rp1.345.000",
          "Asus/Rp1.350.000",
          "Hp/Rp1.350.000",
          "Lenovo/Rp1.350.000",
          "Asus/Rp1.386.000",
          "Hp/Rp1.400.000",
          "Lenovo/Rp1.400.000",
          "Microsoft/Rp1.430.000",
          "Lenovo/Rp1.475.000",
          "Acer/Rp1.500.000",
          "Dell/Rp1.500.000",
          "Hp/Rp1.500.000",
          "Lenovo/Rp1.500.000",
          "Vaio/Rp1.500.000",
          "Axioo/Rp1.505.000",
          "Lenovo/Rp1.530.000",
          "Asus/Rp1.550.000",
          "Lenovo/Rp1.550.000",
          "Vaio/Rp1.550.000",
          "Lenovo/Rp1.600.000",
          "Acer/Rp1.650.000",
          "Asus/Rp1.650.000",
          "Asus/Rp1.680.000",
          "Acer/Rp1.700.000",
          "Asus/Rp1.700.000",
          "Hp/Rp1.700.000",
          "Lenovo/Rp1.700.000",
          "Hp/Rp1.709.000",
          "Lenovo/Rp1.730.000",
          "Lenovo/Rp1.732.500",
          "Lenovo/Rp1.750.000",
          "Asus/Rp1.800.000",
          "Dell/Rp1.800.000",
          "Toshiba/Rp1.825.000",
          "Hp/Rp1.830.000",
          "Hp/Rp1.850.000",
          "Lenovo/Rp1.850.000",
          "Toshiba/Rp1.850.000",
          "Lenovo/Rp1.856.250",
          "Toshiba/Rp1.888.888",
          "Apple/Rp1.890.000",
          "Lenovo/Rp1.899.000",
          "Fujitsu/Rp1.899.999",
          "Lenovo/Rp1.899.999",
          "Axioo/Rp1.900.000",
          "Lenovo/Rp1.900.000",
          "Toshiba/Rp1.900.000",
          "Dell/Rp1.930.000",
          "Axioo/Rp1.950.000",
          "Hp/Rp1.950.000",
          "Lenovo/Rp1.950.000",
          "Lenovo/Rp1.990.000",
          "Dell/Rp1.999.000",
          "Zyrex/Rp1.999.000",
          "Hp/Rp10.000.000",
          "Lenovo/Rp10.099.000",
          "Msi/Rp10.199.000",
          "Lenovo/Rp10.249.000",
          "Hp/Rp10.299.000",
          "Lenovo/Rp10.299.000",
          "Acer/Rp10.399.000",
          "Asus/Rp10.419.000",
          "Apple/Rp10.450.000",
          "Asus/Rp10.469.000",
          "Asus/Rp10.499.000",
          "Apple/Rp10.559.000",
          "Asus/Rp10.799.000",
          "Asus/Rp10.849.000",
          "Samsung/Rp10.875.000",
          "Asus/Rp10.879.000",
          "Asus/Rp10.899.000",
          "Lenovo/Rp10.929.000",
          "Asus/Rp10.949.000",
          "Asus/Rp10.999.000",
          "Lenovo/Rp10.999.000",
          "Dell/Rp105.000",
          "Asus/Rp107.000.000",
          "Apple/Rp11.000.000",
          "Asus/Rp11.000.000",
          "Lenovo/Rp11.049.000",
          "Asus/Rp11.099.000",
          "Asus/Rp11.184.000",
          "Lenovo/Rp11.189.000",
          "Asus/Rp11.299.000",
          "Hp/Rp11.299.000",
          "Hp/Rp11.399.000",
          "Lenovo/Rp11.449.000",
          "Asus/Rp11.499.000",
          "Lenovo/Rp11.499.000",
          "Asus/Rp11.539.000",
          "Hp/Rp11.699.000",
          "Lenovo/Rp11.699.000",
          "Hp/Rp11.799.000",
          "Hp/Rp11.889.000",
          "Asus/Rp11.949.000",
          "Apple/Rp11.999.000",
          "Dell/Rp110.000.000",
          "Acer/Rp113.600",
          "Msi/Rp114.999.000",
          "Asus/Rp12.299.000",
          "Asus/Rp12.397.000",
          "Asus/Rp12.485.000",
          "Dell/Rp12.699.000",
          "Lenovo/Rp12.699.000",
          "Acer/Rp12.849.000",
          "Asus/Rp12.889.000",
          "Acer/Rp12.899.000",
          "Asus/Rp12.999.000",
          "Lenovo/Rp12.999.000",
          "Asus/Rp13.000.000",
          "Asus/Rp13.099.000",
          "Lenovo/Rp13.099.000",
          "Acer/Rp13.299.000",
          "Asus/Rp13.399.000",
          "Lenovo/Rp13.399.000",
          "Lenovo/Rp13.447.000",
          "Acer/Rp13.499.000",
          "Asus/Rp13.499.000",
          "Dell/Rp13.499.000",
          "Dell/Rp13.599.000",
          "Lenovo/Rp13.599.000",
          "Lenovo/Rp13.654.000",
          "Lenovo/Rp13.750.000",
          "Lenovo/Rp13.799.000",
          "Hp/Rp13.820.000",
          "Hp/Rp13.910.000",
          "Dell/Rp14.099.000",
          "Ast/Rp14.115.600",
          "Lenovo/Rp14.299.000",
          "Apple/Rp14.399.000",
          "Asus/Rp14.469.000",
          "Lenovo/Rp14.499.000",
          "Asus/Rp14.550.000",
          "Lenovo/Rp14.650.890",
          "Lenovo/Rp14.699.000",
          "Hp/Rp14.799.000",
          "Dell/Rp14.899.000",
          "Samsung/Rp14.899.000",
          "Lenovo/Rp14.949.000",
          "Asus/Rp14.999.000",
          "Asus/Rp15.099.000",
          "Lenovo/Rp15.399.000",
          "Hp/Rp15.490.000",
          "Hp/Rp15.549.000",
          "Asus/Rp15.599.000",
          "Msi/Rp15.799.000",
          "Hp/Rp15.899.000",
          "Apple/Rp15.999.000",
          "Asus/Rp15.999.000",
          "Lenovo/Rp150.000",
          "Hp/Rp16.199.000",
          "Asus/Rp16.449.000",
          "Acer/Rp16.599.000",
          "Hp/Rp16.689.000",
          "Lenovo/Rp16.999.000",
          "Lenovo/Rp17.340.000",
          "Lenovo/Rp17.489.000",
          "Asus/Rp17.500.000",
          "Asus/Rp17.932.100",
          "Lenovo/Rp18.799.000",
          "Dell/Rp185.399.000",
          "Apple/Rp19.999.000",
          "Asus/Rp19.999.000",
          "Lenovo/Rp19.999.000",
          "Lenovo/Rp2.000",
          "Asus/Rp2.000.000",
          "Lenovo/Rp2.000.000",
          "Lenovo/Rp2.050.000",
          "Asus/Rp2.090.000",
          "Lenovo/Rp2.100.000",
          "Toshiba/Rp2.100.000",
          "Lenovo/Rp2.150.000",
          "Zyrex/Rp2.199.000",
          "Acer/Rp2.200.000",
          "Advan/Rp2.200.000",
          "Asus/Rp2.200.000",
          "Dell/Rp2.200.000",
          "Hp/Rp2.200.000",
          "Lenovo/Rp2.200.000",
          "Hp/Rp2.249.250",
          "Lenovo/Rp2.250.000",
          "Acer/Rp2.300.000",
          "Asus/Rp2.300.000",
          "Dell/Rp2.300.000",
          "Fujitsu/Rp2.300.000",
          "Hp/Rp2.300.000",
          "Lenovo/Rp2.300.000",
          "Advan/Rp2.339.000",
          "Advan/Rp2.348.000",
          "Dell/Rp2.350.000",
          "Lenovo/Rp2.350.000",
          "Lenovo/Rp2.390.000",
          "Zyrex/Rp2.399.000",
          "Acer/Rp2.400.000",
          "Dell/Rp2.400.000",
          "Lenovo/Rp2.400.000",
          "Asus/Rp2.438.000",
          "Axioo/Rp2.449.000",
          "Lenovo/Rp2.450.000",
          "Dell/Rp2.467.500",
          "Lenovo/Rp2.475.000",
          "Axioo/Rp2.489.000",
          "Axioo/Rp2.498.000",
          "Advan/Rp2.499.000",
          "Axioo/Rp2.499.000",
          "Asus/Rp2.500.000",
          "Dell/Rp2.500.000",
          "Hp/Rp2.500.000",
          "Lenovo/Rp2.500.000",
          "Asus/Rp2.550.000",
          "Lenovo/Rp2.550.000",
          "Lenovo/Rp2.590.000",
          "Zyrex/Rp2.599.000",
          "Dell/Rp2.600.000",
          "Fujitsu/Rp2.600.000",
          "Xiaomi/Rp2.600.000",
          "Lenovo/Rp2.649.999",
          "Dell/Rp2.650.000",
          "Lenovo/Rp2.650.000",
          "Axioo/Rp2.669.000",
          "Acer/Rp2.700.000",
          "Asus/Rp2.700.000",
          "Dell/Rp2.700.000",
          "Hp/Rp2.700.000",
          "Axioo/Rp2.749.000",
          "Lenovo/Rp2.749.000",
          "Asus/Rp2.750.000",
          "Lenovo/Rp2.750.000",
          "Lenovo/Rp2.759.000",
          "Axioo/Rp2.769.000",
          "Lenovo/Rp2.790.000",
          "Lenovo/Rp2.799.000",
          "Lenovo/Rp2.799.999",
          "Amoli/Rp2.800.000",
          "Dell/Rp2.800.000",
          "Google/Rp2.800.000",
          "Hp/Rp2.800.000",
          "Lenovo/Rp2.800.000",
          "Lenovo/Rp2.835.000",
          "Lenovo/Rp2.850.000",
          "Axioo/Rp2.875.000",
          "Advan/Rp2.899.000",
          "Acer/Rp2.900.000",
          "Dell/Rp2.900.000",
          "Advan/Rp2.999.000",
          "Lenovo/Rp2.999.999",
          "Asus/Rp20.199.000",
          "Hp/Rp20.497.000",
          "Asus/Rp20.869.000",
          "Lenovo/Rp21.500.000",
          "Advan/Rp21.600.000",
          "Asus/Rp22.999.000",
          "Lenovo/Rp24.599.000",
          "Asus/Rp24.899.000",
          "Asus/Rp25.299.000",
          "Dell/Rp25.999.000",
          "Dell/Rp26.499.000",
          "Asus/Rp28.999.000",
          "Asus/Rp3.000.000",
          "Lenovo/Rp3.000.000",
          "Lenovo/Rp3.040.000",
          "Axioo/Rp3.049.000",
          "Asus/Rp3.050.000",
          "Axioo/Rp3.050.000",
          "Hp/Rp3.050.000",
          "Lenovo/Rp3.050.000",
          "Toshiba/Rp3.050.000",
          "Dell/Rp3.055.000",
          "Asus/Rp3.100.000",
          "Lenovo/Rp3.100.000",
          "Hp/Rp3.150.000",
          "Lenovo/Rp3.150.000",
          "Axioo/Rp3.155.000",
          "Lenovo/Rp3.185.000",
          "Lenovo/Rp3.200.000",
          "Msi/Rp3.200.000",
          "Hp/Rp3.217.500",
          "Hp/Rp3.250.000",
          "Lenovo/Rp3.250.000",
          "Dell/Rp3.290.000",
          "Hp/Rp3.299.999",
          "Lenovo/Rp3.299.999",
          "Acer/Rp3.300.000",
          "Lenovo/Rp3.300.000",
          "Msi/Rp3.300.000",
          "Axioo/Rp3.305.000",
          "Hp/Rp3.320.000",
          "Lenovo/Rp3.335.000",
          "Zyrex/Rp3.349.000",
          "Infinix/Rp3.350.000",
          "Axioo/Rp3.380.000",
          "Lenovo/Rp3.390.000",
          "Apple/Rp3.399.000",
          "Lenovo/Rp3.399.000",
          "Dell/Rp3.400.000",
          "Lenovo/Rp3.400.000",
          "Amoli/Rp3.430.000",
          "Lenovo/Rp3.490.000",
          "Asus/Rp3.499.000",
          "Lenovo/Rp3.499.000",
          "Hp/Rp3.499.999",
          "Lenovo/Rp3.499.999",
          "Lenovo/Rp3.500.000",
          "Asus/Rp3.599.000",
          "Lenovo/Rp3.600.000",
          "Lenovo/Rp3.650.000",
          "Asus/Rp3.690.900",
          "Lenovo/Rp3.699.000",
          "Zyrex/Rp3.699.000",
          "Lenovo/Rp3.699.999",
          "Acer/Rp3.700.000",
          "Hp/Rp3.700.000",
          "Lenovo/Rp3.700.000",
          "Msi/Rp3.700.000",
          "Lenovo/Rp3.712.500",
          "Spc/Rp3.749.000",
          "Asus/Rp3.779.000",
          "Asus/Rp3.799.000",
          "Axioo/Rp3.800.000",
          "Dell/Rp3.800.000",
          "Axioo/Rp3.805.000",
          "Asus/Rp3.849.000",
          "Lenovo/Rp3.850.000",
          "Asus/Rp3.859.000",
          "Asus/Rp3.900.000",
          "Hp/Rp3.900.000",
          "Lenovo/Rp3.900.000",
          "Advan/Rp3.920.000",
          "Apple/Rp3.950.000",
          "Lenovo/Rp3.950.000",
          "Asus/Rp3.951.000",
          "Apple/Rp3.970.000",
          "Advan/Rp3.979.000",
          "Asus/Rp3.990.000",
          "Lenovo/Rp3.990.000",
          "Zyrex/Rp3.999.000",
          "Asus/Rp300.000",
          "Lenovo/Rp300.000",
          "Lenovo/Rp39.999.000",
          "Asus/Rp4.000.000",
          "Dell/Rp4.000.000",
          "Hp/Rp4.000.000",
          "Dell/Rp4.090.000",
          "Fujitsu/Rp4.090.000",
          "Dell/Rp4.100.000",
          "Hp/Rp4.100.000",
          "Lenovo/Rp4.100.000",
          "Asus/Rp4.139.000",
          "Asus/Rp4.149.000",
          "Asus/Rp4.150.000",
          "Axioo/Rp4.199.000",
          "Zyrex/Rp4.199.000",
          "Dell/Rp4.207.500",
          "Axioo/Rp4.216.000",
          "Axioo/Rp4.229.000",
          "Hasee/Rp4.250.000",
          "Lenovo/Rp4.250.000",
          "Lenovo/Rp4.275.000",
          "Lenovo/Rp4.279.000",
          "Lenovo/Rp4.290.000",
          "Lenovo/Rp4.299.000",
          "Maxone/Rp4.350.000",
          "Lenovo/Rp4.355.000",
          "Fujitsu/Rp4.360.000",
          "Lenovo/Rp4.379.000",
          "Advan/Rp4.399.000",
          "Axioo/Rp4.399.000",
          "Lenovo/Rp4.399.000",
          "Lenovo/Rp4.439.000",
          "Advan/Rp4.449.000",
          "Lenovo/Rp4.449.000",
          "Apple/Rp4.450.000",
          "Hp/Rp4.450.000",
          "Axioo/Rp4.479.000",
          "Lenovo/Rp4.479.000",
          "Lenovo/Rp4.489.000",
          "Fujitsu/Rp4.490.000",
          "Hp/Rp4.490.000",
          "Lenovo/Rp4.490.000",
          "Advan/Rp4.499.000",
          "Apple/Rp4.500.000",
          "Dell/Rp4.500.000",
          "Hp/Rp4.500.000",
          "Lenovo/Rp4.549.000",
          "Asus/Rp4.550.000",
          "Dell/Rp4.550.000",
          "Advan/Rp4.599.000",
          "Hp/Rp4.600.000",
          "Asus/Rp4.619.000",
          "Asus/Rp4.639.200",
          "Acer/Rp4.669.000",
          "Advan/Rp4.677.000",
          "Lenovo/Rp4.679.000",
          "Acer/Rp4.689.000",
          "Hp/Rp4.700.000",
          "Asus/Rp4.709.000",
          "Asus/Rp4.719.000",
          "Asus/Rp4.745.000",
          "Asus/Rp4.749.000",
          "Lenovo/Rp4.750.000",
          "Lenovo/Rp4.775.000",
          "Asus/Rp4.776.000",
          "Asus/Rp4.799.000",
          "Lenovo/Rp4.799.000",
          "Lenovo/Rp4.800.000",
          "Asus/Rp4.804.000",
          "Hp/Rp4.859.000",
          "Acer/Rp4.899.000",
          "Asus/Rp4.899.000",
          "Lenovo/Rp4.899.000",
          "Lenovo/Rp4.900.000",
          "Acer/Rp4.949.000",
          "Hp/Rp4.949.000",
          "Lenovo/Rp4.949.000",
          "Apple/Rp4.950.000",
          "Acer/Rp4.999",
          "Axioo/Rp4.999.000",
          "Lenovo/Rp4.999.000",
          "Dell/Rp4.999.999",
          "Lenovo/Rp41.699.000",
          "Lenovo/Rp420.000",
          "Asus/Rp450.000",
          "Dell/Rp5.000.000",
          "Lenovo/Rp5.000.000",
          "Msi/Rp5.000.000",
          "Asus/Rp5.049.000",
          "Asus/Rp5.099.000",
          "Lenovo/Rp5.129.000",
          "Asus/Rp5.149.000",
          "Hp/Rp5.149.000",
          "Fujitsu/Rp5.190.000",
          "Infinix/Rp5.226.000",
          "Lenovo/Rp5.249.000",
          "Dell/Rp5.250.000",
          "Lenovo/Rp5.299.000",
          "Msi/Rp5.299.000",
          "Hp/Rp5.339.000",
          "Axioo/Rp5.349.000",
          "Dell/Rp5.349.000",
          "Hp/Rp5.349.000",
          "Lenovo/Rp5.350.000",
          "Lenovo/Rp5.352.000",
          "Acer/Rp5.368.146",
          "Axioo/Rp5.389.000",
          "Dell/Rp5.390.000",
          "Asus/Rp5.399.000",
          "Axioo/Rp5.399.000",
          "Hp/Rp5.399.000",
          "Infinix/Rp5.399.000",
          "Infinix/Rp5.419.000",
          "Acer/Rp5.449.000",
          "Apple/Rp5.450.000",
          "Axioo/Rp5.499.000",
          "Dell/Rp5.499.000",
          "Lenovo/Rp5.499.000",
          "Asus/Rp5.500.000",
          "Dell/Rp5.500.000",
          "Hp/Rp5.523.000",
          "Lenovo/Rp5.549.000",
          "Lenovo/Rp5.579.000",
          "Asus/Rp5.599.000",
          "Hp/Rp5.599.000",
          "Infinix/Rp5.599.000",
          "Lenovo/Rp5.599.000",
          "Acer/Rp5.629.000",
          "Lenovo/Rp5.635.000",
          "Apple/Rp5.650.000",
          "Asus/Rp5.652.000",
          "Acer/Rp5.660.000",
          "Asus/Rp5.679.000",
          "Asus/Rp5.689.000",
          "Axioo/Rp5.699.000",
          "Hp/Rp5.699.000",
          "Lenovo/Rp5.699.000",
          "Asus/Rp5.700.000",
          "Lenovo/Rp5.700.000",
          "Asus/Rp5.709.000",
          "Lenovo/Rp5.713.837",
          "Asus/Rp5.749.000",
          "Asus/Rp5.755.000",
          "Hp/Rp5.792.000",
          "Hp/Rp5.799.000",
          "Lenovo/Rp5.799.000",
          "Lenovo/Rp5.800.000",
          "Asus/Rp5.805.000",
          "Hp/Rp5.849.000",
          "Msi/Rp5.849.000",
          "Lenovo/Rp5.850.000",
          "Asus/Rp5.889.000",
          "Hp/Rp5.891.000",
          "Asus/Rp5.895.000",
          "Asus/Rp5.899.000",
          "Lenovo/Rp5.899.000",
          "Asus/Rp5.908.000",
          "Hp/Rp5.949.000",
          "Lenovo/Rp5.950.000",
          "Asus/Rp5.954.800",
          "Asus/Rp5.959.000",
          "Lenovo/Rp5.999.000",
          "Tecno/Rp5.999.000",
          "Asus/Rp50.999.000",
          "Lenovo/Rp500.000",
          "Axioo/Rp550.000",
          "Toshiba/Rp6.000.000",
          "Lenovo/Rp6.069.000",
          "Hp/Rp6.099.000",
          "Asus/Rp6.121.000",
          "Asus/Rp6.149.000",
          "Dell/Rp6.150.000",
          "Acer/Rp6.159.000",
          "Asus/Rp6.169.000",
          "Hp/Rp6.199.000",
          "Infinix/Rp6.199.000",
          "Lenovo/Rp6.199.000",
          "Asus/Rp6.200.000",
          "Asus/Rp6.240.000",
          "Asus/Rp6.249.000",
          "Dell/Rp6.250.000",
          "Lenovo/Rp6.299.000",
          "Asus/Rp6.300.000",
          "Lenovo/Rp6.345.000",
          "Asus/Rp6.349.000",
          "Lenovo/Rp6.349.000",
          "Axioo/Rp6.399.000",
          "Hp/Rp6.399.000",
          "Lenovo/Rp6.399.000",
          "Apple/Rp6.400.000",
          "Hp/Rp6.489.000",
          "Chuwi/Rp6.499.000",
          "Lenovo/Rp6.499.000",
          "Asus/Rp6.500.000",
          "Lenovo/Rp6.579.000",
          "Axioo/Rp6.599.000",
          "Asus/Rp6.600.000",
          "Advan/Rp6.649.000",
          "Lenovo/Rp6.650.000",
          "Asus/Rp6.725.000",
          "Lenovo/Rp6.789.000",
          "Infinix/Rp6.799.000",
          "Lenovo/Rp6.799.000",
          "Advan/Rp6.825.000",
          "Asus/Rp6.849.000",
          "Acer/Rp6.879.000",
          "Lenovo/Rp6.890.000",
          "Asus/Rp6.899.000",
          "Lenovo/Rp6.899.000",
          "Asus/Rp6.910.000",
          "Asus/Rp6.949.000",
          "Lenovo/Rp6.949.000",
          "Lenovo/Rp6.950.000",
          "Hp/Rp6.990.000",
          "Advan/Rp6.999.000",
          "Asus/Rp6.999.000",
          "Dell/Rp6.999.000",
          "Lenovo/Rp6.999.000",
          "Tecno/Rp6.999.000",
          "Acer/Rp600.000",
          "Hp/Rp600.000",
          "Lenovo/Rp65.000",
          "Asus/Rp650.000",
          "Lenovo/Rp660.000",
          "Apple/Rp7.000.000",
          "Dell/Rp7.000.000",
          "Advan/Rp7.049.000",
          "Asus/Rp7.049.000",
          "Asus/Rp7.099.000",
          "Hp/Rp7.099.000",
          "Asus/Rp7.179.000",
          "Acer/Rp7.199.000",
          "Asus/Rp7.199.000",
          "Infinix/Rp7.199.000",
          "Lenovo/Rp7.200.000",
          "Asus/Rp7.231.000",
          "Axioo/Rp7.249.000",
          "Hp/Rp7.249.000",
          "Asus/Rp7.250.000",
          "Acer/Rp7.349.000",
          "Msi/Rp7.349.000",
          "Ast/Rp7.350.000",
          "Asus/Rp7.377.000",
          "Huawei/Rp7.397.000",
          "Asus/Rp7.399.000",
          "Asus/Rp7.400.000",
          "Advan/Rp7.499.000",
          "Asus/Rp7.499.000",
          "Asus/Rp7.500.000",
          "Dell/Rp7.500.000",
          "Asus/Rp7.550.000",
          "Axioo/Rp7.649.000",
          "Asus/Rp7.729.000",
          "Hp/Rp7.746.000",
          "Acer/Rp7.789.000",
          "Hp/Rp7.793.000",
          "Hp/Rp7.799.000",
          "Lenovo/Rp7.799.000",
          "Asus/Rp7.899.000",
          "Asus/Rp7.935.000",
          "Lenovo/Rp7.939.000",
          "Asus/Rp7.990.000",
          "Advan/Rp7.999.000",
          "Tecno/Rp7.999.000",
          "Lenovo/Rp750.000",
          "Apple/Rp8.000.000",
          "Asus/Rp8.032.000",
          "Asus/Rp8.039.000",
          "Hp/Rp8.084.000",
          "Axioo/Rp8.099.000",
          "Msi/Rp8.099.000",
          "Acer/Rp8.129.000",
          "Acer/Rp8.135.770",
          "Lenovo/Rp8.139.000",
          "Lenovo/Rp8.144.000",
          "Asus/Rp8.148.000",
          "Asus/Rp8.149.000",
          "Lenovo/Rp8.149.000",
          "Ast/Rp8.150.000",
          "Lenovo/Rp8.179.000",
          "Asus/Rp8.200.000",
          "Asus/Rp8.235.000",
          "Apple/Rp8.250.000",
          "Asus/Rp8.339.000",
          "Asus/Rp8.399.000",
          "Axioo/Rp8.399.000",
          "Dell/Rp8.399.000",
          "Lenovo/Rp8.399.000",
          "Msi/Rp8.399.000",
          "Asus/Rp8.449.000",
          "Asus/Rp8.499.000",
          "Hp/Rp8.499.000",
          "Lenovo/Rp8.499.000",
          "Asus/Rp8.500.000",
          "Asus/Rp8.505.000",
          "Acer/Rp8.519.000",
          "Asus/Rp8.700.000",
          "Lenovo/Rp8.775.000",
          "Asus/Rp8.799.000",
          "Msi/Rp8.799.000",
          "Acer/Rp8.850.000",
          "Asus/Rp8.899.000",
          "Asus/Rp8.909.000",
          "Acer/Rp8.950.000",
          "Dell/Rp8.990.000",
          "Lenovo/Rp8.999.000",
          "Acer/Rp800.000",
          "Apple/Rp800.000",
          "Lenovo/Rp800.000",
          "Samsung/Rp800.000",
          "Asus/Rp850.000",
          "Dell/Rp850.000",
          "Msi/Rp88.799.000",
          "Lenovo/Rp9.000.000",
          "Hp/Rp9.099.000",
          "Acer/Rp9.199.000",
          "Asus/Rp9.299.000",
          "Msi/Rp9.299.000",
          "Asus/Rp9.349.000",
          "Asus/Rp9.359.000",
          "Asus/Rp9.399.000",
          "Axioo/Rp9.399.000",
          "Asus/Rp9.429.000",
          "Lenovo/Rp9.489.000",
          "Lenovo/Rp9.499.000",
          "Hp/Rp9.549.000",
          "Asus/Rp9.599.000",
          "Microsoft/Rp9.599.000",
          "Msi/Rp9.599.000",
          "Lenovo/Rp9.649.000",
          "Samsung/Rp9.649.000",
          "Asus/Rp9.692.000",
          "Asus/Rp9.699.000",
          "Hp/Rp9.699.000",
          "Lenovo/Rp9.759.000",
          "Asus/Rp9.849.000",
          "Asus/Rp9.899.000",
          "Lenovo/Rp9.899.000",
          "Msi/Rp9.899.000",
          "Msi/Rp9.900.000",
          "Hp/Rp9.935.000",
          "Hp/Rp9.949.000",
          "Lenovo/Rp9.949.000",
          "Dell/Rp9.999.000",
          "Lenovo/Rp9.999.000",
          "Asus/Rp900.000",
          "Lenovo/Rp900.000",
          "Acer/Rp930.000",
          "Lenovo/Rp950.000",
          "Lenovo/Rp970.000",
          "Hp/Rp999.000",
          "Acer",
          "Advan",
          "Amoli",
          "Apple",
          "Ast",
          "Asus",
          "Axioo",
          "Chuwi",
          "Dell",
          "Fujitsu",
          "Google",
          "Hasee",
          "Hp",
          "Huawei",
          "Infinix",
          "Lenovo",
          "Maxone",
          "Microsoft",
          "Msi",
          "Samsung",
          "Spc",
          "Tecno",
          "Toshiba",
          "Vaio",
          "Xiaomi",
          "Zyrex"
         ],
         "labels": [
          "Rp1.000.000",
          "Rp1.000.000.000",
          "Rp1.050.000",
          "Rp1.100.000",
          "Rp1.150.000",
          "Rp1.200.000",
          "Rp1.250.000",
          "Rp1.300.000",
          "Rp1.300.000",
          "Rp1.340.000",
          "Rp1.345.000",
          "Rp1.345.000",
          "Rp1.350.000",
          "Rp1.350.000",
          "Rp1.350.000",
          "Rp1.386.000",
          "Rp1.400.000",
          "Rp1.400.000",
          "Rp1.430.000",
          "Rp1.475.000",
          "Rp1.500.000",
          "Rp1.500.000",
          "Rp1.500.000",
          "Rp1.500.000",
          "Rp1.500.000",
          "Rp1.505.000",
          "Rp1.530.000",
          "Rp1.550.000",
          "Rp1.550.000",
          "Rp1.550.000",
          "Rp1.600.000",
          "Rp1.650.000",
          "Rp1.650.000",
          "Rp1.680.000",
          "Rp1.700.000",
          "Rp1.700.000",
          "Rp1.700.000",
          "Rp1.700.000",
          "Rp1.709.000",
          "Rp1.730.000",
          "Rp1.732.500",
          "Rp1.750.000",
          "Rp1.800.000",
          "Rp1.800.000",
          "Rp1.825.000",
          "Rp1.830.000",
          "Rp1.850.000",
          "Rp1.850.000",
          "Rp1.850.000",
          "Rp1.856.250",
          "Rp1.888.888",
          "Rp1.890.000",
          "Rp1.899.000",
          "Rp1.899.999",
          "Rp1.899.999",
          "Rp1.900.000",
          "Rp1.900.000",
          "Rp1.900.000",
          "Rp1.930.000",
          "Rp1.950.000",
          "Rp1.950.000",
          "Rp1.950.000",
          "Rp1.990.000",
          "Rp1.999.000",
          "Rp1.999.000",
          "Rp10.000.000",
          "Rp10.099.000",
          "Rp10.199.000",
          "Rp10.249.000",
          "Rp10.299.000",
          "Rp10.299.000",
          "Rp10.399.000",
          "Rp10.419.000",
          "Rp10.450.000",
          "Rp10.469.000",
          "Rp10.499.000",
          "Rp10.559.000",
          "Rp10.799.000",
          "Rp10.849.000",
          "Rp10.875.000",
          "Rp10.879.000",
          "Rp10.899.000",
          "Rp10.929.000",
          "Rp10.949.000",
          "Rp10.999.000",
          "Rp10.999.000",
          "Rp105.000",
          "Rp107.000.000",
          "Rp11.000.000",
          "Rp11.000.000",
          "Rp11.049.000",
          "Rp11.099.000",
          "Rp11.184.000",
          "Rp11.189.000",
          "Rp11.299.000",
          "Rp11.299.000",
          "Rp11.399.000",
          "Rp11.449.000",
          "Rp11.499.000",
          "Rp11.499.000",
          "Rp11.539.000",
          "Rp11.699.000",
          "Rp11.699.000",
          "Rp11.799.000",
          "Rp11.889.000",
          "Rp11.949.000",
          "Rp11.999.000",
          "Rp110.000.000",
          "Rp113.600",
          "Rp114.999.000",
          "Rp12.299.000",
          "Rp12.397.000",
          "Rp12.485.000",
          "Rp12.699.000",
          "Rp12.699.000",
          "Rp12.849.000",
          "Rp12.889.000",
          "Rp12.899.000",
          "Rp12.999.000",
          "Rp12.999.000",
          "Rp13.000.000",
          "Rp13.099.000",
          "Rp13.099.000",
          "Rp13.299.000",
          "Rp13.399.000",
          "Rp13.399.000",
          "Rp13.447.000",
          "Rp13.499.000",
          "Rp13.499.000",
          "Rp13.499.000",
          "Rp13.599.000",
          "Rp13.599.000",
          "Rp13.654.000",
          "Rp13.750.000",
          "Rp13.799.000",
          "Rp13.820.000",
          "Rp13.910.000",
          "Rp14.099.000",
          "Rp14.115.600",
          "Rp14.299.000",
          "Rp14.399.000",
          "Rp14.469.000",
          "Rp14.499.000",
          "Rp14.550.000",
          "Rp14.650.890",
          "Rp14.699.000",
          "Rp14.799.000",
          "Rp14.899.000",
          "Rp14.899.000",
          "Rp14.949.000",
          "Rp14.999.000",
          "Rp15.099.000",
          "Rp15.399.000",
          "Rp15.490.000",
          "Rp15.549.000",
          "Rp15.599.000",
          "Rp15.799.000",
          "Rp15.899.000",
          "Rp15.999.000",
          "Rp15.999.000",
          "Rp150.000",
          "Rp16.199.000",
          "Rp16.449.000",
          "Rp16.599.000",
          "Rp16.689.000",
          "Rp16.999.000",
          "Rp17.340.000",
          "Rp17.489.000",
          "Rp17.500.000",
          "Rp17.932.100",
          "Rp18.799.000",
          "Rp185.399.000",
          "Rp19.999.000",
          "Rp19.999.000",
          "Rp19.999.000",
          "Rp2.000",
          "Rp2.000.000",
          "Rp2.000.000",
          "Rp2.050.000",
          "Rp2.090.000",
          "Rp2.100.000",
          "Rp2.100.000",
          "Rp2.150.000",
          "Rp2.199.000",
          "Rp2.200.000",
          "Rp2.200.000",
          "Rp2.200.000",
          "Rp2.200.000",
          "Rp2.200.000",
          "Rp2.200.000",
          "Rp2.249.250",
          "Rp2.250.000",
          "Rp2.300.000",
          "Rp2.300.000",
          "Rp2.300.000",
          "Rp2.300.000",
          "Rp2.300.000",
          "Rp2.300.000",
          "Rp2.339.000",
          "Rp2.348.000",
          "Rp2.350.000",
          "Rp2.350.000",
          "Rp2.390.000",
          "Rp2.399.000",
          "Rp2.400.000",
          "Rp2.400.000",
          "Rp2.400.000",
          "Rp2.438.000",
          "Rp2.449.000",
          "Rp2.450.000",
          "Rp2.467.500",
          "Rp2.475.000",
          "Rp2.489.000",
          "Rp2.498.000",
          "Rp2.499.000",
          "Rp2.499.000",
          "Rp2.500.000",
          "Rp2.500.000",
          "Rp2.500.000",
          "Rp2.500.000",
          "Rp2.550.000",
          "Rp2.550.000",
          "Rp2.590.000",
          "Rp2.599.000",
          "Rp2.600.000",
          "Rp2.600.000",
          "Rp2.600.000",
          "Rp2.649.999",
          "Rp2.650.000",
          "Rp2.650.000",
          "Rp2.669.000",
          "Rp2.700.000",
          "Rp2.700.000",
          "Rp2.700.000",
          "Rp2.700.000",
          "Rp2.749.000",
          "Rp2.749.000",
          "Rp2.750.000",
          "Rp2.750.000",
          "Rp2.759.000",
          "Rp2.769.000",
          "Rp2.790.000",
          "Rp2.799.000",
          "Rp2.799.999",
          "Rp2.800.000",
          "Rp2.800.000",
          "Rp2.800.000",
          "Rp2.800.000",
          "Rp2.800.000",
          "Rp2.835.000",
          "Rp2.850.000",
          "Rp2.875.000",
          "Rp2.899.000",
          "Rp2.900.000",
          "Rp2.900.000",
          "Rp2.999.000",
          "Rp2.999.999",
          "Rp20.199.000",
          "Rp20.497.000",
          "Rp20.869.000",
          "Rp21.500.000",
          "Rp21.600.000",
          "Rp22.999.000",
          "Rp24.599.000",
          "Rp24.899.000",
          "Rp25.299.000",
          "Rp25.999.000",
          "Rp26.499.000",
          "Rp28.999.000",
          "Rp3.000.000",
          "Rp3.000.000",
          "Rp3.040.000",
          "Rp3.049.000",
          "Rp3.050.000",
          "Rp3.050.000",
          "Rp3.050.000",
          "Rp3.050.000",
          "Rp3.050.000",
          "Rp3.055.000",
          "Rp3.100.000",
          "Rp3.100.000",
          "Rp3.150.000",
          "Rp3.150.000",
          "Rp3.155.000",
          "Rp3.185.000",
          "Rp3.200.000",
          "Rp3.200.000",
          "Rp3.217.500",
          "Rp3.250.000",
          "Rp3.250.000",
          "Rp3.290.000",
          "Rp3.299.999",
          "Rp3.299.999",
          "Rp3.300.000",
          "Rp3.300.000",
          "Rp3.300.000",
          "Rp3.305.000",
          "Rp3.320.000",
          "Rp3.335.000",
          "Rp3.349.000",
          "Rp3.350.000",
          "Rp3.380.000",
          "Rp3.390.000",
          "Rp3.399.000",
          "Rp3.399.000",
          "Rp3.400.000",
          "Rp3.400.000",
          "Rp3.430.000",
          "Rp3.490.000",
          "Rp3.499.000",
          "Rp3.499.000",
          "Rp3.499.999",
          "Rp3.499.999",
          "Rp3.500.000",
          "Rp3.599.000",
          "Rp3.600.000",
          "Rp3.650.000",
          "Rp3.690.900",
          "Rp3.699.000",
          "Rp3.699.000",
          "Rp3.699.999",
          "Rp3.700.000",
          "Rp3.700.000",
          "Rp3.700.000",
          "Rp3.700.000",
          "Rp3.712.500",
          "Rp3.749.000",
          "Rp3.779.000",
          "Rp3.799.000",
          "Rp3.800.000",
          "Rp3.800.000",
          "Rp3.805.000",
          "Rp3.849.000",
          "Rp3.850.000",
          "Rp3.859.000",
          "Rp3.900.000",
          "Rp3.900.000",
          "Rp3.900.000",
          "Rp3.920.000",
          "Rp3.950.000",
          "Rp3.950.000",
          "Rp3.951.000",
          "Rp3.970.000",
          "Rp3.979.000",
          "Rp3.990.000",
          "Rp3.990.000",
          "Rp3.999.000",
          "Rp300.000",
          "Rp300.000",
          "Rp39.999.000",
          "Rp4.000.000",
          "Rp4.000.000",
          "Rp4.000.000",
          "Rp4.090.000",
          "Rp4.090.000",
          "Rp4.100.000",
          "Rp4.100.000",
          "Rp4.100.000",
          "Rp4.139.000",
          "Rp4.149.000",
          "Rp4.150.000",
          "Rp4.199.000",
          "Rp4.199.000",
          "Rp4.207.500",
          "Rp4.216.000",
          "Rp4.229.000",
          "Rp4.250.000",
          "Rp4.250.000",
          "Rp4.275.000",
          "Rp4.279.000",
          "Rp4.290.000",
          "Rp4.299.000",
          "Rp4.350.000",
          "Rp4.355.000",
          "Rp4.360.000",
          "Rp4.379.000",
          "Rp4.399.000",
          "Rp4.399.000",
          "Rp4.399.000",
          "Rp4.439.000",
          "Rp4.449.000",
          "Rp4.449.000",
          "Rp4.450.000",
          "Rp4.450.000",
          "Rp4.479.000",
          "Rp4.479.000",
          "Rp4.489.000",
          "Rp4.490.000",
          "Rp4.490.000",
          "Rp4.490.000",
          "Rp4.499.000",
          "Rp4.500.000",
          "Rp4.500.000",
          "Rp4.500.000",
          "Rp4.549.000",
          "Rp4.550.000",
          "Rp4.550.000",
          "Rp4.599.000",
          "Rp4.600.000",
          "Rp4.619.000",
          "Rp4.639.200",
          "Rp4.669.000",
          "Rp4.677.000",
          "Rp4.679.000",
          "Rp4.689.000",
          "Rp4.700.000",
          "Rp4.709.000",
          "Rp4.719.000",
          "Rp4.745.000",
          "Rp4.749.000",
          "Rp4.750.000",
          "Rp4.775.000",
          "Rp4.776.000",
          "Rp4.799.000",
          "Rp4.799.000",
          "Rp4.800.000",
          "Rp4.804.000",
          "Rp4.859.000",
          "Rp4.899.000",
          "Rp4.899.000",
          "Rp4.899.000",
          "Rp4.900.000",
          "Rp4.949.000",
          "Rp4.949.000",
          "Rp4.949.000",
          "Rp4.950.000",
          "Rp4.999",
          "Rp4.999.000",
          "Rp4.999.000",
          "Rp4.999.999",
          "Rp41.699.000",
          "Rp420.000",
          "Rp450.000",
          "Rp5.000.000",
          "Rp5.000.000",
          "Rp5.000.000",
          "Rp5.049.000",
          "Rp5.099.000",
          "Rp5.129.000",
          "Rp5.149.000",
          "Rp5.149.000",
          "Rp5.190.000",
          "Rp5.226.000",
          "Rp5.249.000",
          "Rp5.250.000",
          "Rp5.299.000",
          "Rp5.299.000",
          "Rp5.339.000",
          "Rp5.349.000",
          "Rp5.349.000",
          "Rp5.349.000",
          "Rp5.350.000",
          "Rp5.352.000",
          "Rp5.368.146",
          "Rp5.389.000",
          "Rp5.390.000",
          "Rp5.399.000",
          "Rp5.399.000",
          "Rp5.399.000",
          "Rp5.399.000",
          "Rp5.419.000",
          "Rp5.449.000",
          "Rp5.450.000",
          "Rp5.499.000",
          "Rp5.499.000",
          "Rp5.499.000",
          "Rp5.500.000",
          "Rp5.500.000",
          "Rp5.523.000",
          "Rp5.549.000",
          "Rp5.579.000",
          "Rp5.599.000",
          "Rp5.599.000",
          "Rp5.599.000",
          "Rp5.599.000",
          "Rp5.629.000",
          "Rp5.635.000",
          "Rp5.650.000",
          "Rp5.652.000",
          "Rp5.660.000",
          "Rp5.679.000",
          "Rp5.689.000",
          "Rp5.699.000",
          "Rp5.699.000",
          "Rp5.699.000",
          "Rp5.700.000",
          "Rp5.700.000",
          "Rp5.709.000",
          "Rp5.713.837",
          "Rp5.749.000",
          "Rp5.755.000",
          "Rp5.792.000",
          "Rp5.799.000",
          "Rp5.799.000",
          "Rp5.800.000",
          "Rp5.805.000",
          "Rp5.849.000",
          "Rp5.849.000",
          "Rp5.850.000",
          "Rp5.889.000",
          "Rp5.891.000",
          "Rp5.895.000",
          "Rp5.899.000",
          "Rp5.899.000",
          "Rp5.908.000",
          "Rp5.949.000",
          "Rp5.950.000",
          "Rp5.954.800",
          "Rp5.959.000",
          "Rp5.999.000",
          "Rp5.999.000",
          "Rp50.999.000",
          "Rp500.000",
          "Rp550.000",
          "Rp6.000.000",
          "Rp6.069.000",
          "Rp6.099.000",
          "Rp6.121.000",
          "Rp6.149.000",
          "Rp6.150.000",
          "Rp6.159.000",
          "Rp6.169.000",
          "Rp6.199.000",
          "Rp6.199.000",
          "Rp6.199.000",
          "Rp6.200.000",
          "Rp6.240.000",
          "Rp6.249.000",
          "Rp6.250.000",
          "Rp6.299.000",
          "Rp6.300.000",
          "Rp6.345.000",
          "Rp6.349.000",
          "Rp6.349.000",
          "Rp6.399.000",
          "Rp6.399.000",
          "Rp6.399.000",
          "Rp6.400.000",
          "Rp6.489.000",
          "Rp6.499.000",
          "Rp6.499.000",
          "Rp6.500.000",
          "Rp6.579.000",
          "Rp6.599.000",
          "Rp6.600.000",
          "Rp6.649.000",
          "Rp6.650.000",
          "Rp6.725.000",
          "Rp6.789.000",
          "Rp6.799.000",
          "Rp6.799.000",
          "Rp6.825.000",
          "Rp6.849.000",
          "Rp6.879.000",
          "Rp6.890.000",
          "Rp6.899.000",
          "Rp6.899.000",
          "Rp6.910.000",
          "Rp6.949.000",
          "Rp6.949.000",
          "Rp6.950.000",
          "Rp6.990.000",
          "Rp6.999.000",
          "Rp6.999.000",
          "Rp6.999.000",
          "Rp6.999.000",
          "Rp6.999.000",
          "Rp600.000",
          "Rp600.000",
          "Rp65.000",
          "Rp650.000",
          "Rp660.000",
          "Rp7.000.000",
          "Rp7.000.000",
          "Rp7.049.000",
          "Rp7.049.000",
          "Rp7.099.000",
          "Rp7.099.000",
          "Rp7.179.000",
          "Rp7.199.000",
          "Rp7.199.000",
          "Rp7.199.000",
          "Rp7.200.000",
          "Rp7.231.000",
          "Rp7.249.000",
          "Rp7.249.000",
          "Rp7.250.000",
          "Rp7.349.000",
          "Rp7.349.000",
          "Rp7.350.000",
          "Rp7.377.000",
          "Rp7.397.000",
          "Rp7.399.000",
          "Rp7.400.000",
          "Rp7.499.000",
          "Rp7.499.000",
          "Rp7.500.000",
          "Rp7.500.000",
          "Rp7.550.000",
          "Rp7.649.000",
          "Rp7.729.000",
          "Rp7.746.000",
          "Rp7.789.000",
          "Rp7.793.000",
          "Rp7.799.000",
          "Rp7.799.000",
          "Rp7.899.000",
          "Rp7.935.000",
          "Rp7.939.000",
          "Rp7.990.000",
          "Rp7.999.000",
          "Rp7.999.000",
          "Rp750.000",
          "Rp8.000.000",
          "Rp8.032.000",
          "Rp8.039.000",
          "Rp8.084.000",
          "Rp8.099.000",
          "Rp8.099.000",
          "Rp8.129.000",
          "Rp8.135.770",
          "Rp8.139.000",
          "Rp8.144.000",
          "Rp8.148.000",
          "Rp8.149.000",
          "Rp8.149.000",
          "Rp8.150.000",
          "Rp8.179.000",
          "Rp8.200.000",
          "Rp8.235.000",
          "Rp8.250.000",
          "Rp8.339.000",
          "Rp8.399.000",
          "Rp8.399.000",
          "Rp8.399.000",
          "Rp8.399.000",
          "Rp8.399.000",
          "Rp8.449.000",
          "Rp8.499.000",
          "Rp8.499.000",
          "Rp8.499.000",
          "Rp8.500.000",
          "Rp8.505.000",
          "Rp8.519.000",
          "Rp8.700.000",
          "Rp8.775.000",
          "Rp8.799.000",
          "Rp8.799.000",
          "Rp8.850.000",
          "Rp8.899.000",
          "Rp8.909.000",
          "Rp8.950.000",
          "Rp8.990.000",
          "Rp8.999.000",
          "Rp800.000",
          "Rp800.000",
          "Rp800.000",
          "Rp800.000",
          "Rp850.000",
          "Rp850.000",
          "Rp88.799.000",
          "Rp9.000.000",
          "Rp9.099.000",
          "Rp9.199.000",
          "Rp9.299.000",
          "Rp9.299.000",
          "Rp9.349.000",
          "Rp9.359.000",
          "Rp9.399.000",
          "Rp9.399.000",
          "Rp9.429.000",
          "Rp9.489.000",
          "Rp9.499.000",
          "Rp9.549.000",
          "Rp9.599.000",
          "Rp9.599.000",
          "Rp9.599.000",
          "Rp9.649.000",
          "Rp9.649.000",
          "Rp9.692.000",
          "Rp9.699.000",
          "Rp9.699.000",
          "Rp9.759.000",
          "Rp9.849.000",
          "Rp9.899.000",
          "Rp9.899.000",
          "Rp9.899.000",
          "Rp9.900.000",
          "Rp9.935.000",
          "Rp9.949.000",
          "Rp9.949.000",
          "Rp9.999.000",
          "Rp9.999.000",
          "Rp900.000",
          "Rp900.000",
          "Rp930.000",
          "Rp950.000",
          "Rp970.000",
          "Rp999.000",
          "Acer",
          "Advan",
          "Amoli",
          "Apple",
          "Ast",
          "Asus",
          "Axioo",
          "Chuwi",
          "Dell",
          "Fujitsu",
          "Google",
          "Hasee",
          "Hp",
          "Huawei",
          "Infinix",
          "Lenovo",
          "Maxone",
          "Microsoft",
          "Msi",
          "Samsung",
          "Spc",
          "Tecno",
          "Toshiba",
          "Vaio",
          "Xiaomi",
          "Zyrex"
         ],
         "marker": {
          "line": {
           "color": "#ffffff",
           "width": 0.5
          }
         },
         "name": "",
         "parents": [
          "Lenovo",
          "Hp",
          "Lenovo",
          "Hp",
          "Asus",
          "Dell",
          "Asus",
          "Dell",
          "Lenovo",
          "Asus",
          "Asus",
          "Lenovo",
          "Asus",
          "Hp",
          "Lenovo",
          "Asus",
          "Hp",
          "Lenovo",
          "Microsoft",
          "Lenovo",
          "Acer",
          "Dell",
          "Hp",
          "Lenovo",
          "Vaio",
          "Axioo",
          "Lenovo",
          "Asus",
          "Lenovo",
          "Vaio",
          "Lenovo",
          "Acer",
          "Asus",
          "Asus",
          "Acer",
          "Asus",
          "Hp",
          "Lenovo",
          "Hp",
          "Lenovo",
          "Lenovo",
          "Lenovo",
          "Asus",
          "Dell",
          "Toshiba",
          "Hp",
          "Hp",
          "Lenovo",
          "Toshiba",
          "Lenovo",
          "Toshiba",
          "Apple",
          "Lenovo",
          "Fujitsu",
          "Lenovo",
          "Axioo",
          "Lenovo",
          "Toshiba",
          "Dell",
          "Axioo",
          "Hp",
          "Lenovo",
          "Lenovo",
          "Dell",
          "Zyrex",
          "Hp",
          "Lenovo",
          "Msi",
          "Lenovo",
          "Hp",
          "Lenovo",
          "Acer",
          "Asus",
          "Apple",
          "Asus",
          "Asus",
          "Apple",
          "Asus",
          "Asus",
          "Samsung",
          "Asus",
          "Asus",
          "Lenovo",
          "Asus",
          "Asus",
          "Lenovo",
          "Dell",
          "Asus",
          "Apple",
          "Asus",
          "Lenovo",
          "Asus",
          "Asus",
          "Lenovo",
          "Asus",
          "Hp",
          "Hp",
          "Lenovo",
          "Asus",
          "Lenovo",
          "Asus",
          "Hp",
          "Lenovo",
          "Hp",
          "Hp",
          "Asus",
          "Apple",
          "Dell",
          "Acer",
          "Msi",
          "Asus",
          "Asus",
          "Asus",
          "Dell",
          "Lenovo",
          "Acer",
          "Asus",
          "Acer",
          "Asus",
          "Lenovo",
          "Asus",
          "Asus",
          "Lenovo",
          "Acer",
          "Asus",
          "Lenovo",
          "Lenovo",
          "Acer",
          "Asus",
          "Dell",
          "Dell",
          "Lenovo",
          "Lenovo",
          "Lenovo",
          "Lenovo",
          "Hp",
          "Hp",
          "Dell",
          "Ast",
          "Lenovo",
          "Apple",
          "Asus",
          "Lenovo",
          "Asus",
          "Lenovo",
          "Lenovo",
          "Hp",
          "Dell",
          "Samsung",
          "Lenovo",
          "Asus",
          "Asus",
          "Lenovo",
          "Hp",
          "Hp",
          "Asus",
          "Msi",
          "Hp",
          "Apple",
          "Asus",
          "Lenovo",
          "Hp",
          "Asus",
          "Acer",
          "Hp",
          "Lenovo",
          "Lenovo",
          "Lenovo",
          "Asus",
          "Asus",
          "Lenovo",
          "Dell",
          "Apple",
          "Asus",
          "Lenovo",
          "Lenovo",
          "Asus",
          "Lenovo",
          "Lenovo",
          "Asus",
          "Lenovo",
          "Toshiba",
          "Lenovo",
          "Zyrex",
          "Acer",
          "Advan",
          "Asus",
          "Dell",
          "Hp",
          "Lenovo",
          "Hp",
          "Lenovo",
          "Acer",
          "Asus",
          "Dell",
          "Fujitsu",
          "Hp",
          "Lenovo",
          "Advan",
          "Advan",
          "Dell",
          "Lenovo",
          "Lenovo",
          "Zyrex",
          "Acer",
          "Dell",
          "Lenovo",
          "Asus",
          "Axioo",
          "Lenovo",
          "Dell",
          "Lenovo",
          "Axioo",
          "Axioo",
          "Advan",
          "Axioo",
          "Asus",
          "Dell",
          "Hp",
          "Lenovo",
          "Asus",
          "Lenovo",
          "Lenovo",
          "Zyrex",
          "Dell",
          "Fujitsu",
          "Xiaomi",
          "Lenovo",
          "Dell",
          "Lenovo",
          "Axioo",
          "Acer",
          "Asus",
          "Dell",
          "Hp",
          "Axioo",
          "Lenovo",
          "Asus",
          "Lenovo",
          "Lenovo",
          "Axioo",
          "Lenovo",
          "Lenovo",
          "Lenovo",
          "Amoli",
          "Dell",
          "Google",
          "Hp",
          "Lenovo",
          "Lenovo",
          "Lenovo",
          "Axioo",
          "Advan",
          "Acer",
          "Dell",
          "Advan",
          "Lenovo",
          "Asus",
          "Hp",
          "Asus",
          "Lenovo",
          "Advan",
          "Asus",
          "Lenovo",
          "Asus",
          "Asus",
          "Dell",
          "Dell",
          "Asus",
          "Asus",
          "Lenovo",
          "Lenovo",
          "Axioo",
          "Asus",
          "Axioo",
          "Hp",
          "Lenovo",
          "Toshiba",
          "Dell",
          "Asus",
          "Lenovo",
          "Hp",
          "Lenovo",
          "Axioo",
          "Lenovo",
          "Lenovo",
          "Msi",
          "Hp",
          "Hp",
          "Lenovo",
          "Dell",
          "Hp",
          "Lenovo",
          "Acer",
          "Lenovo",
          "Msi",
          "Axioo",
          "Hp",
          "Lenovo",
          "Zyrex",
          "Infinix",
          "Axioo",
          "Lenovo",
          "Apple",
          "Lenovo",
          "Dell",
          "Lenovo",
          "Amoli",
          "Lenovo",
          "Asus",
          "Lenovo",
          "Hp",
          "Lenovo",
          "Lenovo",
          "Asus",
          "Lenovo",
          "Lenovo",
          "Asus",
          "Lenovo",
          "Zyrex",
          "Lenovo",
          "Acer",
          "Hp",
          "Lenovo",
          "Msi",
          "Lenovo",
          "Spc",
          "Asus",
          "Asus",
          "Axioo",
          "Dell",
          "Axioo",
          "Asus",
          "Lenovo",
          "Asus",
          "Asus",
          "Hp",
          "Lenovo",
          "Advan",
          "Apple",
          "Lenovo",
          "Asus",
          "Apple",
          "Advan",
          "Asus",
          "Lenovo",
          "Zyrex",
          "Asus",
          "Lenovo",
          "Lenovo",
          "Asus",
          "Dell",
          "Hp",
          "Dell",
          "Fujitsu",
          "Dell",
          "Hp",
          "Lenovo",
          "Asus",
          "Asus",
          "Asus",
          "Axioo",
          "Zyrex",
          "Dell",
          "Axioo",
          "Axioo",
          "Hasee",
          "Lenovo",
          "Lenovo",
          "Lenovo",
          "Lenovo",
          "Lenovo",
          "Maxone",
          "Lenovo",
          "Fujitsu",
          "Lenovo",
          "Advan",
          "Axioo",
          "Lenovo",
          "Lenovo",
          "Advan",
          "Lenovo",
          "Apple",
          "Hp",
          "Axioo",
          "Lenovo",
          "Lenovo",
          "Fujitsu",
          "Hp",
          "Lenovo",
          "Advan",
          "Apple",
          "Dell",
          "Hp",
          "Lenovo",
          "Asus",
          "Dell",
          "Advan",
          "Hp",
          "Asus",
          "Asus",
          "Acer",
          "Advan",
          "Lenovo",
          "Acer",
          "Hp",
          "Asus",
          "Asus",
          "Asus",
          "Asus",
          "Lenovo",
          "Lenovo",
          "Asus",
          "Asus",
          "Lenovo",
          "Lenovo",
          "Asus",
          "Hp",
          "Acer",
          "Asus",
          "Lenovo",
          "Lenovo",
          "Acer",
          "Hp",
          "Lenovo",
          "Apple",
          "Acer",
          "Axioo",
          "Lenovo",
          "Dell",
          "Lenovo",
          "Lenovo",
          "Asus",
          "Dell",
          "Lenovo",
          "Msi",
          "Asus",
          "Asus",
          "Lenovo",
          "Asus",
          "Hp",
          "Fujitsu",
          "Infinix",
          "Lenovo",
          "Dell",
          "Lenovo",
          "Msi",
          "Hp",
          "Axioo",
          "Dell",
          "Hp",
          "Lenovo",
          "Lenovo",
          "Acer",
          "Axioo",
          "Dell",
          "Asus",
          "Axioo",
          "Hp",
          "Infinix",
          "Infinix",
          "Acer",
          "Apple",
          "Axioo",
          "Dell",
          "Lenovo",
          "Asus",
          "Dell",
          "Hp",
          "Lenovo",
          "Lenovo",
          "Asus",
          "Hp",
          "Infinix",
          "Lenovo",
          "Acer",
          "Lenovo",
          "Apple",
          "Asus",
          "Acer",
          "Asus",
          "Asus",
          "Axioo",
          "Hp",
          "Lenovo",
          "Asus",
          "Lenovo",
          "Asus",
          "Lenovo",
          "Asus",
          "Asus",
          "Hp",
          "Hp",
          "Lenovo",
          "Lenovo",
          "Asus",
          "Hp",
          "Msi",
          "Lenovo",
          "Asus",
          "Hp",
          "Asus",
          "Asus",
          "Lenovo",
          "Asus",
          "Hp",
          "Lenovo",
          "Asus",
          "Asus",
          "Lenovo",
          "Tecno",
          "Asus",
          "Lenovo",
          "Axioo",
          "Toshiba",
          "Lenovo",
          "Hp",
          "Asus",
          "Asus",
          "Dell",
          "Acer",
          "Asus",
          "Hp",
          "Infinix",
          "Lenovo",
          "Asus",
          "Asus",
          "Asus",
          "Dell",
          "Lenovo",
          "Asus",
          "Lenovo",
          "Asus",
          "Lenovo",
          "Axioo",
          "Hp",
          "Lenovo",
          "Apple",
          "Hp",
          "Chuwi",
          "Lenovo",
          "Asus",
          "Lenovo",
          "Axioo",
          "Asus",
          "Advan",
          "Lenovo",
          "Asus",
          "Lenovo",
          "Infinix",
          "Lenovo",
          "Advan",
          "Asus",
          "Acer",
          "Lenovo",
          "Asus",
          "Lenovo",
          "Asus",
          "Asus",
          "Lenovo",
          "Lenovo",
          "Hp",
          "Advan",
          "Asus",
          "Dell",
          "Lenovo",
          "Tecno",
          "Acer",
          "Hp",
          "Lenovo",
          "Asus",
          "Lenovo",
          "Apple",
          "Dell",
          "Advan",
          "Asus",
          "Asus",
          "Hp",
          "Asus",
          "Acer",
          "Asus",
          "Infinix",
          "Lenovo",
          "Asus",
          "Axioo",
          "Hp",
          "Asus",
          "Acer",
          "Msi",
          "Ast",
          "Asus",
          "Huawei",
          "Asus",
          "Asus",
          "Advan",
          "Asus",
          "Asus",
          "Dell",
          "Asus",
          "Axioo",
          "Asus",
          "Hp",
          "Acer",
          "Hp",
          "Hp",
          "Lenovo",
          "Asus",
          "Asus",
          "Lenovo",
          "Asus",
          "Advan",
          "Tecno",
          "Lenovo",
          "Apple",
          "Asus",
          "Asus",
          "Hp",
          "Axioo",
          "Msi",
          "Acer",
          "Acer",
          "Lenovo",
          "Lenovo",
          "Asus",
          "Asus",
          "Lenovo",
          "Ast",
          "Lenovo",
          "Asus",
          "Asus",
          "Apple",
          "Asus",
          "Asus",
          "Axioo",
          "Dell",
          "Lenovo",
          "Msi",
          "Asus",
          "Asus",
          "Hp",
          "Lenovo",
          "Asus",
          "Asus",
          "Acer",
          "Asus",
          "Lenovo",
          "Asus",
          "Msi",
          "Acer",
          "Asus",
          "Asus",
          "Acer",
          "Dell",
          "Lenovo",
          "Acer",
          "Apple",
          "Lenovo",
          "Samsung",
          "Asus",
          "Dell",
          "Msi",
          "Lenovo",
          "Hp",
          "Acer",
          "Asus",
          "Msi",
          "Asus",
          "Asus",
          "Asus",
          "Axioo",
          "Asus",
          "Lenovo",
          "Lenovo",
          "Hp",
          "Asus",
          "Microsoft",
          "Msi",
          "Lenovo",
          "Samsung",
          "Asus",
          "Asus",
          "Hp",
          "Lenovo",
          "Asus",
          "Asus",
          "Lenovo",
          "Msi",
          "Msi",
          "Hp",
          "Hp",
          "Lenovo",
          "Dell",
          "Lenovo",
          "Asus",
          "Lenovo",
          "Acer",
          "Lenovo",
          "Lenovo",
          "Hp",
          "",
          "",
          "",
          "",
          "",
          "",
          "",
          "",
          "",
          "",
          "",
          "",
          "",
          "",
          "",
          "",
          "",
          "",
          "",
          "",
          "",
          "",
          "",
          "",
          "",
          ""
         ],
         "textposition": "middle center",
         "texttemplate": "<b>%{label}</b><br>Sold: %{value}",
         "type": "treemap",
         "values": [
          4,
          0,
          100,
          16,
          0,
          12,
          93,
          60,
          0,
          40,
          250,
          2,
          40,
          1,
          250,
          40,
          70,
          340,
          70,
          6,
          80,
          121,
          17,
          0,
          0,
          0,
          2,
          60,
          204,
          3,
          2556,
          0,
          42,
          0,
          100,
          500,
          106,
          140,
          1,
          40,
          300,
          90,
          10,
          250,
          8,
          21,
          501,
          1000,
          100,
          100,
          60,
          21,
          100,
          40,
          4000,
          0,
          70,
          2,
          70,
          2,
          100,
          3,
          500,
          1,
          27,
          19,
          40,
          15,
          757,
          30,
          4,
          5,
          250,
          78,
          7,
          12,
          100,
          100,
          2000,
          40,
          0,
          74,
          100,
          100,
          1,
          5,
          1,
          0,
          50,
          1,
          0,
          0,
          100,
          200,
          8,
          100,
          1,
          754,
          8,
          100,
          100,
          24,
          80,
          200,
          750,
          100,
          1,
          0,
          10,
          2,
          500,
          15,
          0,
          100,
          39,
          1,
          750,
          0,
          1,
          5,
          9,
          250,
          15,
          15,
          152,
          60,
          100,
          0,
          250,
          100,
          5,
          9,
          0,
          7,
          100,
          0,
          100,
          250,
          0,
          8,
          2,
          200,
          52,
          7,
          1,
          90,
          5,
          10,
          40,
          1,
          2,
          502,
          40,
          0,
          100,
          100,
          1,
          1,
          250,
          1,
          0,
          100,
          250,
          0,
          4,
          30,
          100,
          2,
          2,
          0,
          250,
          0,
          60,
          7,
          100,
          0,
          27,
          2910,
          70,
          10,
          763,
          13,
          8,
          100,
          344,
          100,
          1,
          2,
          0,
          250,
          29,
          0,
          1,
          0,
          605,
          40,
          430,
          17,
          250,
          200,
          32,
          3,
          30,
          101,
          13,
          18,
          244,
          21,
          5120,
          290,
          28,
          250,
          23,
          100,
          300,
          2,
          0,
          31,
          860,
          1564,
          100,
          2030,
          22,
          32,
          100,
          16,
          0,
          140,
          1,
          100,
          100,
          40,
          100,
          15,
          30,
          2003,
          500,
          3,
          150,
          1,
          100,
          100,
          11,
          50,
          2000,
          100,
          60,
          80,
          805,
          0,
          25,
          16,
          3000,
          0,
          100,
          700,
          250,
          250,
          0,
          30,
          0,
          0,
          0,
          8,
          9,
          200,
          3,
          1,
          1,
          3,
          571,
          3,
          70,
          22,
          40,
          50,
          150,
          6,
          1,
          1,
          118,
          2,
          123,
          0,
          100,
          114,
          0,
          13,
          150,
          6,
          100,
          19,
          32,
          0,
          1070,
          0,
          1,
          7,
          6,
          90,
          0,
          0,
          60,
          15,
          257,
          100,
          1,
          1000,
          1000,
          1,
          100,
          15,
          0,
          300,
          27,
          3,
          344,
          1,
          12,
          100,
          250,
          0,
          6,
          26,
          0,
          30,
          100,
          2000,
          2000,
          0,
          30,
          0,
          1807,
          100,
          15,
          22,
          80,
          250,
          850,
          19,
          250,
          1000,
          28,
          100,
          30,
          170,
          400,
          0,
          2,
          0,
          0,
          30,
          18,
          4,
          109,
          50,
          0,
          102,
          250,
          60,
          0,
          1742,
          90,
          10,
          750,
          3000,
          0,
          100,
          250,
          11,
          100,
          100,
          0,
          7,
          30,
          925,
          100,
          340,
          90,
          23,
          100,
          1250,
          17,
          50,
          90,
          507,
          0,
          100,
          40,
          40,
          100,
          30,
          2,
          0,
          100,
          1,
          18,
          1750,
          25,
          50,
          13,
          850,
          170,
          1000,
          253,
          50,
          40,
          0,
          2,
          52,
          100,
          0,
          5,
          2,
          4,
          2,
          100,
          250,
          19,
          9,
          500,
          500,
          114,
          90,
          8,
          2,
          5,
          1000,
          330,
          30,
          16,
          6,
          0,
          0,
          112,
          0,
          6,
          0,
          5,
          40,
          250,
          2,
          1000,
          527,
          30,
          0,
          24,
          100,
          100,
          50,
          180,
          500,
          1,
          6,
          580,
          50,
          350,
          500,
          100,
          840,
          250,
          508,
          16,
          100,
          60,
          350,
          0,
          2,
          3,
          2259,
          3180,
          1000,
          204,
          250,
          46,
          100,
          1,
          30,
          750,
          500,
          1000,
          3886,
          10,
          100,
          6,
          0,
          4,
          18,
          19,
          1125,
          7,
          100,
          250,
          80,
          1,
          200,
          0,
          1,
          250,
          100,
          250,
          1,
          1190,
          100,
          100,
          10,
          40,
          0,
          290,
          200,
          100,
          5,
          0,
          40,
          100,
          255,
          100,
          30,
          26,
          0,
          3,
          4,
          2,
          2,
          1500,
          1,
          40,
          30,
          70,
          28,
          40,
          0,
          100,
          32,
          250,
          600,
          100,
          4,
          100,
          250,
          500,
          1,
          2000,
          200,
          1,
          100,
          4,
          250,
          250,
          250,
          70,
          100,
          804,
          76,
          12,
          126,
          929,
          1,
          121,
          1330,
          21,
          100,
          8100,
          227,
          100,
          90,
          100,
          250,
          60,
          1,
          1,
          0,
          12,
          5,
          50,
          100,
          30,
          430,
          750,
          102,
          10,
          100,
          9,
          80,
          100,
          750,
          21,
          100,
          1,
          6,
          7,
          2,
          1501,
          51,
          250,
          1352,
          1,
          22,
          3,
          180,
          9,
          0,
          100,
          250,
          1,
          98,
          1,
          500,
          1,
          3,
          13,
          100,
          8,
          3,
          17,
          756,
          0,
          80,
          80,
          100,
          100,
          100,
          500,
          1,
          158,
          2660,
          200,
          750,
          1,
          250,
          9,
          40,
          7,
          6,
          1,
          500,
          100,
          94,
          60,
          600,
          19,
          11,
          100,
          6,
          0,
          40,
          2,
          2,
          0,
          24,
          30,
          100,
          15,
          356,
          0,
          1,
          750,
          6,
          1,
          250,
          0,
          29,
          2,
          50,
          0,
          7,
          4,
          600,
          1,
          15,
          500,
          90,
          24,
          103,
          100,
          20,
          27,
          200,
          2,
          20,
          200,
          2,
          70,
          350,
          104,
          800,
          100,
          0,
          14,
          100,
          100,
          2,
          0,
          0,
          5,
          3,
          1000,
          100,
          100,
          3954,
          16333,
          3000,
          748,
          206,
          34920,
          16660,
          250,
          3048,
          337,
          60,
          0,
          9422,
          2,
          2692,
          57978,
          0,
          90,
          360,
          88,
          100,
          300,
          289,
          3,
          0,
          940
         ]
        }
       ],
       "layout": {
        "font": {
         "color": "black",
         "size": 15
        },
        "height": 600,
        "legend": {
         "tracegroupgap": 0
        },
        "margin": {
         "b": 20,
         "l": 20,
         "r": 20,
         "t": 40
        },
        "paper_bgcolor": "lightgray",
        "template": {
         "data": {
          "bar": [
           {
            "error_x": {
             "color": "#2a3f5f"
            },
            "error_y": {
             "color": "#2a3f5f"
            },
            "marker": {
             "line": {
              "color": "#E5ECF6",
              "width": 0.5
             },
             "pattern": {
              "fillmode": "overlay",
              "size": 10,
              "solidity": 0.2
             }
            },
            "type": "bar"
           }
          ],
          "barpolar": [
           {
            "marker": {
             "line": {
              "color": "#E5ECF6",
              "width": 0.5
             },
             "pattern": {
              "fillmode": "overlay",
              "size": 10,
              "solidity": 0.2
             }
            },
            "type": "barpolar"
           }
          ],
          "carpet": [
           {
            "aaxis": {
             "endlinecolor": "#2a3f5f",
             "gridcolor": "white",
             "linecolor": "white",
             "minorgridcolor": "white",
             "startlinecolor": "#2a3f5f"
            },
            "baxis": {
             "endlinecolor": "#2a3f5f",
             "gridcolor": "white",
             "linecolor": "white",
             "minorgridcolor": "white",
             "startlinecolor": "#2a3f5f"
            },
            "type": "carpet"
           }
          ],
          "choropleth": [
           {
            "colorbar": {
             "outlinewidth": 0,
             "ticks": ""
            },
            "type": "choropleth"
           }
          ],
          "contour": [
           {
            "colorbar": {
             "outlinewidth": 0,
             "ticks": ""
            },
            "colorscale": [
             [
              0,
              "#0d0887"
             ],
             [
              0.1111111111111111,
              "#46039f"
             ],
             [
              0.2222222222222222,
              "#7201a8"
             ],
             [
              0.3333333333333333,
              "#9c179e"
             ],
             [
              0.4444444444444444,
              "#bd3786"
             ],
             [
              0.5555555555555556,
              "#d8576b"
             ],
             [
              0.6666666666666666,
              "#ed7953"
             ],
             [
              0.7777777777777778,
              "#fb9f3a"
             ],
             [
              0.8888888888888888,
              "#fdca26"
             ],
             [
              1,
              "#f0f921"
             ]
            ],
            "type": "contour"
           }
          ],
          "contourcarpet": [
           {
            "colorbar": {
             "outlinewidth": 0,
             "ticks": ""
            },
            "type": "contourcarpet"
           }
          ],
          "heatmap": [
           {
            "colorbar": {
             "outlinewidth": 0,
             "ticks": ""
            },
            "colorscale": [
             [
              0,
              "#0d0887"
             ],
             [
              0.1111111111111111,
              "#46039f"
             ],
             [
              0.2222222222222222,
              "#7201a8"
             ],
             [
              0.3333333333333333,
              "#9c179e"
             ],
             [
              0.4444444444444444,
              "#bd3786"
             ],
             [
              0.5555555555555556,
              "#d8576b"
             ],
             [
              0.6666666666666666,
              "#ed7953"
             ],
             [
              0.7777777777777778,
              "#fb9f3a"
             ],
             [
              0.8888888888888888,
              "#fdca26"
             ],
             [
              1,
              "#f0f921"
             ]
            ],
            "type": "heatmap"
           }
          ],
          "heatmapgl": [
           {
            "colorbar": {
             "outlinewidth": 0,
             "ticks": ""
            },
            "colorscale": [
             [
              0,
              "#0d0887"
             ],
             [
              0.1111111111111111,
              "#46039f"
             ],
             [
              0.2222222222222222,
              "#7201a8"
             ],
             [
              0.3333333333333333,
              "#9c179e"
             ],
             [
              0.4444444444444444,
              "#bd3786"
             ],
             [
              0.5555555555555556,
              "#d8576b"
             ],
             [
              0.6666666666666666,
              "#ed7953"
             ],
             [
              0.7777777777777778,
              "#fb9f3a"
             ],
             [
              0.8888888888888888,
              "#fdca26"
             ],
             [
              1,
              "#f0f921"
             ]
            ],
            "type": "heatmapgl"
           }
          ],
          "histogram": [
           {
            "marker": {
             "pattern": {
              "fillmode": "overlay",
              "size": 10,
              "solidity": 0.2
             }
            },
            "type": "histogram"
           }
          ],
          "histogram2d": [
           {
            "colorbar": {
             "outlinewidth": 0,
             "ticks": ""
            },
            "colorscale": [
             [
              0,
              "#0d0887"
             ],
             [
              0.1111111111111111,
              "#46039f"
             ],
             [
              0.2222222222222222,
              "#7201a8"
             ],
             [
              0.3333333333333333,
              "#9c179e"
             ],
             [
              0.4444444444444444,
              "#bd3786"
             ],
             [
              0.5555555555555556,
              "#d8576b"
             ],
             [
              0.6666666666666666,
              "#ed7953"
             ],
             [
              0.7777777777777778,
              "#fb9f3a"
             ],
             [
              0.8888888888888888,
              "#fdca26"
             ],
             [
              1,
              "#f0f921"
             ]
            ],
            "type": "histogram2d"
           }
          ],
          "histogram2dcontour": [
           {
            "colorbar": {
             "outlinewidth": 0,
             "ticks": ""
            },
            "colorscale": [
             [
              0,
              "#0d0887"
             ],
             [
              0.1111111111111111,
              "#46039f"
             ],
             [
              0.2222222222222222,
              "#7201a8"
             ],
             [
              0.3333333333333333,
              "#9c179e"
             ],
             [
              0.4444444444444444,
              "#bd3786"
             ],
             [
              0.5555555555555556,
              "#d8576b"
             ],
             [
              0.6666666666666666,
              "#ed7953"
             ],
             [
              0.7777777777777778,
              "#fb9f3a"
             ],
             [
              0.8888888888888888,
              "#fdca26"
             ],
             [
              1,
              "#f0f921"
             ]
            ],
            "type": "histogram2dcontour"
           }
          ],
          "mesh3d": [
           {
            "colorbar": {
             "outlinewidth": 0,
             "ticks": ""
            },
            "type": "mesh3d"
           }
          ],
          "parcoords": [
           {
            "line": {
             "colorbar": {
              "outlinewidth": 0,
              "ticks": ""
             }
            },
            "type": "parcoords"
           }
          ],
          "pie": [
           {
            "automargin": true,
            "type": "pie"
           }
          ],
          "scatter": [
           {
            "fillpattern": {
             "fillmode": "overlay",
             "size": 10,
             "solidity": 0.2
            },
            "type": "scatter"
           }
          ],
          "scatter3d": [
           {
            "line": {
             "colorbar": {
              "outlinewidth": 0,
              "ticks": ""
             }
            },
            "marker": {
             "colorbar": {
              "outlinewidth": 0,
              "ticks": ""
             }
            },
            "type": "scatter3d"
           }
          ],
          "scattercarpet": [
           {
            "marker": {
             "colorbar": {
              "outlinewidth": 0,
              "ticks": ""
             }
            },
            "type": "scattercarpet"
           }
          ],
          "scattergeo": [
           {
            "marker": {
             "colorbar": {
              "outlinewidth": 0,
              "ticks": ""
             }
            },
            "type": "scattergeo"
           }
          ],
          "scattergl": [
           {
            "marker": {
             "colorbar": {
              "outlinewidth": 0,
              "ticks": ""
             }
            },
            "type": "scattergl"
           }
          ],
          "scattermapbox": [
           {
            "marker": {
             "colorbar": {
              "outlinewidth": 0,
              "ticks": ""
             }
            },
            "type": "scattermapbox"
           }
          ],
          "scatterpolar": [
           {
            "marker": {
             "colorbar": {
              "outlinewidth": 0,
              "ticks": ""
             }
            },
            "type": "scatterpolar"
           }
          ],
          "scatterpolargl": [
           {
            "marker": {
             "colorbar": {
              "outlinewidth": 0,
              "ticks": ""
             }
            },
            "type": "scatterpolargl"
           }
          ],
          "scatterternary": [
           {
            "marker": {
             "colorbar": {
              "outlinewidth": 0,
              "ticks": ""
             }
            },
            "type": "scatterternary"
           }
          ],
          "surface": [
           {
            "colorbar": {
             "outlinewidth": 0,
             "ticks": ""
            },
            "colorscale": [
             [
              0,
              "#0d0887"
             ],
             [
              0.1111111111111111,
              "#46039f"
             ],
             [
              0.2222222222222222,
              "#7201a8"
             ],
             [
              0.3333333333333333,
              "#9c179e"
             ],
             [
              0.4444444444444444,
              "#bd3786"
             ],
             [
              0.5555555555555556,
              "#d8576b"
             ],
             [
              0.6666666666666666,
              "#ed7953"
             ],
             [
              0.7777777777777778,
              "#fb9f3a"
             ],
             [
              0.8888888888888888,
              "#fdca26"
             ],
             [
              1,
              "#f0f921"
             ]
            ],
            "type": "surface"
           }
          ],
          "table": [
           {
            "cells": {
             "fill": {
              "color": "#EBF0F8"
             },
             "line": {
              "color": "white"
             }
            },
            "header": {
             "fill": {
              "color": "#C8D4E3"
             },
             "line": {
              "color": "white"
             }
            },
            "type": "table"
           }
          ]
         },
         "layout": {
          "annotationdefaults": {
           "arrowcolor": "#2a3f5f",
           "arrowhead": 0,
           "arrowwidth": 1
          },
          "autotypenumbers": "strict",
          "coloraxis": {
           "colorbar": {
            "outlinewidth": 0,
            "ticks": ""
           }
          },
          "colorscale": {
           "diverging": [
            [
             0,
             "#8e0152"
            ],
            [
             0.1,
             "#c51b7d"
            ],
            [
             0.2,
             "#de77ae"
            ],
            [
             0.3,
             "#f1b6da"
            ],
            [
             0.4,
             "#fde0ef"
            ],
            [
             0.5,
             "#f7f7f7"
            ],
            [
             0.6,
             "#e6f5d0"
            ],
            [
             0.7,
             "#b8e186"
            ],
            [
             0.8,
             "#7fbc41"
            ],
            [
             0.9,
             "#4d9221"
            ],
            [
             1,
             "#276419"
            ]
           ],
           "sequential": [
            [
             0,
             "#0d0887"
            ],
            [
             0.1111111111111111,
             "#46039f"
            ],
            [
             0.2222222222222222,
             "#7201a8"
            ],
            [
             0.3333333333333333,
             "#9c179e"
            ],
            [
             0.4444444444444444,
             "#bd3786"
            ],
            [
             0.5555555555555556,
             "#d8576b"
            ],
            [
             0.6666666666666666,
             "#ed7953"
            ],
            [
             0.7777777777777778,
             "#fb9f3a"
            ],
            [
             0.8888888888888888,
             "#fdca26"
            ],
            [
             1,
             "#f0f921"
            ]
           ],
           "sequentialminus": [
            [
             0,
             "#0d0887"
            ],
            [
             0.1111111111111111,
             "#46039f"
            ],
            [
             0.2222222222222222,
             "#7201a8"
            ],
            [
             0.3333333333333333,
             "#9c179e"
            ],
            [
             0.4444444444444444,
             "#bd3786"
            ],
            [
             0.5555555555555556,
             "#d8576b"
            ],
            [
             0.6666666666666666,
             "#ed7953"
            ],
            [
             0.7777777777777778,
             "#fb9f3a"
            ],
            [
             0.8888888888888888,
             "#fdca26"
            ],
            [
             1,
             "#f0f921"
            ]
           ]
          },
          "colorway": [
           "#636efa",
           "#EF553B",
           "#00cc96",
           "#ab63fa",
           "#FFA15A",
           "#19d3f3",
           "#FF6692",
           "#B6E880",
           "#FF97FF",
           "#FECB52"
          ],
          "font": {
           "color": "#2a3f5f"
          },
          "geo": {
           "bgcolor": "white",
           "lakecolor": "white",
           "landcolor": "#E5ECF6",
           "showlakes": true,
           "showland": true,
           "subunitcolor": "white"
          },
          "hoverlabel": {
           "align": "left"
          },
          "hovermode": "closest",
          "mapbox": {
           "style": "light"
          },
          "paper_bgcolor": "white",
          "plot_bgcolor": "#E5ECF6",
          "polar": {
           "angularaxis": {
            "gridcolor": "white",
            "linecolor": "white",
            "ticks": ""
           },
           "bgcolor": "#E5ECF6",
           "radialaxis": {
            "gridcolor": "white",
            "linecolor": "white",
            "ticks": ""
           }
          },
          "scene": {
           "xaxis": {
            "backgroundcolor": "#E5ECF6",
            "gridcolor": "white",
            "gridwidth": 2,
            "linecolor": "white",
            "showbackground": true,
            "ticks": "",
            "zerolinecolor": "white"
           },
           "yaxis": {
            "backgroundcolor": "#E5ECF6",
            "gridcolor": "white",
            "gridwidth": 2,
            "linecolor": "white",
            "showbackground": true,
            "ticks": "",
            "zerolinecolor": "white"
           },
           "zaxis": {
            "backgroundcolor": "#E5ECF6",
            "gridcolor": "white",
            "gridwidth": 2,
            "linecolor": "white",
            "showbackground": true,
            "ticks": "",
            "zerolinecolor": "white"
           }
          },
          "shapedefaults": {
           "line": {
            "color": "#2a3f5f"
           }
          },
          "ternary": {
           "aaxis": {
            "gridcolor": "white",
            "linecolor": "white",
            "ticks": ""
           },
           "baxis": {
            "gridcolor": "white",
            "linecolor": "white",
            "ticks": ""
           },
           "bgcolor": "#E5ECF6",
           "caxis": {
            "gridcolor": "white",
            "linecolor": "white",
            "ticks": ""
           }
          },
          "title": {
           "x": 0.05
          },
          "xaxis": {
           "automargin": true,
           "gridcolor": "white",
           "linecolor": "white",
           "ticks": "",
           "title": {
            "standoff": 15
           },
           "zerolinecolor": "white",
           "zerolinewidth": 2
          },
          "yaxis": {
           "automargin": true,
           "gridcolor": "white",
           "linecolor": "white",
           "ticks": "",
           "title": {
            "standoff": 15
           },
           "zerolinecolor": "white",
           "zerolinewidth": 2
          }
         }
        },
        "title": {
         "text": "<b>Brand Popularity by Price Volume<b>",
         "y": 0.97
        }
       }
      }
     },
     "metadata": {},
     "output_type": "display_data"
    }
   ],
   "source": [
    "fig = px.treemap(\n",
    "    brand_popularity_price,\n",
    "    path=['Brand','Price Format'],\n",
    "    values='Sold',\n",
    "    title='<b>Brand Popularity by Price Volume<b>',\n",
    "    height=600,\n",
    ")\n",
    "\n",
    "fig.update_layout(\n",
    "    margin=dict(l=20, r=20, t=40, b=20),\n",
    "    paper_bgcolor='lightgray',\n",
    "    title_y=0.97,\n",
    "    font_color='black',\n",
    "    font_size=15\n",
    ")\n",
    "\n",
    "fig.update_traces(\n",
    "    hovertemplate=\"<b>Price: %{label}</b><br>Sold: %{value}<br>Brand: %{parent}<extra></extra>\",\n",
    "    marker=dict(line=dict(color='#ffffff', width=0.5)),\n",
    "    textposition=\"middle center\",\n",
    "    texttemplate=\"<b>%{label}</b><br>Sold: %{value}\",\n",
    ")\n",
    "\n",
    "fig.show()"
   ]
  },
  {
   "cell_type": "code",
   "execution_count": 28,
   "id": "1caabd14",
   "metadata": {},
   "outputs": [
    {
     "data": {
      "text/html": [
       "<div>\n",
       "<style scoped>\n",
       "    .dataframe tbody tr th:only-of-type {\n",
       "        vertical-align: middle;\n",
       "    }\n",
       "\n",
       "    .dataframe tbody tr th {\n",
       "        vertical-align: top;\n",
       "    }\n",
       "\n",
       "    .dataframe thead th {\n",
       "        text-align: right;\n",
       "    }\n",
       "</style>\n",
       "<table border=\"1\" class=\"dataframe\">\n",
       "  <thead>\n",
       "    <tr style=\"text-align: right;\">\n",
       "      <th></th>\n",
       "      <th>Location</th>\n",
       "      <th>Popularity</th>\n",
       "      <th>Satisfaction</th>\n",
       "      <th>Size</th>\n",
       "    </tr>\n",
       "  </thead>\n",
       "  <tbody>\n",
       "    <tr>\n",
       "      <th>0</th>\n",
       "      <td>Jakarta Utara</td>\n",
       "      <td>59821</td>\n",
       "      <td>4.6</td>\n",
       "      <td>1</td>\n",
       "    </tr>\n",
       "    <tr>\n",
       "      <th>1</th>\n",
       "      <td>Jakarta Pusat</td>\n",
       "      <td>36510</td>\n",
       "      <td>4.5</td>\n",
       "      <td>1</td>\n",
       "    </tr>\n",
       "    <tr>\n",
       "      <th>2</th>\n",
       "      <td>Jakarta Barat</td>\n",
       "      <td>24176</td>\n",
       "      <td>4.6</td>\n",
       "      <td>1</td>\n",
       "    </tr>\n",
       "    <tr>\n",
       "      <th>3</th>\n",
       "      <td>Kab. Tangerang</td>\n",
       "      <td>15728</td>\n",
       "      <td>4.2</td>\n",
       "      <td>1</td>\n",
       "    </tr>\n",
       "    <tr>\n",
       "      <th>4</th>\n",
       "      <td>Jakarta Selatan</td>\n",
       "      <td>8051</td>\n",
       "      <td>4.2</td>\n",
       "      <td>1</td>\n",
       "    </tr>\n",
       "    <tr>\n",
       "      <th>5</th>\n",
       "      <td>Bandung</td>\n",
       "      <td>3105</td>\n",
       "      <td>3.9</td>\n",
       "      <td>1</td>\n",
       "    </tr>\n",
       "    <tr>\n",
       "      <th>6</th>\n",
       "      <td>Surabaya</td>\n",
       "      <td>913</td>\n",
       "      <td>3.6</td>\n",
       "      <td>1</td>\n",
       "    </tr>\n",
       "    <tr>\n",
       "      <th>7</th>\n",
       "      <td>Bogor</td>\n",
       "      <td>876</td>\n",
       "      <td>4.3</td>\n",
       "      <td>1</td>\n",
       "    </tr>\n",
       "    <tr>\n",
       "      <th>8</th>\n",
       "      <td>Jakarta Timur</td>\n",
       "      <td>721</td>\n",
       "      <td>4.6</td>\n",
       "      <td>1</td>\n",
       "    </tr>\n",
       "    <tr>\n",
       "      <th>9</th>\n",
       "      <td>Kab. Bekasi</td>\n",
       "      <td>399</td>\n",
       "      <td>3.8</td>\n",
       "      <td>1</td>\n",
       "    </tr>\n",
       "    <tr>\n",
       "      <th>10</th>\n",
       "      <td>Depok</td>\n",
       "      <td>260</td>\n",
       "      <td>3.3</td>\n",
       "      <td>1</td>\n",
       "    </tr>\n",
       "    <tr>\n",
       "      <th>11</th>\n",
       "      <td>Denpasar</td>\n",
       "      <td>257</td>\n",
       "      <td>5.0</td>\n",
       "      <td>1</td>\n",
       "    </tr>\n",
       "    <tr>\n",
       "      <th>12</th>\n",
       "      <td>Tangerang</td>\n",
       "      <td>219</td>\n",
       "      <td>1.9</td>\n",
       "      <td>1</td>\n",
       "    </tr>\n",
       "    <tr>\n",
       "      <th>13</th>\n",
       "      <td>Kab. Bogor</td>\n",
       "      <td>200</td>\n",
       "      <td>3.3</td>\n",
       "      <td>1</td>\n",
       "    </tr>\n",
       "    <tr>\n",
       "      <th>14</th>\n",
       "      <td>Yogyakarta</td>\n",
       "      <td>138</td>\n",
       "      <td>5.0</td>\n",
       "      <td>1</td>\n",
       "    </tr>\n",
       "    <tr>\n",
       "      <th>15</th>\n",
       "      <td>Makassar</td>\n",
       "      <td>96</td>\n",
       "      <td>4.1</td>\n",
       "      <td>1</td>\n",
       "    </tr>\n",
       "    <tr>\n",
       "      <th>16</th>\n",
       "      <td>Bekasi</td>\n",
       "      <td>83</td>\n",
       "      <td>2.2</td>\n",
       "      <td>1</td>\n",
       "    </tr>\n",
       "    <tr>\n",
       "      <th>17</th>\n",
       "      <td>Pekanbaru</td>\n",
       "      <td>80</td>\n",
       "      <td>2.4</td>\n",
       "      <td>1</td>\n",
       "    </tr>\n",
       "    <tr>\n",
       "      <th>18</th>\n",
       "      <td>Medan</td>\n",
       "      <td>67</td>\n",
       "      <td>2.1</td>\n",
       "      <td>1</td>\n",
       "    </tr>\n",
       "    <tr>\n",
       "      <th>19</th>\n",
       "      <td>Malang</td>\n",
       "      <td>19</td>\n",
       "      <td>1.1</td>\n",
       "      <td>1</td>\n",
       "    </tr>\n",
       "    <tr>\n",
       "      <th>20</th>\n",
       "      <td>Tangerang Selatan</td>\n",
       "      <td>15</td>\n",
       "      <td>2.5</td>\n",
       "      <td>1</td>\n",
       "    </tr>\n",
       "    <tr>\n",
       "      <th>21</th>\n",
       "      <td>Kab. Karawang</td>\n",
       "      <td>10</td>\n",
       "      <td>1.7</td>\n",
       "      <td>1</td>\n",
       "    </tr>\n",
       "    <tr>\n",
       "      <th>22</th>\n",
       "      <td>Kab. Sleman</td>\n",
       "      <td>9</td>\n",
       "      <td>1.0</td>\n",
       "      <td>1</td>\n",
       "    </tr>\n",
       "    <tr>\n",
       "      <th>23</th>\n",
       "      <td>Kab. Bandung</td>\n",
       "      <td>7</td>\n",
       "      <td>4.6</td>\n",
       "      <td>1</td>\n",
       "    </tr>\n",
       "    <tr>\n",
       "      <th>24</th>\n",
       "      <td>Semarang</td>\n",
       "      <td>7</td>\n",
       "      <td>2.5</td>\n",
       "      <td>1</td>\n",
       "    </tr>\n",
       "    <tr>\n",
       "      <th>25</th>\n",
       "      <td>Batam</td>\n",
       "      <td>6</td>\n",
       "      <td>5.0</td>\n",
       "      <td>1</td>\n",
       "    </tr>\n",
       "    <tr>\n",
       "      <th>26</th>\n",
       "      <td>Kab. Gresik</td>\n",
       "      <td>4</td>\n",
       "      <td>0.0</td>\n",
       "      <td>1</td>\n",
       "    </tr>\n",
       "    <tr>\n",
       "      <th>27</th>\n",
       "      <td>Kab. Lebak</td>\n",
       "      <td>2</td>\n",
       "      <td>0.0</td>\n",
       "      <td>1</td>\n",
       "    </tr>\n",
       "    <tr>\n",
       "      <th>28</th>\n",
       "      <td>Kediri</td>\n",
       "      <td>1</td>\n",
       "      <td>5.0</td>\n",
       "      <td>1</td>\n",
       "    </tr>\n",
       "    <tr>\n",
       "      <th>29</th>\n",
       "      <td>Surakarta</td>\n",
       "      <td>0</td>\n",
       "      <td>0.0</td>\n",
       "      <td>1</td>\n",
       "    </tr>\n",
       "    <tr>\n",
       "      <th>30</th>\n",
       "      <td>Tasikmalaya</td>\n",
       "      <td>0</td>\n",
       "      <td>0.0</td>\n",
       "      <td>1</td>\n",
       "    </tr>\n",
       "    <tr>\n",
       "      <th>31</th>\n",
       "      <td>Kab. Cirebon</td>\n",
       "      <td>0</td>\n",
       "      <td>0.0</td>\n",
       "      <td>1</td>\n",
       "    </tr>\n",
       "    <tr>\n",
       "      <th>32</th>\n",
       "      <td>Cirebon</td>\n",
       "      <td>0</td>\n",
       "      <td>0.0</td>\n",
       "      <td>1</td>\n",
       "    </tr>\n",
       "    <tr>\n",
       "      <th>33</th>\n",
       "      <td>Pontianak</td>\n",
       "      <td>0</td>\n",
       "      <td>0.0</td>\n",
       "      <td>1</td>\n",
       "    </tr>\n",
       "    <tr>\n",
       "      <th>34</th>\n",
       "      <td>Kab. Subang</td>\n",
       "      <td>0</td>\n",
       "      <td>0.0</td>\n",
       "      <td>1</td>\n",
       "    </tr>\n",
       "    <tr>\n",
       "      <th>35</th>\n",
       "      <td>Kab. Kotawaringin Barat</td>\n",
       "      <td>0</td>\n",
       "      <td>0.0</td>\n",
       "      <td>1</td>\n",
       "    </tr>\n",
       "    <tr>\n",
       "      <th>36</th>\n",
       "      <td>Kab. Kendal</td>\n",
       "      <td>0</td>\n",
       "      <td>0.0</td>\n",
       "      <td>1</td>\n",
       "    </tr>\n",
       "  </tbody>\n",
       "</table>\n",
       "</div>"
      ],
      "text/plain": [
       "                   Location  Popularity  Satisfaction  Size\n",
       "0             Jakarta Utara       59821           4.6     1\n",
       "1             Jakarta Pusat       36510           4.5     1\n",
       "2             Jakarta Barat       24176           4.6     1\n",
       "3            Kab. Tangerang       15728           4.2     1\n",
       "4           Jakarta Selatan        8051           4.2     1\n",
       "5                   Bandung        3105           3.9     1\n",
       "6                  Surabaya         913           3.6     1\n",
       "7                     Bogor         876           4.3     1\n",
       "8             Jakarta Timur         721           4.6     1\n",
       "9               Kab. Bekasi         399           3.8     1\n",
       "10                    Depok         260           3.3     1\n",
       "11                 Denpasar         257           5.0     1\n",
       "12                Tangerang         219           1.9     1\n",
       "13               Kab. Bogor         200           3.3     1\n",
       "14               Yogyakarta         138           5.0     1\n",
       "15                 Makassar          96           4.1     1\n",
       "16                   Bekasi          83           2.2     1\n",
       "17                Pekanbaru          80           2.4     1\n",
       "18                    Medan          67           2.1     1\n",
       "19                   Malang          19           1.1     1\n",
       "20        Tangerang Selatan          15           2.5     1\n",
       "21            Kab. Karawang          10           1.7     1\n",
       "22              Kab. Sleman           9           1.0     1\n",
       "23             Kab. Bandung           7           4.6     1\n",
       "24                 Semarang           7           2.5     1\n",
       "25                    Batam           6           5.0     1\n",
       "26              Kab. Gresik           4           0.0     1\n",
       "27               Kab. Lebak           2           0.0     1\n",
       "28                   Kediri           1           5.0     1\n",
       "29                Surakarta           0           0.0     1\n",
       "30              Tasikmalaya           0           0.0     1\n",
       "31             Kab. Cirebon           0           0.0     1\n",
       "32                  Cirebon           0           0.0     1\n",
       "33                Pontianak           0           0.0     1\n",
       "34              Kab. Subang           0           0.0     1\n",
       "35  Kab. Kotawaringin Barat           0           0.0     1\n",
       "36              Kab. Kendal           0           0.0     1"
      ]
     },
     "execution_count": 28,
     "metadata": {},
     "output_type": "execute_result"
    }
   ],
   "source": [
    "loc_sold = df.groupby(['Location'])['Sold'].sum().reset_index()\n",
    "loc_rate = df.groupby(['Location'])['Rating'].mean().round(1)\n",
    "loc_satisfaction = pd.merge(loc_sold, loc_rate, on='Location').rename(columns={'Sold':'Popularity', 'Rating':'Satisfaction'})\n",
    "loc_satisfaction = loc_satisfaction.sort_values(by='Popularity', ascending=False).reset_index().drop(columns='index')\n",
    "loc_satisfaction['Size'] = 1\n",
    "loc_satisfaction"
   ]
  },
  {
   "cell_type": "code",
   "execution_count": 45,
   "id": "720c5b52",
   "metadata": {},
   "outputs": [
    {
     "data": {
      "application/vnd.plotly.v1+json": {
       "config": {
        "plotlyServerURL": "https://plot.ly"
       },
       "data": [
        {
         "alignmentgroup": "True",
         "customdata": [
          [
           59821,
           4.6
          ],
          [
           36510,
           4.5
          ],
          [
           24176,
           4.6
          ],
          [
           15728,
           4.2
          ],
          [
           8051,
           4.2
          ],
          [
           3105,
           3.9
          ],
          [
           913,
           3.6
          ],
          [
           876,
           4.3
          ],
          [
           721,
           4.6
          ],
          [
           399,
           3.8
          ],
          [
           260,
           3.3
          ],
          [
           257,
           5
          ],
          [
           219,
           1.9
          ],
          [
           200,
           3.3
          ],
          [
           138,
           5
          ],
          [
           96,
           4.1
          ],
          [
           83,
           2.2
          ],
          [
           80,
           2.4
          ],
          [
           67,
           2.1
          ],
          [
           19,
           1.1
          ],
          [
           15,
           2.5
          ],
          [
           10,
           1.7
          ],
          [
           9,
           1
          ],
          [
           7,
           4.6
          ],
          [
           7,
           2.5
          ],
          [
           6,
           5
          ],
          [
           4,
           0
          ],
          [
           2,
           0
          ],
          [
           1,
           5
          ],
          [
           0,
           0
          ],
          [
           0,
           0
          ],
          [
           0,
           0
          ],
          [
           0,
           0
          ],
          [
           0,
           0
          ],
          [
           0,
           0
          ],
          [
           0,
           0
          ],
          [
           0,
           0
          ]
         ],
         "hovertemplate": "<b>%{y}</b><br>Satisfaction: %{customdata[1]}<br>Popularity: %{customdata[0]:.1f}K<extra></extra>",
         "legendgroup": "",
         "marker": {
          "color": [
           4.6,
           4.5,
           4.6,
           4.2,
           4.2,
           3.9,
           3.6,
           4.3,
           4.6,
           3.8,
           3.3,
           5,
           1.9,
           3.3,
           5,
           4.1,
           2.2,
           2.4,
           2.1,
           1.1,
           2.5,
           1.7,
           1,
           4.6,
           2.5,
           5,
           0,
           0,
           5,
           0,
           0,
           0,
           0,
           0,
           0,
           0,
           0
          ],
          "coloraxis": "coloraxis",
          "line": {
           "color": "#000000",
           "width": 0.5
          },
          "pattern": {
           "shape": ""
          }
         },
         "name": "",
         "offsetgroup": "",
         "orientation": "h",
         "showlegend": false,
         "textfont": {
          "color": "black",
          "size": 30
         },
         "textposition": "outside",
         "texttemplate": "%{customdata[0]}",
         "type": "bar",
         "x": [
          59821,
          36510,
          24176,
          15728,
          8051,
          3105,
          913,
          876,
          721,
          399,
          260,
          257,
          219,
          200,
          138,
          96,
          83,
          80,
          67,
          19,
          15,
          10,
          9,
          7,
          7,
          6,
          4,
          2,
          1,
          0,
          0,
          0,
          0,
          0,
          0,
          0,
          0
         ],
         "xaxis": "x",
         "y": [
          "Jakarta Utara",
          "Jakarta Pusat",
          "Jakarta Barat",
          "Kab. Tangerang",
          "Jakarta Selatan",
          "Bandung",
          "Surabaya",
          "Bogor",
          "Jakarta Timur",
          "Kab. Bekasi",
          "Depok",
          "Denpasar",
          "Tangerang",
          "Kab. Bogor",
          "Yogyakarta",
          "Makassar",
          "Bekasi",
          "Pekanbaru",
          "Medan",
          "Malang",
          "Tangerang Selatan",
          "Kab. Karawang",
          "Kab. Sleman",
          "Kab. Bandung",
          "Semarang",
          "Batam",
          "Kab. Gresik",
          "Kab. Lebak",
          "Kediri",
          "Surakarta",
          "Tasikmalaya",
          "Kab. Cirebon",
          "Cirebon",
          "Pontianak",
          "Kab. Subang",
          "Kab. Kotawaringin Barat",
          "Kab. Kendal"
         ],
         "yaxis": "y"
        }
       ],
       "layout": {
        "barmode": "relative",
        "coloraxis": {
         "colorbar": {
          "thickness": 30,
          "tickfont": {
           "color": "black"
          },
          "ticks": "inside",
          "ticktext": [
           "1",
           "2",
           "3",
           "4"
          ],
          "tickvals": [
           1,
           2,
           3,
           4
          ],
          "title": {
           "font": {
            "size": 14
           },
           "text": "Satisfaction"
          }
         },
         "colorscale": [
          [
           0,
           "rgb(165,0,38)"
          ],
          [
           0.1,
           "rgb(215,48,39)"
          ],
          [
           0.2,
           "rgb(244,109,67)"
          ],
          [
           0.3,
           "rgb(253,174,97)"
          ],
          [
           0.4,
           "rgb(254,224,139)"
          ],
          [
           0.5,
           "rgb(255,255,191)"
          ],
          [
           0.6,
           "rgb(217,239,139)"
          ],
          [
           0.7,
           "rgb(166,217,106)"
          ],
          [
           0.8,
           "rgb(102,189,99)"
          ],
          [
           0.9,
           "rgb(26,152,80)"
          ],
          [
           1,
           "rgb(0,104,55)"
          ]
         ]
        },
        "font": {
         "color": "black",
         "size": 13
        },
        "height": 800,
        "legend": {
         "tracegroupgap": 0
        },
        "margin": {
         "b": 20,
         "l": 20,
         "r": 20,
         "t": 40
        },
        "paper_bgcolor": "lightgray",
        "plot_bgcolor": "white",
        "template": {
         "data": {
          "bar": [
           {
            "error_x": {
             "color": "#2a3f5f"
            },
            "error_y": {
             "color": "#2a3f5f"
            },
            "marker": {
             "line": {
              "color": "#E5ECF6",
              "width": 0.5
             },
             "pattern": {
              "fillmode": "overlay",
              "size": 10,
              "solidity": 0.2
             }
            },
            "type": "bar"
           }
          ],
          "barpolar": [
           {
            "marker": {
             "line": {
              "color": "#E5ECF6",
              "width": 0.5
             },
             "pattern": {
              "fillmode": "overlay",
              "size": 10,
              "solidity": 0.2
             }
            },
            "type": "barpolar"
           }
          ],
          "carpet": [
           {
            "aaxis": {
             "endlinecolor": "#2a3f5f",
             "gridcolor": "white",
             "linecolor": "white",
             "minorgridcolor": "white",
             "startlinecolor": "#2a3f5f"
            },
            "baxis": {
             "endlinecolor": "#2a3f5f",
             "gridcolor": "white",
             "linecolor": "white",
             "minorgridcolor": "white",
             "startlinecolor": "#2a3f5f"
            },
            "type": "carpet"
           }
          ],
          "choropleth": [
           {
            "colorbar": {
             "outlinewidth": 0,
             "ticks": ""
            },
            "type": "choropleth"
           }
          ],
          "contour": [
           {
            "colorbar": {
             "outlinewidth": 0,
             "ticks": ""
            },
            "colorscale": [
             [
              0,
              "#0d0887"
             ],
             [
              0.1111111111111111,
              "#46039f"
             ],
             [
              0.2222222222222222,
              "#7201a8"
             ],
             [
              0.3333333333333333,
              "#9c179e"
             ],
             [
              0.4444444444444444,
              "#bd3786"
             ],
             [
              0.5555555555555556,
              "#d8576b"
             ],
             [
              0.6666666666666666,
              "#ed7953"
             ],
             [
              0.7777777777777778,
              "#fb9f3a"
             ],
             [
              0.8888888888888888,
              "#fdca26"
             ],
             [
              1,
              "#f0f921"
             ]
            ],
            "type": "contour"
           }
          ],
          "contourcarpet": [
           {
            "colorbar": {
             "outlinewidth": 0,
             "ticks": ""
            },
            "type": "contourcarpet"
           }
          ],
          "heatmap": [
           {
            "colorbar": {
             "outlinewidth": 0,
             "ticks": ""
            },
            "colorscale": [
             [
              0,
              "#0d0887"
             ],
             [
              0.1111111111111111,
              "#46039f"
             ],
             [
              0.2222222222222222,
              "#7201a8"
             ],
             [
              0.3333333333333333,
              "#9c179e"
             ],
             [
              0.4444444444444444,
              "#bd3786"
             ],
             [
              0.5555555555555556,
              "#d8576b"
             ],
             [
              0.6666666666666666,
              "#ed7953"
             ],
             [
              0.7777777777777778,
              "#fb9f3a"
             ],
             [
              0.8888888888888888,
              "#fdca26"
             ],
             [
              1,
              "#f0f921"
             ]
            ],
            "type": "heatmap"
           }
          ],
          "heatmapgl": [
           {
            "colorbar": {
             "outlinewidth": 0,
             "ticks": ""
            },
            "colorscale": [
             [
              0,
              "#0d0887"
             ],
             [
              0.1111111111111111,
              "#46039f"
             ],
             [
              0.2222222222222222,
              "#7201a8"
             ],
             [
              0.3333333333333333,
              "#9c179e"
             ],
             [
              0.4444444444444444,
              "#bd3786"
             ],
             [
              0.5555555555555556,
              "#d8576b"
             ],
             [
              0.6666666666666666,
              "#ed7953"
             ],
             [
              0.7777777777777778,
              "#fb9f3a"
             ],
             [
              0.8888888888888888,
              "#fdca26"
             ],
             [
              1,
              "#f0f921"
             ]
            ],
            "type": "heatmapgl"
           }
          ],
          "histogram": [
           {
            "marker": {
             "pattern": {
              "fillmode": "overlay",
              "size": 10,
              "solidity": 0.2
             }
            },
            "type": "histogram"
           }
          ],
          "histogram2d": [
           {
            "colorbar": {
             "outlinewidth": 0,
             "ticks": ""
            },
            "colorscale": [
             [
              0,
              "#0d0887"
             ],
             [
              0.1111111111111111,
              "#46039f"
             ],
             [
              0.2222222222222222,
              "#7201a8"
             ],
             [
              0.3333333333333333,
              "#9c179e"
             ],
             [
              0.4444444444444444,
              "#bd3786"
             ],
             [
              0.5555555555555556,
              "#d8576b"
             ],
             [
              0.6666666666666666,
              "#ed7953"
             ],
             [
              0.7777777777777778,
              "#fb9f3a"
             ],
             [
              0.8888888888888888,
              "#fdca26"
             ],
             [
              1,
              "#f0f921"
             ]
            ],
            "type": "histogram2d"
           }
          ],
          "histogram2dcontour": [
           {
            "colorbar": {
             "outlinewidth": 0,
             "ticks": ""
            },
            "colorscale": [
             [
              0,
              "#0d0887"
             ],
             [
              0.1111111111111111,
              "#46039f"
             ],
             [
              0.2222222222222222,
              "#7201a8"
             ],
             [
              0.3333333333333333,
              "#9c179e"
             ],
             [
              0.4444444444444444,
              "#bd3786"
             ],
             [
              0.5555555555555556,
              "#d8576b"
             ],
             [
              0.6666666666666666,
              "#ed7953"
             ],
             [
              0.7777777777777778,
              "#fb9f3a"
             ],
             [
              0.8888888888888888,
              "#fdca26"
             ],
             [
              1,
              "#f0f921"
             ]
            ],
            "type": "histogram2dcontour"
           }
          ],
          "mesh3d": [
           {
            "colorbar": {
             "outlinewidth": 0,
             "ticks": ""
            },
            "type": "mesh3d"
           }
          ],
          "parcoords": [
           {
            "line": {
             "colorbar": {
              "outlinewidth": 0,
              "ticks": ""
             }
            },
            "type": "parcoords"
           }
          ],
          "pie": [
           {
            "automargin": true,
            "type": "pie"
           }
          ],
          "scatter": [
           {
            "fillpattern": {
             "fillmode": "overlay",
             "size": 10,
             "solidity": 0.2
            },
            "type": "scatter"
           }
          ],
          "scatter3d": [
           {
            "line": {
             "colorbar": {
              "outlinewidth": 0,
              "ticks": ""
             }
            },
            "marker": {
             "colorbar": {
              "outlinewidth": 0,
              "ticks": ""
             }
            },
            "type": "scatter3d"
           }
          ],
          "scattercarpet": [
           {
            "marker": {
             "colorbar": {
              "outlinewidth": 0,
              "ticks": ""
             }
            },
            "type": "scattercarpet"
           }
          ],
          "scattergeo": [
           {
            "marker": {
             "colorbar": {
              "outlinewidth": 0,
              "ticks": ""
             }
            },
            "type": "scattergeo"
           }
          ],
          "scattergl": [
           {
            "marker": {
             "colorbar": {
              "outlinewidth": 0,
              "ticks": ""
             }
            },
            "type": "scattergl"
           }
          ],
          "scattermapbox": [
           {
            "marker": {
             "colorbar": {
              "outlinewidth": 0,
              "ticks": ""
             }
            },
            "type": "scattermapbox"
           }
          ],
          "scatterpolar": [
           {
            "marker": {
             "colorbar": {
              "outlinewidth": 0,
              "ticks": ""
             }
            },
            "type": "scatterpolar"
           }
          ],
          "scatterpolargl": [
           {
            "marker": {
             "colorbar": {
              "outlinewidth": 0,
              "ticks": ""
             }
            },
            "type": "scatterpolargl"
           }
          ],
          "scatterternary": [
           {
            "marker": {
             "colorbar": {
              "outlinewidth": 0,
              "ticks": ""
             }
            },
            "type": "scatterternary"
           }
          ],
          "surface": [
           {
            "colorbar": {
             "outlinewidth": 0,
             "ticks": ""
            },
            "colorscale": [
             [
              0,
              "#0d0887"
             ],
             [
              0.1111111111111111,
              "#46039f"
             ],
             [
              0.2222222222222222,
              "#7201a8"
             ],
             [
              0.3333333333333333,
              "#9c179e"
             ],
             [
              0.4444444444444444,
              "#bd3786"
             ],
             [
              0.5555555555555556,
              "#d8576b"
             ],
             [
              0.6666666666666666,
              "#ed7953"
             ],
             [
              0.7777777777777778,
              "#fb9f3a"
             ],
             [
              0.8888888888888888,
              "#fdca26"
             ],
             [
              1,
              "#f0f921"
             ]
            ],
            "type": "surface"
           }
          ],
          "table": [
           {
            "cells": {
             "fill": {
              "color": "#EBF0F8"
             },
             "line": {
              "color": "white"
             }
            },
            "header": {
             "fill": {
              "color": "#C8D4E3"
             },
             "line": {
              "color": "white"
             }
            },
            "type": "table"
           }
          ]
         },
         "layout": {
          "annotationdefaults": {
           "arrowcolor": "#2a3f5f",
           "arrowhead": 0,
           "arrowwidth": 1
          },
          "autotypenumbers": "strict",
          "coloraxis": {
           "colorbar": {
            "outlinewidth": 0,
            "ticks": ""
           }
          },
          "colorscale": {
           "diverging": [
            [
             0,
             "#8e0152"
            ],
            [
             0.1,
             "#c51b7d"
            ],
            [
             0.2,
             "#de77ae"
            ],
            [
             0.3,
             "#f1b6da"
            ],
            [
             0.4,
             "#fde0ef"
            ],
            [
             0.5,
             "#f7f7f7"
            ],
            [
             0.6,
             "#e6f5d0"
            ],
            [
             0.7,
             "#b8e186"
            ],
            [
             0.8,
             "#7fbc41"
            ],
            [
             0.9,
             "#4d9221"
            ],
            [
             1,
             "#276419"
            ]
           ],
           "sequential": [
            [
             0,
             "#0d0887"
            ],
            [
             0.1111111111111111,
             "#46039f"
            ],
            [
             0.2222222222222222,
             "#7201a8"
            ],
            [
             0.3333333333333333,
             "#9c179e"
            ],
            [
             0.4444444444444444,
             "#bd3786"
            ],
            [
             0.5555555555555556,
             "#d8576b"
            ],
            [
             0.6666666666666666,
             "#ed7953"
            ],
            [
             0.7777777777777778,
             "#fb9f3a"
            ],
            [
             0.8888888888888888,
             "#fdca26"
            ],
            [
             1,
             "#f0f921"
            ]
           ],
           "sequentialminus": [
            [
             0,
             "#0d0887"
            ],
            [
             0.1111111111111111,
             "#46039f"
            ],
            [
             0.2222222222222222,
             "#7201a8"
            ],
            [
             0.3333333333333333,
             "#9c179e"
            ],
            [
             0.4444444444444444,
             "#bd3786"
            ],
            [
             0.5555555555555556,
             "#d8576b"
            ],
            [
             0.6666666666666666,
             "#ed7953"
            ],
            [
             0.7777777777777778,
             "#fb9f3a"
            ],
            [
             0.8888888888888888,
             "#fdca26"
            ],
            [
             1,
             "#f0f921"
            ]
           ]
          },
          "colorway": [
           "#636efa",
           "#EF553B",
           "#00cc96",
           "#ab63fa",
           "#FFA15A",
           "#19d3f3",
           "#FF6692",
           "#B6E880",
           "#FF97FF",
           "#FECB52"
          ],
          "font": {
           "color": "#2a3f5f"
          },
          "geo": {
           "bgcolor": "white",
           "lakecolor": "white",
           "landcolor": "#E5ECF6",
           "showlakes": true,
           "showland": true,
           "subunitcolor": "white"
          },
          "hoverlabel": {
           "align": "left"
          },
          "hovermode": "closest",
          "mapbox": {
           "style": "light"
          },
          "paper_bgcolor": "white",
          "plot_bgcolor": "#E5ECF6",
          "polar": {
           "angularaxis": {
            "gridcolor": "white",
            "linecolor": "white",
            "ticks": ""
           },
           "bgcolor": "#E5ECF6",
           "radialaxis": {
            "gridcolor": "white",
            "linecolor": "white",
            "ticks": ""
           }
          },
          "scene": {
           "xaxis": {
            "backgroundcolor": "#E5ECF6",
            "gridcolor": "white",
            "gridwidth": 2,
            "linecolor": "white",
            "showbackground": true,
            "ticks": "",
            "zerolinecolor": "white"
           },
           "yaxis": {
            "backgroundcolor": "#E5ECF6",
            "gridcolor": "white",
            "gridwidth": 2,
            "linecolor": "white",
            "showbackground": true,
            "ticks": "",
            "zerolinecolor": "white"
           },
           "zaxis": {
            "backgroundcolor": "#E5ECF6",
            "gridcolor": "white",
            "gridwidth": 2,
            "linecolor": "white",
            "showbackground": true,
            "ticks": "",
            "zerolinecolor": "white"
           }
          },
          "shapedefaults": {
           "line": {
            "color": "#2a3f5f"
           }
          },
          "ternary": {
           "aaxis": {
            "gridcolor": "white",
            "linecolor": "white",
            "ticks": ""
           },
           "baxis": {
            "gridcolor": "white",
            "linecolor": "white",
            "ticks": ""
           },
           "bgcolor": "#E5ECF6",
           "caxis": {
            "gridcolor": "white",
            "linecolor": "white",
            "ticks": ""
           }
          },
          "title": {
           "x": 0.05
          },
          "xaxis": {
           "automargin": true,
           "gridcolor": "white",
           "linecolor": "white",
           "ticks": "",
           "title": {
            "standoff": 15
           },
           "zerolinecolor": "white",
           "zerolinewidth": 2
          },
          "yaxis": {
           "automargin": true,
           "gridcolor": "white",
           "linecolor": "white",
           "ticks": "",
           "title": {
            "standoff": 15
           },
           "zerolinecolor": "white",
           "zerolinewidth": 2
          }
         }
        },
        "title": {
         "text": "<b>Popular Locations Based on Satisfaction Ratings<b>",
         "x": 0.5,
         "y": 0.98
        },
        "xaxis": {
         "anchor": "y",
         "domain": [
          0,
          1
         ],
         "title": {
          "text": "Popularity"
         }
        },
        "yaxis": {
         "anchor": "x",
         "domain": [
          0,
          1
         ],
         "title": {
          "text": "Location"
         }
        }
       }
      }
     },
     "metadata": {},
     "output_type": "display_data"
    }
   ],
   "source": [
    "fig = px.bar(\n",
    "    loc_satisfaction,\n",
    "    x=\"Popularity\",\n",
    "    y=\"Location\",\n",
    "    orientation='h',\n",
    "    color=\"Satisfaction\",\n",
    "    color_continuous_scale=\"RdYlGn\",\n",
    "    title=\"<b>Popular Locations Based on Satisfaction Ratings<b>\",\n",
    ")\n",
    "\n",
    "fig.update_layout(\n",
    "    margin=dict(l=20, r=20, t=40, b=20),\n",
    "    height=800,\n",
    "    paper_bgcolor='lightgray',\n",
    "    plot_bgcolor='white',\n",
    "    title_x=0.5,\n",
    "    title_y=0.98,\n",
    "    font_size=13,\n",
    "    font_color='black',\n",
    ")\n",
    "\n",
    "fig.update_traces(\n",
    "    customdata = np.column_stack((\n",
    "    loc_satisfaction['Popularity'],\n",
    "    loc_satisfaction['Satisfaction']\n",
    ")),\n",
    "    hovertemplate=\"<b>%{y}</b><br>Satisfaction: %{customdata[1]}<br>Popularity: %{customdata[0]:.1f}K<extra></extra>\",\n",
    "    texttemplate='%{customdata[0]}',\n",
    "    textposition='outside',\n",
    "    marker=dict(line=dict(color=\"#000000\", width=0.5)),\n",
    "    textfont=dict(size=30, color='black')\n",
    ")\n",
    "\n",
    "fig.update_coloraxes(colorbar=dict(\n",
    "    title=dict(\n",
    "        text=\"Satisfaction\", \n",
    "        font=dict(size=14),\n",
    "    ),         \n",
    "    tickvals=[1, 2, 3, 4],  \n",
    "    ticktext=['1', '2', '3', '4'],\n",
    "    ticks='inside',\n",
    "    thickness=30,\n",
    "    tickfont=dict(color='black')\n",
    "))\n",
    "\n",
    "\n",
    "fig.show()\n"
   ]
  }
 ],
 "metadata": {
  "kernelspec": {
   "display_name": "base",
   "language": "python",
   "name": "python3"
  },
  "language_info": {
   "codemirror_mode": {
    "name": "ipython",
    "version": 3
   },
   "file_extension": ".py",
   "mimetype": "text/x-python",
   "name": "python",
   "nbconvert_exporter": "python",
   "pygments_lexer": "ipython3",
   "version": "3.11.7"
  }
 },
 "nbformat": 4,
 "nbformat_minor": 5
}
